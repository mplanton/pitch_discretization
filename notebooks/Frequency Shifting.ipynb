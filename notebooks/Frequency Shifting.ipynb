{
 "cells": [
  {
   "cell_type": "markdown",
   "metadata": {},
   "source": [
    "# Frequency Shifting\n",
    "\n",
    "Explore frequency shifting via _single sideband modulation_ (SSB).\n",
    "We start at the effects of _amplitude modulation_ and introduce the _Hilbert transform_ and the _analytical signal_ to develop SSB.\n",
    "\n",
    "For more information see **DAFX - Zölzer (Ch. Modulators and demodulators)**\n",
    "\n",
    "\n",
    "## Amplitude Modulation\n",
    "\n",
    "A signal $x$ is multiplied by a harmonic function:\n",
    "\n",
    "$$x_{AM} =  (A_c + A_m \\cdot x) \\cdot cos(\\Omega t)$$"
   ]
  },
  {
   "cell_type": "code",
   "execution_count": null,
   "metadata": {},
   "outputs": [],
   "source": [
    "import numpy as np\n",
    "from ipywidgets import *\n",
    "import IPython.display as ipd\n",
    "from scipy.io import wavfile\n",
    "import scipy.signal as signal\n",
    "import matplotlib.pyplot as plt\n",
    "plt.rcParams['figure.figsize'] = [15, 3]\n",
    "\n",
    "fs, x = wavfile.read(\"../../samples/Toms_diner.wav\")\n",
    "x = x / np.abs(x.max())\n",
    "\n",
    "plt.plot(x)\n",
    "plt.title(\"original\")\n",
    "ipd.Audio(x, rate=fs)"
   ]
  },
  {
   "cell_type": "code",
   "execution_count": null,
   "metadata": {},
   "outputs": [],
   "source": [
    "t = np.linspace(0, x.size/fs, x.size)\n",
    "f = 80 # Hz\n",
    "w = 2 * np.pi * f\n",
    "carrier = np.cos(w * t)\n",
    "\n",
    "plt.plot(carrier)\n",
    "plt.title(\"carrier\")"
   ]
  },
  {
   "cell_type": "code",
   "execution_count": null,
   "metadata": {},
   "outputs": [],
   "source": [
    "A_c = 1\n",
    "A_m = 0.5\n",
    "x_am = (A_c + A_m * x) * carrier\n",
    "\n",
    "plt.plot(x_am)\n",
    "plt.title(\"modulated signal\")\n",
    "ipd.Audio(x_am, rate=fs)"
   ]
  },
  {
   "cell_type": "markdown",
   "metadata": {},
   "source": [
    "Let's consider, what the AM does to the spectrum of a signal.\n",
    "For a single sinusoid as input signal $x$, the resulting spectrum is a carrier bin and an upper and a lower side band.\n",
    "These are spaced around the carrier bin by the frequency $\\omega$."
   ]
  },
  {
   "cell_type": "code",
   "execution_count": null,
   "metadata": {},
   "outputs": [],
   "source": [
    "# let's define a function for plotting the magnitude spectrum\n",
    "from scipy.fft import rfft, fft, rfftfreq, fftfreq\n",
    "\n",
    "def plot_mag_spec(sig, fs, name=\"\", negative=False, f_range=(20, 20000), db_range=(0, 100)):\n",
    "    w = signal.hann(sig.size)\n",
    "    if negative == False:\n",
    "        # just positive frequencies\n",
    "        freq = rfftfreq(sig.size, 1 / fs)\n",
    "        mag = 20*np.log10(np.abs(rfft(sig*w)))\n",
    "        plt.semilogx(freq, mag)\n",
    "        plt.xlim(f_range)\n",
    "    else:\n",
    "        # positive and negative frequencies\n",
    "        freq = fftfreq(sig.size, 1 / fs)\n",
    "        mag = 20*np.log10(np.abs(fft(sig*w)))\n",
    "        plt.plot(freq[1:], mag[1:]) # omit 0Hz\n",
    "        plt.xlim((-f_range[1], f_range[1]))\n",
    "        plt.xscale('symlog')\n",
    "    plt.ylim(db_range)\n",
    "    plt.xlabel(\"f [Hz]\")\n",
    "    plt.ylabel(\"amplitude [dB]\")\n",
    "    plt.title(name)\n",
    "    plt.show()\n",
    "\n",
    "# and a function to return magnitude and frequencies\n",
    "def mag_spec(sig, fs, name=\"\", negative=False):\n",
    "    if negative == False:\n",
    "        freq = rfftfreq(sig.size, 1 / fs)\n",
    "        mag = 20*np.log10(np.abs(rfft(sig)))\n",
    "    else:\n",
    "        freq = fftfreq(sig.size, 1 / fs)\n",
    "        mag = 20*np.log10(np.abs(fft(sig)))\n",
    "    return freq, mag"
   ]
  },
  {
   "cell_type": "code",
   "execution_count": null,
   "metadata": {},
   "outputs": [],
   "source": [
    "# interactive AM spectrum\n",
    "def AM(f_carrier=1000, f=500):\n",
    "    # generate signals\n",
    "    fs = 44100\n",
    "    dur = 0.02\n",
    "    t = np.arange(0, dur, dur/fs)\n",
    "    carrier = np.cos(2*np.pi*f_carrier*t)\n",
    "    x = np.cos(2*np.pi*f*t)\n",
    "    a_carrier = 1\n",
    "    a = 0.25\n",
    "    x_am = (a_carrier + a * x) * carrier\n",
    "    plot_mag_spec(x_am, fs, \"AM spectrum\", True)\n",
    "\n",
    "interact(AM);"
   ]
  },
  {
   "cell_type": "markdown",
   "metadata": {},
   "source": [
    "This simple case shows, what happens to every frequency in the base band spectrum, which is an audio signal for instance.\n",
    "What happens is, that the spectrum of every real signal is symmetrical around the frequency zero.\n",
    "The amplitude modulation shifts this symmetric spectrum to the carrier frequency\n",
    "($\\Omega + \\omega$ and $\\Omega - \\omega$).\n",
    "\n",
    "Let's see, what happens to bandlimited noise as base band signal:"
   ]
  },
  {
   "cell_type": "code",
   "execution_count": null,
   "metadata": {},
   "outputs": [],
   "source": [
    "sig_len = 1024\n",
    "fs = 44100\n",
    "x = np.random.normal(0, 1, sig_len)\n",
    "\n",
    "# lowpass filter\n",
    "fc = 100\n",
    "sos = signal.butter(6, fc, btype='lowpass', analog=False, output='sos', fs=fs)\n",
    "x = signal.sosfilt(sos, x)\n",
    "\n",
    "plot_mag_spec(x, fs, name=\"bandlimited noise spectrum\", db_range=(-10, 30))"
   ]
  },
  {
   "cell_type": "code",
   "execution_count": null,
   "metadata": {},
   "outputs": [],
   "source": [
    "f_carrier = 500\n",
    "t = np.linspace(0, sig_len/fs, sig_len)\n",
    "carrier = np.cos(2*np.pi*f_carrier*t)\n",
    "A_c = 1\n",
    "A_m = 1\n",
    "x_am = (A_c + A_m * x) * carrier\n",
    "\n",
    "plot_mag_spec(x_am, fs, name=\"AM with baseband spectrum\", db_range=(-10, 60))"
   ]
  },
  {
   "cell_type": "markdown",
   "metadata": {},
   "source": [
    "So, the whole symmetric spectrum gets shifted up by the carrier frequency.\n",
    "It does not look like it is symmetric because of the logarithmic frequency scale, but it is.\n",
    "\n",
    "\n",
    "## The Hilbert Transform and the Analytical Signal\n",
    "\n",
    "For defining the single sideband modulation, we first need the hilbert transform and the concept of the analytical signal.\n",
    "\n",
    "\n",
    "### Hilbert Transform\n",
    "\n",
    "The Hilbert transform is given by the convolution (from [here](https://de.wikipedia.org/wiki/Hilbert-Transformation))\n",
    "\n",
    "$$g(x) = f(x) * \\frac{1}{\\pi x}.$$\n",
    "\n",
    "The Fourier transform of the continuous Hilbert transform is given by\n",
    "\n",
    "$$H_H(j\\omega) = -j \\cdot sgn(\\omega)$$\n",
    "\n",
    "This corresponds to a phase shift of $\\pi/2$ or $+90^°$ for negative frequencies and of $-\\pi/2$ or $-90^°$ for positive frequencies.\n",
    "\n",
    "The discrete Hilbert transform can be done by the non causal FIR filter given by the impulse response:\n",
    "\n",
    "$$\n",
    "h[n] = \\frac{1 - cos(\\pi n)}{\\pi n} = \\begin{cases} 2/\\pi n & for\\: n \\: odd \\\\ 0 & for\\: n \\: even \\end{cases}\n",
    "$$\n",
    "\n",
    "To make the filter causal, $h[n]$ is truncated to a finite length $N$ and time shifted to causality.\n",
    "Because of that, the FIR Hilbert filter requires a compensation delay of the other signals, which do not use this filter.\n",
    "\n",
    "\n",
    "### Analytic Signal\n",
    "\n",
    "The analytic signal $x_a[n]$ is a complex signal whose imaginary part is the Hilbert transform ($H(\\cdot)$) of the real part according to the real signal $x[n]$:\n",
    "\n",
    "$$x_a[n] = x[n] + jH(x[n])$$\n",
    "\n",
    "In the continuous frequency domain, this is\n",
    "\n",
    "$$X_a(j\\omega) = X(j\\omega) + sgn(j\\omega) \\cdot X(j\\omega)$$\n",
    "\n",
    "The analytic signal has a single sided spectrum which is not symmetric like spectra of real signals.\n",
    "\n",
    "With the analytic signal $x_a[n]$, we can calculate\n",
    "\n",
    "* the **amplitude envelope** of $x[n]$\n",
    "\n",
    "* the **instantaneous phase** of $x[n]$\n",
    "\n",
    "\n",
    "### Implementing the Analytical Signal\n",
    "\n",
    "Scipy provides a function [scipy.signal.hilbert()](https://docs.scipy.org/doc/scipy/reference/generated/scipy.signal.hilbert.html#r37d8c8a6fd16-1) for generating the analytical signal $x_a[n]$ to the real signal $x[n]$.\n",
    "Let's determine the amplitude envelope and instantaneous frequency of an amplitude-modulated signal (taken from the link above)."
   ]
  },
  {
   "cell_type": "code",
   "execution_count": null,
   "metadata": {},
   "outputs": [],
   "source": [
    "from scipy.signal import hilbert, chirp\n",
    "\n",
    "dur = 1\n",
    "fs = 44100\n",
    "samples = int(fs*dur)\n",
    "t = np.arange(samples) / fs\n",
    "\n",
    "# chirp from 20Hz to 100Hz\n",
    "x = chirp(t, 20.0, t[-1], 100.0)\n",
    "\n",
    "# apply amplitude modulation\n",
    "x *= (1.0 + 0.5 * np.sin(2.0*np.pi*3.0*t) )"
   ]
  },
  {
   "cell_type": "markdown",
   "metadata": {},
   "source": [
    "\"The amplitude envelope is given by magnitude of the analytic signal. The instantaneous frequency can be obtained by differentiating the instantaneous phase in respect to time. The instantaneous phase corresponds to the phase angle of the analytic signal.\""
   ]
  },
  {
   "cell_type": "code",
   "execution_count": null,
   "metadata": {},
   "outputs": [],
   "source": [
    "x_a = hilbert(x)\n",
    "\n",
    "amplitude_envelope = np.abs(x_a)\n",
    "instantaneous_phase = np.unwrap(np.angle(x_a))\n",
    "instantaneous_frequency = np.diff(instantaneous_phase) / (2.0*np.pi) * fs\n",
    "\n",
    "# plot\n",
    "fig = plt.figure()\n",
    "ax0 = fig.add_subplot(211)\n",
    "ax0.plot(t, x, label='x[n]')\n",
    "ax0.plot(t, amplitude_envelope, label='envelope')\n",
    "ax0.set_xlabel(\"time in seconds\")\n",
    "ax0.legend()\n",
    "ax1 = fig.add_subplot(212)\n",
    "ax1.plot(t[1:], instantaneous_frequency)\n",
    "ax1.set_xlabel(\"time in seconds\")\n",
    "ax1.set_ylim(0.0, 120.0)"
   ]
  },
  {
   "cell_type": "markdown",
   "metadata": {},
   "source": [
    "## Single Sideband Modulation (SSB)\n",
    "\n",
    "The Hilbert transform is used to just generate the upper or the lower sideband (from DAFX - Zölzer).\n",
    "Given the carrier signal $x[n]$ and the modulator signal $m[n]:$\n",
    "\n",
    "$$USB[n] = x[n] m[n] - H(x[n]) H(m[n])$$\n",
    "$$LSB[n] = x[n] m[n] + H(x[n]) H(m[n])$$\n",
    "\n",
    "For real-time implementations, the compensation delays according to the Hilbert filter have to be applied to the untransformed signals.\n",
    "\n",
    "Let's do SSB with bandlimited noise:"
   ]
  },
  {
   "cell_type": "code",
   "execution_count": null,
   "metadata": {},
   "outputs": [],
   "source": [
    "# modulator m[n]\n",
    "sig_len = 4096\n",
    "fs = 44100\n",
    "m = np.random.normal(0, 1, sig_len)\n",
    "fc = 200\n",
    "sos = signal.butter(6, fc, btype='lowpass', analog=False, output='sos', fs=fs)\n",
    "m = signal.sosfilt(sos, m)\n",
    "\n",
    "# carrier x[n]\n",
    "f_c = 500\n",
    "t = np.linspace(0, sig_len/fs, sig_len)\n",
    "x = np.cos(2*np.pi*f_c*t)\n",
    "\n",
    "# calculate the upper side band\n",
    "usb = x * m - hilbert(x) * hilbert(m)\n",
    "lsb = x * m + hilbert(x) * hilbert(m)\n",
    "\n",
    "plot_mag_spec(m, fs, \"modulator\", negative=True, db_range=(-20, 40))\n",
    "plot_mag_spec(usb, fs, \"USB\", negative=True, db_range=(-20, 40))\n",
    "plot_mag_spec(lsb, fs, \"LSB\", negative=True, db_range=(-20, 40))\n",
    "\n",
    "# TODO: Warum sind die so ähnlich? -> Mit 2 sinüsse unterschiedlicher Amplitude als Modulator versuchen\n",
    "# -> eindeutige Ergebnisse\n",
    "# Ist die Formel für USB und LSB richtig? Anders im Paper für Frequency shifter"
   ]
  }
 ],
 "metadata": {
  "kernelspec": {
   "display_name": "Python 3",
   "language": "python",
   "name": "python3"
  },
  "language_info": {
   "codemirror_mode": {
    "name": "ipython",
    "version": 3
   },
   "file_extension": ".py",
   "mimetype": "text/x-python",
   "name": "python",
   "nbconvert_exporter": "python",
   "pygments_lexer": "ipython3",
   "version": "3.8.5"
  }
 },
 "nbformat": 4,
 "nbformat_minor": 4
}
