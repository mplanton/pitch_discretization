{
 "cells": [
  {
   "cell_type": "markdown",
   "metadata": {},
   "source": [
    "# Frequency Shifting\n",
    "\n",
    "Explore frequency shifting via _single sideband modulation_ (SSB).\n",
    "We start at the effects of _amplitude modulation_ and introduce the _Hilbert transform_ and the _analytical signal_ to develop SSB.\n",
    "\n",
    "For more information see **DAFX - Zölzer (Ch. Modulators and demodulators)** and Wikipedia.\n",
    "\n",
    "\n",
    "## Amplitude Modulation\n",
    "\n",
    "A signal $x$ is multiplied by a harmonic function:\n",
    "\n",
    "$$x_{AM} =  (A_c + A_m \\cdot x) \\cdot cos(\\Omega t)$$"
   ]
  },
  {
   "cell_type": "code",
   "execution_count": null,
   "metadata": {},
   "outputs": [],
   "source": [
    "# load needed modules\n",
    "import numpy as np\n",
    "from ipywidgets import *\n",
    "import IPython.display as ipd\n",
    "from scipy.io import wavfile\n",
    "import scipy.signal as signal\n",
    "import matplotlib.pyplot as plt\n",
    "plt.rcParams['figure.figsize'] = [15, 3]\n",
    "from scipy.fft import rfft, fft, rfftfreq, fftfreq\n",
    "from scipy.signal import hilbert, chirp\n",
    "\n",
    "# load an audio signal\n",
    "fs, x = wavfile.read(\"../../samples/Toms_diner.wav\")\n",
    "x = x / np.abs(x.max())\n",
    "\n",
    "plt.plot(x)\n",
    "plt.title(\"original\")\n",
    "ipd.Audio(x, rate=fs)"
   ]
  },
  {
   "cell_type": "code",
   "execution_count": null,
   "metadata": {},
   "outputs": [],
   "source": [
    "# generate the carrier signal\n",
    "t = np.linspace(0, x.size/fs, x.size)\n",
    "f = 80 # Hz\n",
    "w = 2 * np.pi * f\n",
    "carrier = np.cos(w * t)\n",
    "\n",
    "plt.plot(carrier)\n",
    "plt.title(\"carrier\")"
   ]
  },
  {
   "cell_type": "code",
   "execution_count": null,
   "metadata": {},
   "outputs": [],
   "source": [
    "# do the amplitude modulation\n",
    "A_c = 1\n",
    "A_m = 0.5\n",
    "x_am = (A_c + A_m * x) * carrier\n",
    "\n",
    "plt.plot(x_am)\n",
    "plt.title(\"modulated signal\")\n",
    "ipd.Audio(x_am, rate=fs)"
   ]
  },
  {
   "cell_type": "markdown",
   "metadata": {},
   "source": [
    "Let's consider, what the AM does to the spectrum of a signal.\n",
    "For a single sinusoid as input signal $x$, the resulting spectrum is a carrier bin and an upper and a lower side band.\n",
    "These are spaced around the carrier bin by the frequency $\\omega$."
   ]
  },
  {
   "cell_type": "code",
   "execution_count": null,
   "metadata": {},
   "outputs": [],
   "source": [
    "# let's define a function for plotting the magnitude spectrum\n",
    "def plot_mag_spec(sig, fs, name=\"\", negative=False, f_range=(20, 20000), db_range=(-40, 0), f_log=True):\n",
    "    \"\"\"\n",
    "    Plot the magnitude spectrum of the signal 'sig'.\n",
    "    sig:    signal to be analyzed\n",
    "    fs:     sampling rate of sig\n",
    "    name:   name of the plotted spectrum\n",
    "    negative: show negative frequencies (default: False)\n",
    "    f_range: define a frequency range for the spectrum (default: 20Hz to 20kHz)\n",
    "    db_range: define a magnitude range in dB for the spectrum (default: 0dB to 100dB)\n",
    "    f_log:  logarithmic or linear frequency axis? (default: True is logarithmic)\n",
    "    \"\"\"\n",
    "    w = signal.hann(sig.size) # window\n",
    "    if negative == False:\n",
    "        # just positive frequencies\n",
    "        freq = rfftfreq(sig.size, 1 / fs)\n",
    "        mag = 20*np.log10(np.abs((1/sig.size)*rfft(sig*w)))\n",
    "        if f_log == True:\n",
    "            plt.semilogx(freq, mag)\n",
    "        else:\n",
    "            plt.plot(freq, mag)\n",
    "        plt.xlim(f_range)\n",
    "    else:\n",
    "        # positive and negative frequencies\n",
    "        freq = fftfreq(sig.size, 1 / fs)\n",
    "        mag = 20*np.log10(np.abs((1/sig.size)*fft(sig*w)))\n",
    "        if f_log == True:\n",
    "            freq = freq[1:] # omit 0Hz\n",
    "            mag = mag[1:]\n",
    "        plt.plot(freq, mag)\n",
    "        plt.xlim((-f_range[1], f_range[1]))\n",
    "        if f_log == True:\n",
    "            plt.xscale('symlog')\n",
    "    plt.ylim(db_range)\n",
    "    plt.xlabel(\"f [Hz]\")\n",
    "    plt.ylabel(\"amplitude [dB]\")\n",
    "    plt.title(name)\n",
    "    plt.show()"
   ]
  },
  {
   "cell_type": "code",
   "execution_count": null,
   "metadata": {},
   "outputs": [],
   "source": [
    "# interactive AM spectrum\n",
    "def AM(f_carrier=5000, f=1000):\n",
    "    # generate signals\n",
    "    fs = 44100\n",
    "    dur = 0.02\n",
    "    t = np.linspace(0, dur, round(dur*fs))\n",
    "    carrier = np.cos(2*np.pi*f_carrier*t)\n",
    "    x = np.cos(2*np.pi*f*t)\n",
    "    a_carrier = 1\n",
    "    a = 0.25\n",
    "    x_am = (a_carrier + a * x) * carrier\n",
    "    plot_mag_spec(x_am, fs, \"AM spectrum\", negative=True, f_log=False)\n",
    "\n",
    "interact(AM);"
   ]
  },
  {
   "cell_type": "markdown",
   "metadata": {},
   "source": [
    "This simple case shows, what happens to every frequency in the base band spectrum, which is an audio signal for instance.\n",
    "What happens is, that the spectrum of every real signal is symmetrical around $f = 0$.\n",
    "The amplitude modulation shifts this symmetric spectrum to the carrier frequency\n",
    "($\\Omega + \\omega$ and $\\Omega - \\omega$).\n",
    "\n",
    "Let's see, what happens to bandlimited noise as base band signal:"
   ]
  },
  {
   "cell_type": "code",
   "execution_count": null,
   "metadata": {},
   "outputs": [],
   "source": [
    "sig_len = 20*1024\n",
    "fs = 44100\n",
    "x = np.random.normal(0, 1, sig_len)\n",
    "\n",
    "# lowpass filter\n",
    "fc = 1000\n",
    "sos = signal.butter(6, fc, btype='lowpass', analog=False, output='sos', fs=fs)\n",
    "x = signal.sosfilt(sos, x)\n",
    "\n",
    "plot_mag_spec(x, fs, name=\"bandlimited noise spectrum\", db_range=(-50, -30), f_log=False)"
   ]
  },
  {
   "cell_type": "code",
   "execution_count": null,
   "metadata": {},
   "outputs": [],
   "source": [
    "f_carrier = 5000\n",
    "t = np.linspace(0, sig_len/fs, sig_len)\n",
    "carrier = np.cos(2*np.pi*f_carrier*t)\n",
    "A_c = 1\n",
    "A_m = 1\n",
    "x_am = (A_c + A_m * x) * carrier\n",
    "\n",
    "plot_mag_spec(x_am, fs, name=\"AM with baseband spectrum\", db_range=(-60, -10), f_log=False)"
   ]
  },
  {
   "cell_type": "markdown",
   "metadata": {},
   "source": [
    "So, the whole symmetric spectrum gets shifted up by the carrier frequency.\n",
    "\n",
    "\n",
    "## The Hilbert Transform and the Analytical Signal\n",
    "\n",
    "For defining the single sideband modulation, we first need the hilbert transform and the concept of the analytical signal.\n",
    "\n",
    "\n",
    "### Hilbert Transform\n",
    "\n",
    "The Hilbert transform is given by the convolution (from [here](https://de.wikipedia.org/wiki/Hilbert-Transformation))\n",
    "\n",
    "$$g(t) = f(t) * \\frac{1}{\\pi t}.$$\n",
    "\n",
    "The Fourier transform of the continuous Hilbert transform is given by\n",
    "\n",
    "$$H_H(j\\omega) = -j \\cdot sgn(\\omega)$$\n",
    "\n",
    "This corresponds to a phase shift of $\\pi/2$ or $+90^°$ for negative frequencies and of $-\\pi/2$ or $-90^°$ for positive frequencies.\n",
    "\n",
    "The discrete Hilbert transform can be done by the non causal FIR filter given by the impulse response:\n",
    "\n",
    "$$\n",
    "h[n] = \\frac{1 - cos(\\pi n)}{\\pi n} = \\begin{cases} 2/\\pi n & for\\: n \\: odd \\\\ 0 & for\\: n \\: even \\end{cases}\n",
    "$$\n",
    "\n",
    "To make the filter causal, $h[n]$ is truncated to a finite length $N$ and time shifted to causality.\n",
    "Because of that, the FIR Hilbert filter requires a compensation delay of the other signals, which do not use this filter.\n",
    "Note, that the discrete Hilbert transform is not the sampled continuous Hilbert transform.\n",
    "\n",
    "\n",
    "### Analytic Signal\n",
    "\n",
    "The analytic signal $x_a[n]$ is a complex signal whose imaginary part is the Hilbert transform ($H(\\cdot)$) of the real part according to the real signal $x[n]$:\n",
    "\n",
    "$$x_a[n] = x[n] + jH(x[n])$$\n",
    "\n",
    "The analytic signal has a **single sided spectrum** which is not symmetric like spectra of real signals.\n",
    "\n",
    "With the analytic signal $x_a[n]$, we can calculate\n",
    "\n",
    "* the *amplitude envelope* of $x[n]$\n",
    "\n",
    "* the *instantaneous phase* of $x[n]$\n",
    "\n",
    "\n",
    "### Implementing the Analytical Signal\n",
    "\n",
    "Scipy provides a function [scipy.signal.hilbert()](https://docs.scipy.org/doc/scipy/reference/generated/scipy.signal.hilbert.html#r37d8c8a6fd16-1) for generating the analytical signal $x_a[n]$ to the real signal $x[n]$.\n",
    "Let's determine the amplitude envelope and instantaneous frequency of an amplitude-modulated signal (taken from the link above)."
   ]
  },
  {
   "cell_type": "code",
   "execution_count": null,
   "metadata": {},
   "outputs": [],
   "source": [
    "dur = 1\n",
    "fs = 44100\n",
    "samples = int(fs*dur)\n",
    "t = np.arange(samples) / fs\n",
    "\n",
    "# chirp from 20Hz to 100Hz\n",
    "x = chirp(t, 20.0, t[-1], 100.0)\n",
    "\n",
    "# apply amplitude modulation\n",
    "x *= (1.0 + 0.5 * np.sin(2.0*np.pi*3.0*t) )"
   ]
  },
  {
   "cell_type": "markdown",
   "metadata": {},
   "source": [
    "* \"The amplitude envelope is given by magnitude of the analytic signal.\n",
    "* The instantaneous frequency can be obtained by differentiating the instantaneous phase in respect to time.\n",
    "* The instantaneous phase corresponds to the phase angle of the analytic signal.\""
   ]
  },
  {
   "cell_type": "code",
   "execution_count": null,
   "metadata": {},
   "outputs": [],
   "source": [
    "x_a = hilbert(x)\n",
    "\n",
    "amplitude_envelope = np.abs(x_a)\n",
    "instantaneous_phase = np.unwrap(np.angle(x_a))\n",
    "instantaneous_frequency = np.diff(instantaneous_phase) / (2.0*np.pi) * fs\n",
    "\n",
    "# plot\n",
    "fig = plt.figure()\n",
    "ax0 = fig.add_subplot(211)\n",
    "ax0.plot(t, x, label='x[n]')\n",
    "ax0.plot(t, amplitude_envelope, label='envelope')\n",
    "ax0.set_xlabel(\"time in seconds\")\n",
    "ax0.legend()\n",
    "ax1 = fig.add_subplot(212)\n",
    "ax1.plot(t[1:], instantaneous_frequency)\n",
    "ax1.set_xlabel(\"time in seconds\")\n",
    "ax1.set_ylim(0.0, 120.0)"
   ]
  },
  {
   "cell_type": "markdown",
   "metadata": {},
   "source": [
    "## Single Sideband Modulation (SSB)\n",
    "\n",
    "(from [wiki](https://en.wikipedia.org/wiki/Single-sideband_modulation))\n",
    "\n",
    "The AM spectrum consists of the carrier signal and the two symmetric side bands.\n",
    "This is a lot of unneeded information, which uses up bandwidth.\n",
    "All the information is contained in one side band.\n",
    "\n",
    "The analytical signal is used to just get the upper or the lower side band of a spectrum.\n",
    "Given are the carrier signal $x[n]$ and the modulator signal $m[n]$.\n",
    "(For real-time implementations, the compensation delays according to the Hilbert filter have to be applied to the untransformed signals.)\n",
    "\n",
    "Let's do SSB with a base band signal consisting of three harmonically spaced sinusoids:"
   ]
  },
  {
   "cell_type": "code",
   "execution_count": null,
   "metadata": {},
   "outputs": [],
   "source": [
    "# generate base band signal\n",
    "fs = 44100\n",
    "sig_len = 20*1024\n",
    "t = np.linspace(0, sig_len/fs, sig_len)\n",
    "\n",
    "s1 = np.cos(2*np.pi*1000*t)\n",
    "s2 = 0.3 * np.cos(2*np.pi*2000*t)\n",
    "s3 = 0.1 * np.cos(2*np.pi*3000*t)\n",
    "m = s1 + s2 + s3\n",
    "\n",
    "plot_mag_spec(m, fs, \"modulator base band spectrum\", negative=True, f_log=False)"
   ]
  },
  {
   "cell_type": "markdown",
   "metadata": {},
   "source": [
    "Now we generate the analytic signal $m_a[n] = m[n] + jH(m[n])$"
   ]
  },
  {
   "cell_type": "code",
   "execution_count": null,
   "metadata": {},
   "outputs": [],
   "source": [
    "m_a = hilbert(m)\n",
    "plot_mag_spec(m_a, fs, \"analytic signal spectrum\", negative=True, f_log=False)"
   ]
  },
  {
   "cell_type": "markdown",
   "metadata": {},
   "source": [
    "The spectrum of the analytical signal of the modulator base band signal is single sided.\n",
    "The modulation for shifting the base band signal to a higher frequency band takes a complex harmonic function:\n",
    "\n",
    "$$m_{SSBa} = m_{SSB} + jH(m_{SSB}) = \\mathcal{F}^{-1}\\{M_a(f-f_0)\\} = m_a(t) \\cdot e^{j 2 \\pi f_0 t}$$\n",
    "\n",
    "$$m_{SSBa} = m_a(t) \\cdot (cos(2 \\pi f_0 t) + j\\: sin(2 \\pi f_0 t))$$"
   ]
  },
  {
   "cell_type": "code",
   "execution_count": null,
   "metadata": {},
   "outputs": [],
   "source": [
    "# modulation\n",
    "f0 = 10000\n",
    "x = np.exp(1j*2*np.pi*f0*t)\n",
    "m_ssba = m_a * x\n",
    "\n",
    "plot_mag_spec(m_ssba, fs, \"modulated analytic signal spectrum\", negative=True, f_log=False)"
   ]
  },
  {
   "cell_type": "markdown",
   "metadata": {},
   "source": [
    "Since a complex signal cannot be sent over a single transmission medium, we just send the real part of the modulated single sideband signal.\n",
    "The spectrum of the real part is again symmetric around $f=0$."
   ]
  },
  {
   "cell_type": "code",
   "execution_count": null,
   "metadata": {},
   "outputs": [],
   "source": [
    "m_ssb = m_ssba.real\n",
    "\n",
    "plot_mag_spec(m_ssb, fs, \"SSB spectrum\", negative=True, f_log=False)"
   ]
  },
  {
   "cell_type": "markdown",
   "metadata": {},
   "source": [
    "## Audio Frequency Shifting\n",
    "\n",
    "So let's take the communication theory and shift some real audio with SSB."
   ]
  },
  {
   "cell_type": "code",
   "execution_count": null,
   "metadata": {},
   "outputs": [],
   "source": [
    "# load the original audio signal\n",
    "fs, m = wavfile.read(\"../../samples/Toms_diner.wav\")\n",
    "m = m / np.abs(m.max())\n",
    "\n",
    "plot_mag_spec(m, fs, \"original spectrum\", db_range=(-100, -35))\n",
    "ipd.Audio(m, rate=fs)"
   ]
  },
  {
   "cell_type": "code",
   "execution_count": null,
   "metadata": {},
   "outputs": [],
   "source": [
    "# do frequency shifting\n",
    "f_shift = 100\n",
    "\n",
    "t = np.linspace(0, m.size/fs, m.size)\n",
    "x = np.exp(1j*2*np.pi*f_shift*t)\n",
    "\n",
    "m_shifted = (hilbert(m) * x).real\n",
    "\n",
    "plot_mag_spec(m_shifted, fs, \"frequency shifted spectrum\", db_range=(-100, -35))\n",
    "ipd.Audio(m_shifted, rate=fs)"
   ]
  }
 ],
 "metadata": {
  "kernelspec": {
   "display_name": "Python 3",
   "language": "python",
   "name": "python3"
  },
  "language_info": {
   "codemirror_mode": {
    "name": "ipython",
    "version": 3
   },
   "file_extension": ".py",
   "mimetype": "text/x-python",
   "name": "python",
   "nbconvert_exporter": "python",
   "pygments_lexer": "ipython3",
   "version": "3.8.5"
  }
 },
 "nbformat": 4,
 "nbformat_minor": 4
}
