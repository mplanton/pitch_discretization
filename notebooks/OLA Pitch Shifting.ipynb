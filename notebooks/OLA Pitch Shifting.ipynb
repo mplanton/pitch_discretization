{
 "cells": [
  {
   "cell_type": "markdown",
   "metadata": {},
   "source": [
    "# Time Variant Pitch Shifting by Time Scale Modification via Overlap and Add and Resampling\n",
    "\n",
    "This pitch-shifting algorithm should take a time variant pitch-shifting factor $\\rho$ for time variant pitch-shifting.\n",
    "\n",
    "First import the needed modules:"
   ]
  },
  {
   "cell_type": "code",
   "execution_count": null,
   "metadata": {},
   "outputs": [],
   "source": [
    "import numpy as np\n",
    "import matplotlib.pyplot as plt\n",
    "\n",
    "# define default samplerate of 44100Hz and not 22050Hz for librosa\n",
    "# and fft length and hop size\n",
    "from presets import Preset\n",
    "import librosa as _librosa\n",
    "import librosa.display as _display\n",
    "_librosa.display = _display\n",
    "librosa = Preset(_librosa)\n",
    "librosa['sr'] = 44100\n",
    "librosa['n_fft'] = 4096\n",
    "librosa_hop_len = 2048\n",
    "librosa['hop_length'] = librosa_hop_len\n",
    "\n",
    "import IPython"
   ]
  },
  {
   "cell_type": "markdown",
   "metadata": {},
   "source": [
    "## Time Invariant Algorithm\n",
    "\n",
    "Let's develop a time invariant pitch-shifting algorithm with constant pitch-shifting factor $\\beta$ as opposed to the time variant pitch-shifting factor $\\rho[n]$.\n",
    "\n",
    "We will resample the signal to change its pitch or fundamental frequency.\n",
    "Because this changes the length of the signal, we use a TSM (time scale modification) method to preserve the duration of the original signal.\n",
    "The time duration of the resampled signal should be scaled by the time scaling factor $\\alpha$.\n",
    "\n",
    "Let's suppose we want to shift the pitch of a sinosoid up by an octave.\n",
    "We define the pitch shifting factor $\\beta$ as $\\beta = \\frac{f_{out}}{f_0}$, where $f_0$ is the frequency of the original sinusoid and $f_{out}$ is the target frequency or the frequency of the pitch shifted signal."
   ]
  },
  {
   "cell_type": "markdown",
   "metadata": {},
   "source": [
    "### Resampling\n",
    "\n",
    "A signals pitch can be shifted by resampling it.\n",
    "Resampling is done by the resampling factor $r = \\frac{f_{s,orig}}{f_{s,target}}$ where $f_{s,orig}$ is the original sampling rate of the signal and $f_{s,target}$ is the target sampling rate.\n",
    "\n",
    "If we want to increase the frequency of a signal, we want to play it faster.\n",
    "This is equivalent to increasing the sampling rate of our playing device or decreasing the sampling rate $f_{s,target}$ of our signal.\n",
    "Since we want to have a fixed sampling rate for our replaying system, we decrease the sampling rate of our signal to increase its frequency.\n",
    "\n",
    "It follows, that $r = \\frac{f_{s,orig}}{f_{s,target}} = \\frac{1}{\\beta} = \\frac{f_0}{f_{out}}$\n",
    "\n",
    "Let's do an example by increasing the frequency of a signal by an octave with resampling:"
   ]
  },
  {
   "cell_type": "code",
   "execution_count": null,
   "metadata": {
    "scrolled": true
   },
   "outputs": [],
   "source": [
    "f_0 = 500\n",
    "f_out = 2*f_0 # shift by an octave\n",
    "\n",
    "beta = f_out / f_0\n",
    "r = 1 / beta\n",
    "print(\"The original signals frequency is\", f_0, \"Hz.\")\n",
    "print(\"The frequency of the pitch shifted signal is\", f_out, \"Hz.\")\n",
    "print(\"The pitch shifting factor beta is\", beta)\n",
    "print(\"and the resampling factor r is\", r)"
   ]
  },
  {
   "cell_type": "code",
   "execution_count": null,
   "metadata": {},
   "outputs": [],
   "source": [
    "# make the input signal\n",
    "n_samples = 512\n",
    "t = np.linspace(0, 1/n_samples, n_samples)\n",
    "omega = 2 * np.pi * f_0\n",
    "x = np.sin(omega * t)\n",
    "\n",
    "plt.plot(t, x)"
   ]
  },
  {
   "cell_type": "code",
   "execution_count": null,
   "metadata": {},
   "outputs": [],
   "source": [
    "f_s_orig = 44100\n",
    "\n",
    "f_s_target = f_s_orig * r\n",
    "print(\"Original sampling rate is\", f_s_orig, \"and target sampling rate is\", f_s_target)\n",
    "\n",
    "x_resampled = librosa.resample(x, f_s_orig, f_s_target)\n",
    "\n",
    "fig, axs = plt.subplots(2)\n",
    "axs[0].plot(x)\n",
    "axs[0].set_ylabel(\"original\")\n",
    "axs[1].plot(x_resampled)\n",
    "axs[1].set_ylabel(\"resampled\")"
   ]
  },
  {
   "cell_type": "markdown",
   "metadata": {},
   "source": [
    "To make this audible, we make an audio example, using the factors from above:"
   ]
  },
  {
   "cell_type": "code",
   "execution_count": null,
   "metadata": {},
   "outputs": [],
   "source": [
    "# original signal\n",
    "dur = 2 # seconds\n",
    "t = np.arange(0, dur, 1/f_s_orig)\n",
    "x_audio = np.sin(2 * np.pi * f_0 * t)\n",
    "\n",
    "IPython.display.Audio(x_audio, rate=f_s_orig)"
   ]
  },
  {
   "cell_type": "code",
   "execution_count": null,
   "metadata": {},
   "outputs": [],
   "source": [
    "# resampled signal\n",
    "x_audio_resampled = librosa.resample(x_audio, f_s_orig, f_s_target)\n",
    "\n",
    "IPython.display.Audio(x_audio_resampled, rate=f_s_orig)"
   ]
  },
  {
   "cell_type": "markdown",
   "metadata": {},
   "source": [
    "### Time Scale Modification\n",
    "\n",
    "Note, that the resampled signal with now a higher signal-frequency (or pitch) has a shorter length.\n",
    "You can see this by the amount of samples in the diagrams above and by the indicated signal length in the audio player.\n",
    "This has to be fixed by time scale modification according to $\\alpha$.\n",
    "An $\\alpha > 1$ corresponds to time tretching and an $\\alpha < 1$ leads to time compression.\n",
    "\n",
    "For the case of pitch-shifting:\n",
    "\n",
    "$$\\alpha = \\beta$$\n",
    "\n",
    "Let's define a time scale modification function using overlap and add:"
   ]
  },
  {
   "cell_type": "code",
   "execution_count": null,
   "metadata": {},
   "outputs": [],
   "source": [
    "def tsm_ola(x, alpha, N=1024, overlap_factor=4):\n",
    "    \"\"\"\n",
    "    Time Scale Modification by windowed Overlap and Add\n",
    "    x...input signal to be time scaled\n",
    "    alpha...time scale factor (alpha>1: time stretching; alpha<1: time compression)\n",
    "    N...used block length\n",
    "    overlap_factor...number of overlaping analysis blocks\n",
    "    \"\"\"\n",
    "    if(alpha > overlap_factor):\n",
    "        print(\"Error: alpha must be less than or equal to the overlap factor!\")\n",
    "        print(\"Reduce alpha or increase the overlap factor.\")\n",
    "        return None\n",
    "\n",
    "    # window\n",
    "    win = np.hanning(N)\n",
    "\n",
    "    # analysis hop size\n",
    "    Sa = N // overlap_factor\n",
    "    # synthesis hop size\n",
    "    Ss = round(alpha * Sa)\n",
    "\n",
    "    n_blocks = (x.size - N) // Sa\n",
    "    y = np.zeros(round(x.size * alpha))\n",
    "\n",
    "    # first block\n",
    "    last = np.copy(x[:N] * win)\n",
    "    y[:Ss] = last[:Ss]\n",
    "\n",
    "    for i in range(1, n_blocks):\n",
    "        current = x[i*Sa : i*Sa + N] * win\n",
    "\n",
    "        overlap = last[Ss:] + current[:N-Ss]\n",
    "        tail = current[N-Ss:]\n",
    "\n",
    "        last = np.concatenate((overlap, tail))\n",
    "        y[i*Ss:(i+1)*Ss] = last[:Ss]\n",
    "    \n",
    "    return y"
   ]
  },
  {
   "cell_type": "markdown",
   "metadata": {},
   "source": [
    "Now if we apply the time scaling with the $\\alpha = 2$, we successfully did the pitch shift to an octave without altering the length of the signal."
   ]
  },
  {
   "cell_type": "code",
   "execution_count": null,
   "metadata": {},
   "outputs": [],
   "source": [
    "alpha = beta\n",
    "y = tsm_ola(x_audio_resampled, alpha)\n",
    "\n",
    "print(\"alpha:\", alpha, \"beta:\", beta, \"r:\", r)\n",
    "print(\"original signal length:\", x_audio.size)\n",
    "print(\"resampled signal length:\", x_audio_resampled.size)\n",
    "print(\"pitch shifted signal length:\", y.size)\n",
    "plt.plot(y)\n",
    "plt.title(\"pitch shifted signal\")\n",
    "\n",
    "IPython.display.Audio(y, rate=f_s_orig)"
   ]
  },
  {
   "cell_type": "markdown",
   "metadata": {},
   "source": [
    "This algorithm has poor quality and produces a lot of artifacts, but it is simple and it works.\n",
    "The output signal is a pitch shifted version of the input signal.\n",
    "We can hear the amplitude modulation of the windowing.\n",
    "\n",
    "### Pitch-Shifting to a lower pitch\n",
    "\n",
    "Let's try a pitch-shift to a lower pitch.\n",
    "We can omit the calculation of the pitch-shifting factor $\\beta$ and calculate the resampling factor r directly from the signal frequencies."
   ]
  },
  {
   "cell_type": "code",
   "execution_count": null,
   "metadata": {},
   "outputs": [],
   "source": [
    "f_0 = 500   # current signal frequency\n",
    "f_out = 400 # target signal frequency\n",
    "f_s_orig = 44100\n",
    "\n",
    "# signal to be processed\n",
    "dur = 2 # seconds\n",
    "t = np.arange(0, dur, 1/f_s_orig)\n",
    "x_audio = np.sin(2 * np.pi * f_0 * t)\n",
    "\n",
    "# resampling factor r and time scaling factor alpha\n",
    "r = f_0/f_out\n",
    "alpha = 1/r\n",
    "\n",
    "print(\"The original frequency of the signal is\", f_0, \"Hz.\")\n",
    "print(\"and the target frequency of the output signal is\", f_out, \"Hz.\")\n",
    "print(\"So the resampling factor r is\", r, \"and the time scaling factor alpha is\", alpha, \".\")\n",
    "print(\"original length:\", x_audio.size)"
   ]
  },
  {
   "cell_type": "code",
   "execution_count": null,
   "metadata": {},
   "outputs": [],
   "source": [
    "# let's hear the original signal again\n",
    "IPython.display.Audio(x_audio, rate=f_s_orig)"
   ]
  },
  {
   "cell_type": "code",
   "execution_count": null,
   "metadata": {},
   "outputs": [],
   "source": [
    "# resampling\n",
    "x_audio_resampled = librosa.resample(x_audio, f_s_orig, r * f_s_orig)\n",
    "\n",
    "print(\"Original sampling rate is\", f_s_orig, \"and target sampling rate is\", r * f_s_orig)\n",
    "print(\"resampled length:\", x_audio_resampled.size)\n",
    "\n",
    "IPython.display.Audio(x_audio_resampled, rate=f_s_orig)"
   ]
  },
  {
   "cell_type": "code",
   "execution_count": null,
   "metadata": {},
   "outputs": [],
   "source": [
    "y = tsm_ola(x_audio_resampled, alpha, N=2048, overlap_factor=2)\n",
    "\n",
    "print(\"pitch-shifted length:\", y.size)\n",
    "\n",
    "IPython.display.Audio(y, rate=f_s_orig)"
   ]
  },
  {
   "cell_type": "markdown",
   "metadata": {},
   "source": [
    "There is a slight pitch mismatch between the resampled signal `x_audio_resampled` and the final output signal `y`, but otherwise this method works.\n",
    "This might be a consequence of the amplitude modulation because of the windowing and/or of the overlapping segments.\n",
    "If the overlap factor is smaller, the pitch mismatch is decreased."
   ]
  },
  {
   "cell_type": "markdown",
   "metadata": {},
   "source": [
    "### Final Test for the time invariant algorithm\n",
    "\n",
    "Let's make shure, this algorithm works well by testing it with a recording of a singer."
   ]
  },
  {
   "cell_type": "code",
   "execution_count": null,
   "metadata": {},
   "outputs": [],
   "source": [
    "# test of the algorithm\n",
    "x, f_s_orig = librosa.load('../../samples/Toms_diner.wav')\n",
    "\n",
    "IPython.display.Audio(x, rate=f_s_orig)"
   ]
  },
  {
   "cell_type": "code",
   "execution_count": null,
   "metadata": {},
   "outputs": [],
   "source": [
    "# define a pitch-shiftig factor\n",
    "beta = 1.5\n",
    "\n",
    "# resampling\n",
    "r = 1 / beta\n",
    "\n",
    "x_resampled = librosa.resample(x, f_s_orig, r*f_s_orig)\n",
    "\n",
    "# TSM\n",
    "alpha = beta\n",
    "y = tsm_ola(x_resampled, alpha, N=4096, overlap_factor=4)\n",
    "\n",
    "IPython.display.Audio(y, rate=f_s_orig)"
   ]
  },
  {
   "cell_type": "markdown",
   "metadata": {},
   "source": [
    "So, this works.\n",
    "Let's go on to the development of a time variant pitch-shifting algorithm."
   ]
  },
  {
   "cell_type": "markdown",
   "metadata": {},
   "source": [
    "## Time Variant Pitch-Shifting Algorithm\n",
    "\n",
    "The time variant pitch-shifting algorithm takes a time variant pitch-shifting factor $\\rho$ and shifts a singals pitch according to it over time.\n",
    "Let's generate a unique input signal and some random values as $\\rho[n]$ and test the algorithm with it by visually inspecting the waveform in a diagram."
   ]
  },
  {
   "cell_type": "code",
   "execution_count": null,
   "metadata": {},
   "outputs": [],
   "source": [
    "sr = 44100\n",
    "\n",
    "# generate a unique input signal to check, what is going on\n",
    "n_samples = 2048\n",
    "\n",
    "# noise\n",
    "noise = (np.random.rand(n_samples) - 0.5) * 2\n",
    "\n",
    "# sine\n",
    "f = 265\n",
    "omega = 2 * np.pi * f\n",
    "t = np.linspace(0, n_samples / sr, n_samples)\n",
    "sine = np.sin(omega * t)\n",
    "\n",
    "# sawtooth\n",
    "a = 500\n",
    "saw = (((t * a) % 2) - 1)\n",
    "\n",
    "x_part = np.concatenate((noise, sine, saw, noise, sine, saw[::-1], noise, np.zeros(n_samples)))\n",
    "\n",
    "# long unique input signal\n",
    "plt.rcParams['figure.figsize'] = [15, 3]\n",
    "x = np.concatenate((x_part, x_part))\n",
    "plt.plot(x)\n",
    "plt.title(\"longer unique input signal\")"
   ]
  },
  {
   "cell_type": "markdown",
   "metadata": {},
   "source": [
    "### $\\rho$ is analyzed by a pitch tracking algorithm with a certain window-size and hop-size.\n",
    "So generate some data for rho:"
   ]
  },
  {
   "cell_type": "code",
   "execution_count": null,
   "metadata": {},
   "outputs": [],
   "source": [
    "pitch_win_size = 4096\n",
    "pitch_hop_size = 2048\n",
    "\n",
    "# how many pitch marks are needed?\n",
    "n_pitches = (x.size - pitch_win_size) // pitch_hop_size\n",
    "print(n_pitches)"
   ]
  },
  {
   "cell_type": "markdown",
   "metadata": {},
   "source": [
    "### generate a rho around the value 1"
   ]
  },
  {
   "cell_type": "code",
   "execution_count": null,
   "metadata": {},
   "outputs": [],
   "source": [
    "rho = 1 + (np.random.rand(n_pitches) - 0.5) * 0.5\n",
    "\n",
    "plt.plot(rho, 'o')"
   ]
  },
  {
   "cell_type": "markdown",
   "metadata": {},
   "source": [
    "Now we have to resample per block for different resampling factors according to $r = \\frac{1}{\\rho[n]}$ and compensate the length via TSM according to $\\alpha = \\beta = \\rho[n] = 1 / r$.\n",
    "\n",
    "### Let's calculate the parameters for the algorithm:"
   ]
  },
  {
   "cell_type": "code",
   "execution_count": null,
   "metadata": {},
   "outputs": [],
   "source": [
    "# The length of the validity of the pitch marks is the pitch-tracking hop size\n",
    "rho_N = pitch_hop_size\n",
    "\n",
    "# choose an analysis window size and an overlap factor for the pitch-shifting algorithm\n",
    "N = 1024\n",
    "overlap_factor = 2\n",
    "\n",
    "# window\n",
    "win = np.hanning(N)\n",
    "\n",
    "# analysis hop size\n",
    "Sa = N // overlap_factor\n",
    "\n",
    "n_blocks = (x.size - N) // Sa\n",
    "\n",
    "# How many blocks use the same pitch mark?\n",
    "#n_blocks_per_rho = N / rho_N\n",
    "n_blocks_per_rho = rho_N / Sa\n",
    "\n",
    "# format pitch-shifting factor to processing parameters\n",
    "rho_formated = np.repeat(rho, n_blocks_per_rho)\n",
    "\n",
    "# get rid of the last ones... because pitch window size rho_N is greater than block size N\n",
    "n_blocks = rho_formated.size\n",
    "\n",
    "print(n_blocks_per_rho)"
   ]
  },
  {
   "cell_type": "markdown",
   "metadata": {},
   "source": [
    "### And now do the main audio processing:"
   ]
  },
  {
   "cell_type": "code",
   "execution_count": null,
   "metadata": {},
   "outputs": [],
   "source": [
    "y = []\n",
    "\n",
    "# start\n",
    "last = np.zeros(N)\n",
    "\n",
    "# main processing loop\n",
    "for i in range(n_blocks):\n",
    "    # pitch-shifting factor is time-scaling factor\n",
    "    alpha = beta = rho_formated[i]\n",
    "    # time-scaling factor\n",
    "    r = 1 / beta\n",
    "\n",
    "    current = x[i*Sa : i*Sa + N] * win\n",
    "\n",
    "    # resampling\n",
    "    if not np.isnan(r): # voiced\n",
    "        resampled = librosa.resample(current, sr, sr*r)\n",
    "    else: # unvoiced (no pitch shifting)\n",
    "        alpha = 1\n",
    "        resampled = current\n",
    "    \n",
    "    # TSM\n",
    "    Ss = round(alpha * Sa)\n",
    "    overlap = last[Ss:] + current[:N-Ss]\n",
    "    tail = current[N-Ss:]\n",
    "    last = np.concatenate((overlap, tail))\n",
    "    y.append(last[:Ss])\n",
    "y = np.concatenate(y)"
   ]
  },
  {
   "cell_type": "markdown",
   "metadata": {},
   "source": [
    "### Plot the sesult:"
   ]
  },
  {
   "cell_type": "code",
   "execution_count": null,
   "metadata": {},
   "outputs": [],
   "source": [
    "print(\"x.size:\", x.size, \"y.size\", y.size)\n",
    "fig, axs = plt.subplots(2)\n",
    "axs[0].plot(x)\n",
    "axs[0].set_ylabel(\"x\")\n",
    "axs[1].plot(y)\n",
    "axs[1].set_ylabel(\"y\")"
   ]
  },
  {
   "cell_type": "markdown",
   "metadata": {},
   "source": [
    "The output looks kind of OK.\n",
    "`y` is a bit shorter than `x` because we discard the last processing blocks.\n",
    "The most important thing is that the algorithm works.\n",
    "\n",
    "### So test it with a different signal and check it's sound quality:"
   ]
  },
  {
   "cell_type": "code",
   "execution_count": null,
   "metadata": {},
   "outputs": [],
   "source": [
    "# generate a sine input signal\n",
    "sr = 44100\n",
    "dur = 4 # seconds\n",
    "t = np.linspace(0, dur, dur*sr)\n",
    "f_0 = 400\n",
    "x = np.sin(2 * np.pi * f_0 * t)\n",
    "\n",
    "# generate rho as low frequency sine signal around 1\n",
    "pitch_win_size = 4096\n",
    "pitch_hop_size = 1024\n",
    "n_pitches = (x.size - pitch_win_size) // pitch_hop_size\n",
    "t_r = np.linspace(0, dur, n_pitches)\n",
    "f_r = 1\n",
    "r_sin = 0.1 * np.sin(2 * np.pi * f_r * t_r)\n",
    "rho = r_sin + 0.9\n",
    "\n",
    "# plot\n",
    "fig, axs = plt.subplots(2)\n",
    "axs[0].plot(t, x)\n",
    "axs[0].set_ylabel(\"x\")\n",
    "axs[1].plot(t_r, rho, 'o')\n",
    "axs[1].set_ylabel(\"rho\")"
   ]
  },
  {
   "cell_type": "markdown",
   "metadata": {},
   "source": [
    "### Algorithm Parameters:"
   ]
  },
  {
   "cell_type": "code",
   "execution_count": null,
   "metadata": {},
   "outputs": [],
   "source": [
    "# The length of the validity of the pitch marks is the pitch-tracking hop size\n",
    "rho_N = pitch_hop_size\n",
    "\n",
    "# choose an analysis window size and an overlap factor for the pitch-shifting algorithm\n",
    "N = 2048\n",
    "overlap_factor = 4\n",
    "\n",
    "# windowing\n",
    "win = np.hanning(N)\n",
    "\n",
    "# analysis hop size\n",
    "Sa = N // overlap_factor\n",
    "\n",
    "# how many blocks to process\n",
    "n_blocks = (x.size - N) // Sa\n",
    "\n",
    "# How many blocks use the same pitch mark?\n",
    "n_blocks_per_rho = rho_N / Sa\n",
    "\n",
    "# format pitch-shifting factor to processing parameters\n",
    "rho_formated = np.repeat(rho, n_blocks_per_rho)\n",
    "\n",
    "# get rid of the last ones... because pitch window size rho_N is greater than block size N\n",
    "n_blocks = rho_formated.size"
   ]
  },
  {
   "cell_type": "markdown",
   "metadata": {},
   "source": [
    "### Audio Processing:"
   ]
  },
  {
   "cell_type": "code",
   "execution_count": null,
   "metadata": {},
   "outputs": [],
   "source": [
    "# start\n",
    "y = np.zeros(N)\n",
    "\n",
    "# main processing loop\n",
    "for i in range(n_blocks):\n",
    "    # time-scaling factor (alpha=beta=rho[n])\n",
    "    alpha = rho_formated[i]\n",
    "    # resampling factor\n",
    "    r = 1 / alpha\n",
    "\n",
    "    current = x[i*Sa : i*Sa + N] * win\n",
    "\n",
    "    # resampling\n",
    "    if not np.isnan(r): # voiced\n",
    "        resampled = librosa.resample(current, sr, r*sr)\n",
    "    else: # unvoiced (no pitch shifting)\n",
    "        alpha = 1\n",
    "        resampled = current\n",
    "    \n",
    "    # TSM\n",
    "    Ss = round(alpha * Sa)\n",
    "    overlap = y[-(resampled.size - Ss) : ] + resampled[ : resampled.size - Ss]\n",
    "    tail = resampled[resampled.size-Ss:]\n",
    "    y = np.concatenate((y[:-(resampled.size - Ss)], overlap, tail))"
   ]
  },
  {
   "cell_type": "markdown",
   "metadata": {},
   "source": [
    "### Check the result:"
   ]
  },
  {
   "cell_type": "code",
   "execution_count": null,
   "metadata": {},
   "outputs": [],
   "source": [
    "# play x\n",
    "IPython.display.Audio(x, rate=sr)"
   ]
  },
  {
   "cell_type": "code",
   "execution_count": null,
   "metadata": {},
   "outputs": [],
   "source": [
    "# play y\n",
    "IPython.display.Audio(y, rate=sr)"
   ]
  },
  {
   "cell_type": "code",
   "execution_count": null,
   "metadata": {},
   "outputs": [],
   "source": [
    "plt.plot(y)"
   ]
  },
  {
   "cell_type": "markdown",
   "metadata": {},
   "source": [
    "This seems to work, although there are a lot of cancellations with a sine as an input signal.\n",
    "But this is to be expected from this kind of algorithm.\n",
    "The overlap leads to a higher amplitude, but this can be normalized if necessary.\n",
    "\n",
    "So test this algorithm with a musical signal."
   ]
  },
  {
   "cell_type": "markdown",
   "metadata": {},
   "source": [
    "## The final time variant pitch shifting algorithm"
   ]
  },
  {
   "cell_type": "code",
   "execution_count": null,
   "metadata": {},
   "outputs": [],
   "source": [
    "def tv_pitch_shift_ola(x, sr, rho, rho_N, N, overlap_factor):\n",
    "    \"\"\"\n",
    "    x...input signal to be pitch shifted\n",
    "    sr...sample rate of x\n",
    "    rho...time varying pitch-shifting factor\n",
    "    rho_N...window size of the validity of the pitch-shifting factor\n",
    "    N...analysis window size of pitch shifting\n",
    "    overlap_factor...factor of window overlap for OLA\n",
    "    \"\"\"\n",
    "\n",
    "    # window\n",
    "    win = np.hanning(N)\n",
    "\n",
    "    # analysis hop size\n",
    "    Sa = N // overlap_factor\n",
    "    n_blocks = (x.size - N) // Sa\n",
    "\n",
    "    # How many blocks use the same pitch mark?\n",
    "    n_blocks_per_rho = rho_N / Sa\n",
    "\n",
    "    # format pitch-shifting factor to processing parameters\n",
    "    rho_formated = np.repeat(rho, n_blocks_per_rho)\n",
    "\n",
    "    # get rid of the last ones...\n",
    "    # because pitch window size rho_N is greater than block size N\n",
    "    n_blocks = rho_formated.size\n",
    "\n",
    "    # start\n",
    "    y = np.zeros(N)\n",
    "\n",
    "    # main processing loop\n",
    "    for i in range(n_blocks):\n",
    "        # time-scaling factor (alpha=beta=rho[n])\n",
    "        alpha = rho_formated[i]\n",
    "        # resampling factor\n",
    "        r = 1 / alpha\n",
    "        \n",
    "        current = x[i*Sa : i*Sa + N] * win\n",
    "\n",
    "        # resampling\n",
    "        if not np.isnan(r): # voiced\n",
    "            resampled = librosa.resample(current, sr, r * sr)\n",
    "        else: # unvoiced (no pitch shifting)\n",
    "            alpha = 1\n",
    "            resampled = current\n",
    "\n",
    "        # TSM\n",
    "        Ss = round(alpha * Sa)\n",
    "        overlap = y[-(resampled.size - Ss) : ] + resampled[ : resampled.size - Ss]\n",
    "        tail = resampled[resampled.size-Ss:]\n",
    "        y = np.concatenate((y[:-(resampled.size - Ss)], overlap, tail))\n",
    "    return y"
   ]
  },
  {
   "cell_type": "markdown",
   "metadata": {},
   "source": [
    "### test the algorithm with a different recording"
   ]
  },
  {
   "cell_type": "code",
   "execution_count": null,
   "metadata": {},
   "outputs": [],
   "source": [
    "# original\n",
    "pos = 15\n",
    "dur = dur # we use the rho from above\n",
    "x_sing, sr = librosa.load(\"../../samples/ave-maria.wav\", offset=pos, duration=dur)\n",
    "\n",
    "# plot and play\n",
    "IPython.display.Audio(x_sing, rate=sr)"
   ]
  },
  {
   "cell_type": "markdown",
   "metadata": {},
   "source": [
    "### Now pitch shift the signal"
   ]
  },
  {
   "cell_type": "code",
   "execution_count": null,
   "metadata": {},
   "outputs": [],
   "source": [
    "# The length of the validity of the pitch marks is the pitch-tracking hop size\n",
    "rho_N = pitch_hop_size\n",
    "\n",
    "# choose an analysis window size and an overlap factor for the pitch-shifting algorithm\n",
    "N = 2048\n",
    "overlap_factor = 2\n",
    "\n",
    "y_sing = tv_pitch_shift_ola(x_sing, sr, rho, rho_N, N, overlap_factor)\n",
    "# plot and play\n",
    "IPython.display.Audio(y_sing, rate=sr)"
   ]
  },
  {
   "cell_type": "markdown",
   "metadata": {},
   "source": [
    "So, this is a simple time variant pitch-shifting algorithm."
   ]
  }
 ],
 "metadata": {
  "kernelspec": {
   "display_name": "Python 3",
   "language": "python",
   "name": "python3"
  },
  "language_info": {
   "codemirror_mode": {
    "name": "ipython",
    "version": 3
   },
   "file_extension": ".py",
   "mimetype": "text/x-python",
   "name": "python",
   "nbconvert_exporter": "python",
   "pygments_lexer": "ipython3",
   "version": "3.8.3"
  }
 },
 "nbformat": 4,
 "nbformat_minor": 4
}
