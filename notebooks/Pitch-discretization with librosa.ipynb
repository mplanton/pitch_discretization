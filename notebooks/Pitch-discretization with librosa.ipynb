{
 "cells": [
  {
   "cell_type": "markdown",
   "metadata": {},
   "source": [
    "# Pitch-discretization with librosa"
   ]
  },
  {
   "cell_type": "markdown",
   "metadata": {},
   "source": [
    "## load libs and input signal"
   ]
  },
  {
   "cell_type": "code",
   "execution_count": null,
   "metadata": {},
   "outputs": [],
   "source": [
    "# define default samplerate of 44100Hz and not 22050Hz\n",
    "# and fft length and hop size\n",
    "from presets import Preset\n",
    "import librosa as _librosa\n",
    "import librosa.display as _display\n",
    "_librosa.display = _display\n",
    "librosa = Preset(_librosa)\n",
    "\n",
    "librosa['sr'] = 44100\n",
    "librosa['n_fft'] = 4096\n",
    "librosa_hop_len = 1024\n",
    "librosa['hop_length'] = librosa_hop_len\n",
    "\n",
    "# other needed modules\n",
    "import matplotlib.pyplot as plt\n",
    "import numpy as np\n",
    "import IPython\n",
    "\n",
    "#x, sr = librosa.load('../samples/Toms_diner.wav')\n",
    "#x, sr = librosa.load('../samples/sweep_20Hz_20kHz_10s.wav')\n",
    "\n",
    "pos = 5\n",
    "dur = 10\n",
    "x, sr = librosa.load(\"../samples/ave-maria.wav\", offset=pos, duration=dur)\n",
    "\n",
    "# plot and play\n",
    "t = np.linspace(0, x.size/sr, x.size)\n",
    "plt.plot(t, x)\n",
    "IPython.display.Audio(x, rate=sr)"
   ]
  },
  {
   "cell_type": "markdown",
   "metadata": {},
   "source": [
    "## pitch-tracking"
   ]
  },
  {
   "cell_type": "code",
   "execution_count": null,
   "metadata": {},
   "outputs": [],
   "source": [
    "# parameters\n",
    "fmin = 60\n",
    "fmax = 1000\n",
    "frame_len = 2048 # default is 2048\n",
    "\n",
    "f0, voiced_flag, voiced_probs = librosa.pyin(x, fmin=fmin, fmax=fmax, sr=sr, frame_length=frame_len)\n",
    "\n",
    "times = librosa.times_like(f0)\n",
    "\n",
    "D = librosa.amplitude_to_db(np.abs(librosa.stft(x)), ref=np.max)\n",
    "\n",
    "plt.rcParams['figure.figsize'] = [15, 8]\n",
    "fig, ax = plt.subplots()\n",
    "img = librosa.display.specshow(D, x_axis='time', y_axis='log', ax=ax)\n",
    "ax.set(title='pYIN fundamental frequency estimation')\n",
    "fig.colorbar(img, ax=ax, format=\"%+2.f dB\")\n",
    "ax.plot(times, f0, label='f0', color='cyan', linewidth=3)\n",
    "ax.legend(loc='upper right')"
   ]
  },
  {
   "cell_type": "markdown",
   "metadata": {},
   "source": [
    "## pitch-shifting to constant pitch\n",
    "\n",
    "We get an\n",
    "- audio signal\n",
    "- the analyzed pitch signal\n",
    "- the pitch analysis hop length (librosa_hop_len)\n",
    "- the wanted pitch\n",
    "\n",
    "Now we want to generate a signal with constant pitch, so the pitch shifting factor depends on the pitch of the input signal.\n",
    "\n",
    "- Figure the blocksize out\n",
    "- calculate the pitch shifting factor for each block\n",
    "- do pitch shifting on each block (and do nothing for unvoiced frames or stay constant)"
   ]
  },
  {
   "cell_type": "code",
   "execution_count": null,
   "metadata": {},
   "outputs": [],
   "source": [
    "f_out = 200 # desired pitch of the output signal\n",
    "\n",
    "semitone_ratio = 2**(1/12)\n",
    "\n",
    "blocksize = librosa_hop_len\n",
    "n_blocks = int(x.size / blocksize)\n",
    "\n",
    "#print(\"n_blocks is\", n_blocks, \"and should be one less than the f0.size:\", f0.size)\n",
    "# so later take n_blocks = f0.size - 1\n",
    "\n",
    "y = []\n",
    "# loop over blocks\n",
    "for i in range(n_blocks):\n",
    "    pitch = f0[i]\n",
    "    if np.isnan(pitch):\n",
    "        # unvoiced\n",
    "        shifted = x[i*blocksize:(i+1)*blocksize] # unprocessed\n",
    "    else:\n",
    "        # pitch-shifting ratio rho\n",
    "        rho = f_out / pitch\n",
    "        # to semitones\n",
    "        semitones = 12*np.log2(rho)\n",
    "        # pitch shift\n",
    "        shifted = librosa.effects.pitch_shift(x[i*blocksize:(i+1)*blocksize], n_steps=semitones)\n",
    "    y.append(shifted)\n",
    "y = np.concatenate(y)"
   ]
  },
  {
   "cell_type": "code",
   "execution_count": null,
   "metadata": {},
   "outputs": [],
   "source": [
    "t = np.linspace(0, y.size/sr, y.size)\n",
    "plt.plot(t, y)\n",
    "IPython.display.Audio(y, rate=sr)"
   ]
  },
  {
   "cell_type": "markdown",
   "metadata": {},
   "source": [
    "## appearing problems\n",
    "\n",
    "* Discontinuities, because the pitch-shifting algorithm is not for small block processing but rather for shifting a big chunk of continuous audio data.\n",
    "\n",
    "* The blocksize can not be smaller than 2048 samples because the phase vocoder is hard coded to this fft-size.\n",
    "\n",
    "So make your own OLA-pitch-shifter for the simplest implementation."
   ]
  },
  {
   "cell_type": "markdown",
   "metadata": {},
   "source": [
    "## Pitch discretization"
   ]
  },
  {
   "cell_type": "code",
   "execution_count": null,
   "metadata": {},
   "outputs": [],
   "source": [
    "def scale(f0, n_tones=12, tune=440):\n",
    "    \"\"\"\n",
    "    nonlinear frequency scale\n",
    "    f0...input frequency\n",
    "    n_tones...make a scale with n_tones tones\n",
    "    tune...tuning frequency\n",
    "    return discrete frequencies\n",
    "    \"\"\"\n",
    "    tone = n_tones * np.log2(f0/tune)\n",
    "    discrete = int(tone)\n",
    "    return tune * (2 ** (discrete / n_tones))\n",
    "\n",
    "semitone_ratio = 2**(1/12)\n",
    "\n",
    "blocksize = librosa_hop_len\n",
    "n_blocks = int(x.size / blocksize)\n",
    "\n",
    "#print(\"n_blocks is\", n_blocks, \"and should be one less than the f0.size:\", f0.size)\n",
    "# so later take n_blocks = f0.size - 1\n",
    "\n",
    "y = []\n",
    "# loop over blocks\n",
    "for i in range(n_blocks):\n",
    "    pitch = f0[i]\n",
    "    if np.isnan(pitch):\n",
    "        # unvoiced\n",
    "        shifted = x[i*blocksize:(i+1)*blocksize] # unprocessed\n",
    "    else:\n",
    "        f_out = scale(pitch, 12)\n",
    "        # pitch-shifting ratio rho\n",
    "        rho = f_out / pitch\n",
    "        # to semitones\n",
    "        semitones = 12*np.log2(rho)\n",
    "        # pitch shift\n",
    "        shifted = librosa.effects.pitch_shift(x[i*blocksize:(i+1)*blocksize], n_steps=semitones)\n",
    "    y.append(shifted)\n",
    "y = np.concatenate(y)"
   ]
  },
  {
   "cell_type": "code",
   "execution_count": null,
   "metadata": {},
   "outputs": [],
   "source": [
    "t = np.linspace(0, y.size/sr, y.size)\n",
    "plt.plot(t, y)\n",
    "IPython.display.Audio(y, rate=sr)"
   ]
  },
  {
   "cell_type": "markdown",
   "metadata": {},
   "source": [
    "## pitch-shift OLA\n",
    "\n",
    "This method takes\n",
    "\n",
    "- the audio signal\n",
    "- the analyzed pitch signal\n",
    "- the pitch analysis hop length (librosa_hop_len)\n",
    "- and the wanted pitch signal\n",
    "\n",
    "and outputs the pitch-shifted signal\n",
    "(maybe employ some smoothing of pitch transitions?)"
   ]
  },
  {
   "cell_type": "code",
   "execution_count": null,
   "metadata": {},
   "outputs": [],
   "source": [
    "def pitch_shift_OLA(x, f_0, f_out, f_hop_size, N, Sa):\n",
    "    \"\"\"\n",
    "    dynamically pitch shifting x to the desired frequencies f_out to output y\n",
    "    x...input signal\n",
    "    f_0...fundamental frequencies of x\n",
    "    f_out...desired fundamental frequencies of y\n",
    "    f_hop_size...hop size of the fundamental frequency estimation\n",
    "    N...block size of OLA algorithm (analysis and synthesis)\n",
    "    Sa...analysis hop size of OLA algorithm\n",
    "    return y...pitch-shifted output signal\n",
    "    \"\"\"\n",
    "    # do TSM by OLA\n",
    "    \n",
    "    # resampling"
   ]
  },
  {
   "cell_type": "markdown",
   "metadata": {},
   "source": [
    "## Upgrade to SOLA?"
   ]
  },
  {
   "cell_type": "code",
   "execution_count": null,
   "metadata": {},
   "outputs": [],
   "source": []
  },
  {
   "cell_type": "markdown",
   "metadata": {},
   "source": [
    "## Do pitch discretization"
   ]
  }
 ],
 "metadata": {
  "kernelspec": {
   "display_name": "Python 3",
   "language": "python",
   "name": "python3"
  },
  "language_info": {
   "codemirror_mode": {
    "name": "ipython",
    "version": 3
   },
   "file_extension": ".py",
   "mimetype": "text/x-python",
   "name": "python",
   "nbconvert_exporter": "python",
   "pygments_lexer": "ipython3",
   "version": "3.8.3"
  }
 },
 "nbformat": 4,
 "nbformat_minor": 4
}
