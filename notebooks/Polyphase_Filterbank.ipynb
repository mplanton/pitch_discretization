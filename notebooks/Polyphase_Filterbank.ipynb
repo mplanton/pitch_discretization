{
 "cells": [
  {
   "cell_type": "markdown",
   "metadata": {},
   "source": [
    "# Polyphase Filterbank for the Rollers algorithm\n",
    "\n",
    "For a more efficient implementation of the Rollers pitch-shifting algorithm, a polyphase filter bank could be used.\n",
    "The pitch shifting is done by frequency shifting of logarithmically spaced subbands.\n",
    "By reducing the sample rate in these subbands, the performance of the algorithm could be improved.\n",
    "\n",
    "I want to investigate, what the effects of the downsampling/upsampling in the subbands are and which synthesis filters are needed to synthesize the frequency-shifted subband signals to the pitch-shifted output signal.\n",
    "\n",
    "First define a function to plot the magnitude spectrum of a signal and a filter bank class."
   ]
  },
  {
   "cell_type": "code",
   "execution_count": null,
   "metadata": {},
   "outputs": [],
   "source": [
    "import numpy as np\n",
    "from scipy import signal\n",
    "import scipy.integrate as integrate\n",
    "from scipy.io import wavfile\n",
    "import matplotlib.pyplot as plt\n",
    "plt.rcParams['figure.figsize'] = [15, 3]\n",
    "from scipy.fft import rfft, fft, rfftfreq, fftfreq\n",
    "import IPython.display as ipd"
   ]
  },
  {
   "cell_type": "code",
   "execution_count": null,
   "metadata": {},
   "outputs": [],
   "source": [
    "def plot_mag_spec(sig, fs, name=\"\", negative=False, f_range=(20, 20000), db_range=(-40, 0), f_log=True):\n",
    "    \"\"\"\n",
    "    Plot the magnitude spectrum of the signal 'sig'.\n",
    "    sig:    signal to be analyzed\n",
    "    fs:     sampling rate of sig\n",
    "    name:   name of the plotted spectrum\n",
    "    negative: show negative frequencies (default: False)\n",
    "    f_range: define a frequency range for the spectrum (default: 20Hz to 20kHz)\n",
    "    db_range: define a magnitude range in dB for the spectrum (default: 0dB to 100dB)\n",
    "    f_log:  logarithmic or linear frequency axis? (default: True is logarithmic)\n",
    "    \"\"\"\n",
    "    w = signal.hann(sig.size) # window\n",
    "    if negative == False:\n",
    "        # just positive frequencies\n",
    "        freq = rfftfreq(sig.size, 1 / fs)\n",
    "        spec = rfft(sig*w)\n",
    "        mag = 20*np.log10(np.abs((1/sig.size)*spec))\n",
    "        if f_log == True:\n",
    "            plt.semilogx(freq, mag)\n",
    "        else:\n",
    "            plt.plot(freq, mag)\n",
    "        plt.xlim(f_range)\n",
    "    else:\n",
    "        # positive and negative frequencies\n",
    "        freq = fftfreq(sig.size, 1 / fs)\n",
    "        mag = 20*np.log10(np.abs((1/sig.size)*fft(sig*w)))\n",
    "        if f_log == True:\n",
    "            freq = freq[1:] # omit 0Hz\n",
    "            mag = mag[1:]\n",
    "        plt.plot(freq, mag)\n",
    "        plt.xlim((-f_range[1], f_range[1]))\n",
    "        if f_log == True:\n",
    "            plt.xscale('symlog')\n",
    "    plt.ylim(db_range)\n",
    "    plt.xlabel(\"f [Hz]\")\n",
    "    plt.ylabel(\"amplitude [dB]\")\n",
    "    plt.title(name)\n",
    "    plt.show()"
   ]
  },
  {
   "cell_type": "code",
   "execution_count": null,
   "metadata": {
    "scrolled": true
   },
   "outputs": [],
   "source": [
    "class Filterbank:\n",
    "    \"\"\"A  constant Q IIR butterworth filter bank for audio signal processing\"\"\"\n",
    "    \n",
    "    def __init__(self, n, order, fs, filt_type=\"\"):\n",
    "        self.n = n\n",
    "        self.order = order\n",
    "        self.fs = fs\n",
    "        \n",
    "        if filt_type == \"third octave\":\n",
    "            # third-octave filter bank\n",
    "            freq_offset = 2\n",
    "            k = np.arange(n + 2) - n // 2 - freq_offset\n",
    "\n",
    "            # center frequencies are defined relative to a bandpass with center frequency at 1kHz\n",
    "            f_cs = np.power(2, k / 3) * 1000\n",
    "\n",
    "            f_chs = [] # high cutoff frequencies\n",
    "            f_cls = [] # low cutoff frequencies\n",
    "            for k in range(1, f_cs.size-1):\n",
    "                f_chs.append(np.sqrt(f_cs[k] * f_cs[k+1]))\n",
    "                f_cls.append(np.sqrt(f_cs[k-1] * f_cs[k]))\n",
    "        else:\n",
    "            # log spaced filter bank\n",
    "            # 2**4 = 16Hz\n",
    "            # 14.3 = 20171Hz\n",
    "            f = np.logspace(4, 14.3, n*3, base=2)\n",
    "\n",
    "            # low cutoff frequencies\n",
    "            f_cls = f[::3]\n",
    "\n",
    "            # center frequencies\n",
    "            f_cs = f[1::3]\n",
    "\n",
    "            # high cutoff frequencies\n",
    "            f_chs = f[2::3]\n",
    "\n",
    "        filters = []\n",
    "        for k in range(f_cs.size-2):\n",
    "            sos = self.butter_bp(f_cls[k], f_chs[k])\n",
    "            filters.append(sos)\n",
    "        \n",
    "        self.fcs = f_cs[1:-1]\n",
    "        self.filters = filters\n",
    "    \n",
    "    def butter_bp(self, lowcut, highcut):\n",
    "        \"\"\"\n",
    "        Design a butterworth bandpass filter and return the 'sos' filter.\n",
    "        lowcut: low cutoff frequency\n",
    "        highcut: high cutoff frequency\n",
    "        \"\"\"\n",
    "        f_nyq = 0.5 * self.fs\n",
    "        low = lowcut / f_nyq\n",
    "        high = highcut / f_nyq\n",
    "        return signal.butter(self.order, [low, high], btype='band', output='sos')\n",
    "    \n",
    "    def plot_filters(self):\n",
    "        \"\"\"Plot the magnitude spectrum of all filter of the filter bank.\"\"\"\n",
    "        for sos in self.filters:\n",
    "            w, h = signal.sosfreqz(sos, worN=10000)\n",
    "            plt.semilogx((self.fs * 0.5 / np.pi) * w[1:], 20*np.log10(np.abs(h[1:])))\n",
    "            plt.ylim((-100, 5))\n",
    "            plt.xlim((10, 20000))\n",
    "            plt.ylabel('H [dB]')\n",
    "            plt.xlabel('f [Hz]')\n",
    "            plt.title('filter bank')\n",
    "        plt.show()\n",
    "    \n",
    "    def filt(self, in_sig):\n",
    "        \"\"\"Filter the in_sig and return an array of the filtered signals.\"\"\"\n",
    "        filtered_signals = []\n",
    "        for sos in self.filters:\n",
    "            filtered_signals.append(signal.sosfilt(sos, in_sig))\n",
    "        return filtered_signals\n",
    "\n",
    "# test the Filterbank class\n",
    "filtb = Filterbank(28, 4, 44100)\n",
    "filtb.plot_filters()\n",
    "noise = np.random.normal(0, 1, 10*1024)\n",
    "filtered_noise = filtb.filt(noise)\n",
    "plot_mag_spec(filtered_noise[10], 44100, db_range=[-100, -30])\n",
    "\n",
    "print(\"Bug: There are two filters less than specified\")"
   ]
  },
  {
   "cell_type": "markdown",
   "metadata": {},
   "source": [
    "## Effects of down-/upsampling of subband signals\n",
    "\n",
    "Let's start simple with a 2 channel filter bank and investiagte the effects of down-/upsampling on the spectrum of the subbands."
   ]
  },
  {
   "cell_type": "code",
   "execution_count": null,
   "metadata": {},
   "outputs": [],
   "source": [
    "fs = 44100\n",
    "fc = fs / 4\n",
    "order = 11\n",
    "\n",
    "# split the spectrum with a lowpass and a highpass at fc = f_nyq / 2\n",
    "f_nyq = 0.5 * fs\n",
    "f_norm = fc / f_nyq\n",
    "lop = signal.butter(order, f_norm, btype='lowpass', output='sos')\n",
    "hip = signal.butter(order, f_norm, btype='highpass', output='sos')\n",
    "\n",
    "# filtering\n",
    "noise = np.random.normal(0, 1, 10*1024)\n",
    "low_band = signal.sosfilt(lop, noise)\n",
    "high_band = signal.sosfilt(hip, noise)\n",
    "\n",
    "# plot\n",
    "plot_mag_spec(low_band, 44100, db_range=[-80, -30], f_log=False)\n",
    "plot_mag_spec(high_band, 44100, db_range=[-80, -30], f_log=False)"
   ]
  },
  {
   "cell_type": "markdown",
   "metadata": {},
   "source": [
    "We use a harmonic signal to track the effect on partials, since we usally get aliasing at downsampling signals."
   ]
  },
  {
   "cell_type": "code",
   "execution_count": null,
   "metadata": {},
   "outputs": [],
   "source": [
    "def get_bl_saw(dur=10, freq=1000, n_partials=10, fs=44100):\n",
    "    \"\"\"bandlimited saw signal with quadratic decay of harmonics for good spectra\"\"\"\n",
    "    t = np.linspace(0, dur, dur*fs)\n",
    "    saw = np.zeros(t.size)\n",
    "    for k in range(n_partials+1):\n",
    "        k = k+1\n",
    "        saw += (-1)**k * np.sin(2 * np.pi * k * freq * t) / (k**2)\n",
    "    return -1.8 * saw / np.pi"
   ]
  },
  {
   "cell_type": "code",
   "execution_count": null,
   "metadata": {},
   "outputs": [],
   "source": [
    "saw = get_bl_saw(freq=2000, fs=fs)\n",
    "\n",
    "low_band = signal.sosfilt(lop, saw)\n",
    "high_band = signal.sosfilt(hip, saw)\n",
    "\n",
    "# plot\n",
    "plot_mag_spec(saw, fs, db_range=[-60, -20], f_log=False, name=\"saw signal input\")\n",
    "plot_mag_spec(low_band, fs, db_range=[-60, -20], f_log=False, name=\"low band\")\n",
    "plot_mag_spec(high_band, fs, db_range=[-60, -20], f_log=False, name=\"high band\")"
   ]
  },
  {
   "cell_type": "markdown",
   "metadata": {},
   "source": [
    "In theory, we can do downsampling by the number of channels used.\n",
    "If we half the sampling rate, Nyquist frequency gets halfed too, from 22050Hz to 11025Hz."
   ]
  },
  {
   "cell_type": "code",
   "execution_count": null,
   "metadata": {
    "scrolled": true
   },
   "outputs": [],
   "source": [
    "# decimate subband signals to half the sampling rate\n",
    "N = 2\n",
    "f_dec = fs / N\n",
    "low_dec = low_band[::N]\n",
    "high_dec = high_band[::N]\n",
    "\n",
    "# plot\n",
    "plot_mag_spec(low_dec, f_dec, db_range=[-60, -20], f_log=False, name=\"decimated low band\", f_range=(20, 11025))\n",
    "plot_mag_spec(high_dec, f_dec, db_range=[-60, -20], f_log=False, name=\"decimated high band\", f_range=(20, 11025))"
   ]
  },
  {
   "cell_type": "markdown",
   "metadata": {},
   "source": [
    "As we can see, the frequencies in the high band above 11025Hz get mirrored, which is aliasing.\n",
    "The low frequency band gets spread out to the Nyquist frequency (equivalent to reducing the Nyquist frequency).\n",
    "The high band gets flipped around the Nyquist frequency.\n",
    "For ideal filters, there would be no aliasing.\n",
    "\n",
    "To complete the filter bank, we do the synthesis part now.\n",
    "The output signal is formed by upsampling, filtering and adding the subbands."
   ]
  },
  {
   "cell_type": "code",
   "execution_count": null,
   "metadata": {
    "scrolled": true
   },
   "outputs": [],
   "source": [
    "# upsampling\n",
    "low_up = np.zeros(low_dec.size*N)\n",
    "low_up[::2] = low_dec\n",
    "high_up = np.zeros(high_dec.size*N)\n",
    "high_up[::2] = high_dec\n",
    "\n",
    "\n",
    "# plot\n",
    "plot_mag_spec(low_up, fs, db_range=[-60, -20], f_log=False, name=\"upsampled low band\")\n",
    "plot_mag_spec(high_up, fs, db_range=[-60, -20], f_log=False, name=\"upsampled high band\")"
   ]
  },
  {
   "cell_type": "markdown",
   "metadata": {},
   "source": [
    "After upsampling, the upper part of the periodic spectrum of the signals appears in the spectrogram.\n",
    "This is why synthesis filters are needed to reconstruct the original signal.\n",
    "\n",
    "For synthesis filters, we choose the same filters as for the analysis.\n",
    "Often the synthesis filters are derived for perfect or nearly perfect reconstruction of the input signal.\n",
    "It is possible to achieve perfect reconstruction in magnitude and phase.\n",
    "\n",
    "In this case we work with non ideal filters and do not care about phase, since the human ear is not sensitive to it."
   ]
  },
  {
   "cell_type": "code",
   "execution_count": null,
   "metadata": {},
   "outputs": [],
   "source": [
    "low_out = signal.sosfilt(lop, low_up)\n",
    "high_out = signal.sosfilt(hip, high_up)\n",
    "\n",
    "# plot\n",
    "plot_mag_spec(low_out, fs, db_range=[-80, -20], f_log=False, name=\"low band after synthesis filter\")\n",
    "plot_mag_spec(high_out, fs, db_range=[-80, -20], f_log=False, name=\"high band after synthesis filter\")"
   ]
  },
  {
   "cell_type": "markdown",
   "metadata": {},
   "source": [
    "And reconstruct the signal by adding the filtered subbands."
   ]
  },
  {
   "cell_type": "code",
   "execution_count": null,
   "metadata": {
    "scrolled": true
   },
   "outputs": [],
   "source": [
    "out = low_out + high_out\n",
    "\n",
    "plot_mag_spec(saw, fs, db_range=[-60, -20], f_log=False, name=\"original signal\")\n",
    "plot_mag_spec(out, fs, db_range=[-60, -20], f_log=False, name=\"output signal\")"
   ]
  },
  {
   "cell_type": "markdown",
   "metadata": {},
   "source": [
    "This method works OK when using high order filters.\n",
    "It would work even better, when there is some spacing between the filters.\n",
    "\n",
    "Due to this results, for a filter bank with a lot of bands, there is a tradeoff between downsampling ratio, filter order and filter spacing.\n",
    "This results in a tradeoff in computational complexity and aliasing (sound quality).\n",
    "\n",
    "\n",
    "## Synthesis stage for Rollers\n",
    "\n",
    "Another problem to be solved for the synthesis stage for the Rollers algorithm is, that we do frequency shifting in the subbands.\n",
    "So we can not use the same synthesis filters as for the analysis.\n",
    "__One solution is, to move the synthesis filters according to the frequency shift of the SSB in the subbands.__"
   ]
  },
  {
   "cell_type": "code",
   "execution_count": null,
   "metadata": {},
   "outputs": [],
   "source": [
    "def ssb(sig, f_shift, fs):\n",
    "    \"\"\"\n",
    "    frequency shifting with single sideband modulation\n",
    "    sig: signal to be frequency shifted\n",
    "    f_shift: frequency amount of shifting\n",
    "    fs: sampling frequency of sig\n",
    "    \"\"\"\n",
    "    t = np.linspace(0, sig.size/fs, sig.size)\n",
    "    x = np.exp(1j*2*np.pi*f_shift*t)\n",
    "    return (signal.hilbert(sig) * x).real"
   ]
  },
  {
   "cell_type": "code",
   "execution_count": null,
   "metadata": {
    "scrolled": true
   },
   "outputs": [],
   "source": [
    "y = ssb(saw, 500, fs)\n",
    "\n",
    "plot_mag_spec(saw, fs, db_range=[-60, -20], f_log=False, name=\"original signal\")\n",
    "plot_mag_spec(y, fs, db_range=[-60, -20], f_log=False, name=\"ssb\")"
   ]
  },
  {
   "cell_type": "markdown",
   "metadata": {},
   "source": [
    "## 3 band SSB with synthesis according to frequency shift\n",
    "\n",
    "Let's make\n",
    "\n",
    "* three subbands by the analysis stage\n",
    "\n",
    "* do frequency shifting per subband like Rollers and\n",
    "\n",
    "* do the analysis stage with the according filters."
   ]
  },
  {
   "cell_type": "code",
   "execution_count": null,
   "metadata": {
    "scrolled": true
   },
   "outputs": [],
   "source": [
    "saw = get_bl_saw(freq=2000, n_partials=10)\n",
    "\n",
    "# analysis\n",
    "fs = 44100\n",
    "f_nyq = 0.5 * fs\n",
    "N = 3\n",
    "fc1 = f_nyq / N\n",
    "fc2 = 2 * f_nyq / N\n",
    "order = 11\n",
    "\n",
    "# split the spectrum with a lowpass, a bandpass and a highpass\n",
    "f_norm1 = fc1 / f_nyq\n",
    "f_norm2 = fc2 / f_nyq\n",
    "a_lop = signal.butter(order, f_norm1, btype='lowpass', output='sos')\n",
    "a_bp = signal.butter(order, [f_norm1, f_norm2], btype='band', output='sos')\n",
    "a_hip = signal.butter(order, f_norm2, btype='highpass', output='sos')\n",
    "\n",
    "# filtering\n",
    "low_band = signal.sosfilt(a_lop, saw)\n",
    "mid_band = signal.sosfilt(a_bp, saw)\n",
    "high_band = signal.sosfilt(a_hip, saw)"
   ]
  },
  {
   "cell_type": "code",
   "execution_count": null,
   "metadata": {
    "scrolled": true
   },
   "outputs": [],
   "source": [
    "# decimation\n",
    "low_dec = low_band[::N]\n",
    "mid_dec = mid_band[::N]\n",
    "high_dec = high_band[::N]"
   ]
  },
  {
   "cell_type": "code",
   "execution_count": null,
   "metadata": {},
   "outputs": [],
   "source": [
    "# shift via subband mid frequencies\n",
    "#TODO: Das muss jetzt wahrscheinlich umgerechnet werden und die subbänder sind ja sogar verkehrt...\n",
    "# Vielleicht muss man bei geraden subbändern in die andere richtung shiften, aber dann hat man keinen Platz...\n",
    "psr = 1.1 # pitch shifting ratio\n",
    "\n",
    "fmid = fc1 / 2\n",
    "f_shift1 = fmid * psr - fmid\n",
    "f_shift2 = (fc1 + fmid) * psr - (fc1 + fmid)\n",
    "f_shift3 = (fc2 + fmid) * psr - (fc2 + fmid)\n",
    "\n",
    "print(f_shift1, f_shift2, f_shift3)"
   ]
  },
  {
   "cell_type": "code",
   "execution_count": null,
   "metadata": {
    "scrolled": true
   },
   "outputs": [],
   "source": [
    "low_shift = ssb(low_dec, f_shift1, fs/N)\n",
    "mid_shift = ssb(mid_dec, f_shift2, fs/N)\n",
    "high_shift = ssb(high_dec, f_shift3, fs/N)"
   ]
  },
  {
   "cell_type": "code",
   "execution_count": null,
   "metadata": {},
   "outputs": [],
   "source": [
    "# upsampling\n",
    "low_up = np.zeros(low_shift.size*N)\n",
    "low_up[::N] = low_shift\n",
    "mid_up = np.zeros(mid_shift.size*N)\n",
    "mid_up[::N] = mid_shift\n",
    "high_up = np.zeros(high_shift.size*N)\n",
    "high_up[::N] = high_shift"
   ]
  },
  {
   "cell_type": "markdown",
   "metadata": {},
   "source": [
    "Now that we have shifted the spectra by $f_{shift, i}$, we design the synthesis filters accordingly to the frequency shift."
   ]
  },
  {
   "cell_type": "code",
   "execution_count": null,
   "metadata": {
    "scrolled": true
   },
   "outputs": [],
   "source": [
    "# synthesis filters according to frequency shift\n",
    "f_norm1 = (fc1 + f_shift1) / f_nyq\n",
    "f_norm2 = (fc2 + f_shift2) / f_nyq\n",
    "s_lop = signal.butter(order, f_norm1, btype='lowpass', output='sos')\n",
    "s_bp = signal.butter(order, [f_norm1, f_norm2], btype='band', output='sos')\n",
    "# make a bandpass instead of a highpass for anti aliasing\n",
    "s_hip_bp = signal.butter(order, [f_norm2, 0.99], btype='band', output='sos')\n",
    "\n",
    "# filtering\n",
    "low_out = signal.sosfilt(s_lop, low_up)\n",
    "mid_out = signal.sosfilt(s_bp, mid_up)\n",
    "high_out = signal.sosfilt(s_hip_bp, high_up)"
   ]
  },
  {
   "cell_type": "code",
   "execution_count": null,
   "metadata": {
    "scrolled": true
   },
   "outputs": [],
   "source": [
    "# reconstruction\n",
    "out = low_out + mid_out + high_out"
   ]
  },
  {
   "cell_type": "code",
   "execution_count": null,
   "metadata": {},
   "outputs": [],
   "source": [
    "plot_mag_spec(saw, fs, db_range=[-80, -20], f_log=False, name=\"original\")\n",
    "plot_mag_spec(out, fs, db_range=[-80, -20], f_log=False, name=\"output\")"
   ]
  },
  {
   "cell_type": "markdown",
   "metadata": {},
   "source": [
    "This is clearly wrong.\n",
    "To learn something from it make a subplot with all three signals for all stages.\n",
    "\n",
    "plot:\n",
    "\n",
    "* original signal\n",
    "\n",
    "* analysis filtering into 3 subbands\n",
    "\n",
    "* decimation of subbands\n",
    "\n",
    "* frequency shifting in subbands\n",
    "\n",
    "* upsampling of subbands\n",
    "\n",
    "* synthesis filtering\n",
    "\n",
    "* reconstruction\n",
    "\n"
   ]
  },
  {
   "cell_type": "code",
   "execution_count": null,
   "metadata": {},
   "outputs": [],
   "source": [
    "def m_spec(sig, fs):\n",
    "    w = signal.hann(sig.size) # window\n",
    "    # just positive frequencies\n",
    "    freq = rfftfreq(sig.size, 1 / fs)\n",
    "    spec = rfft(sig*w)\n",
    "    mag = 20*np.log10(np.abs((1/sig.size)*spec))\n",
    "    return freq, mag"
   ]
  },
  {
   "cell_type": "code",
   "execution_count": null,
   "metadata": {},
   "outputs": [],
   "source": [
    "def m_filt_spec(sos, fs):\n",
    "    w, h = signal.sosfreqz(sos, worN=10000)\n",
    "    freq = (fs * 0.5 / np.pi) * w[1:]\n",
    "    mag = 20*np.log10(np.abs(h[1:]))\n",
    "    return freq, mag"
   ]
  },
  {
   "cell_type": "code",
   "execution_count": null,
   "metadata": {},
   "outputs": [],
   "source": [
    "# plot\n",
    "fig, axs = plt.subplots(5, 3)\n",
    "plt.rcParams['figure.figsize'] = [15, 15]\n",
    "\n",
    "# analysis filtering\n",
    "axs[0,0].set_title(\"analysis filtering\")\n",
    "f, m = m_spec(low_band, fs)\n",
    "axs[0,0].plot(f, m)\n",
    "f, m = m_spec(mid_band, fs)\n",
    "axs[0,1].plot(f, m)\n",
    "f, m = m_spec(high_band, fs)\n",
    "axs[0,2].plot(f, m)\n",
    "# filters\n",
    "f, m = m_filt_spec(a_lop, fs)\n",
    "axs[0,0].plot(f, m)\n",
    "f, m = m_filt_spec(a_bp, fs)\n",
    "axs[0,1].plot(f, m)\n",
    "f, m = m_filt_spec(a_hip, fs)\n",
    "axs[0,2].plot(f, m)\n",
    "\n",
    "\n",
    "# decimation\n",
    "f, m = m_spec(low_dec, fs/N)\n",
    "axs[1,0].plot(f, m)\n",
    "axs[1,0].set_title(\"decimation\")\n",
    "f, m = m_spec(mid_dec, fs/N)\n",
    "axs[1,1].plot(f, m)\n",
    "f, m = m_spec(high_dec, fs/N)\n",
    "axs[1,2].plot(f, m)\n",
    "\n",
    "\n",
    "# frequency shifting\n",
    "f, m = m_spec(low_shift, fs/N)\n",
    "axs[2,0].plot(f, m)\n",
    "axs[2,0].set_title(\"frequency shifting\")\n",
    "f, m = m_spec(mid_shift, fs/N)\n",
    "axs[2,1].plot(f, m)\n",
    "f, m = m_spec(high_shift, fs/N)\n",
    "axs[2,2].plot(f, m)\n",
    "\n",
    "\n",
    "# upsampling\n",
    "axs[3,0].set_title(\"upsampling\")\n",
    "f, m = m_spec(low_up, fs)\n",
    "axs[3,0].plot(f, m)\n",
    "f, m = m_spec(mid_up, fs)\n",
    "axs[3,1].plot(f, m)\n",
    "f, m = m_spec(high_up, fs)\n",
    "axs[3,2].plot(f, m)\n",
    "\n",
    "# filters\n",
    "f, m = m_filt_spec(s_lop, fs)\n",
    "axs[3,0].plot(f, m)\n",
    "f, m = m_filt_spec(s_bp, fs)\n",
    "axs[3,1].plot(f, m)\n",
    "f, m = m_filt_spec(s_hip_bp, fs)\n",
    "axs[3,2].plot(f, m)\n",
    "\n",
    "\n",
    "# synthesis filtering\n",
    "axs[4,0].set_title(\"synthesis filtering\")\n",
    "f, m = m_spec(low_out, fs)\n",
    "axs[4,0].plot(f, m)\n",
    "f, m = m_spec(mid_out, fs)\n",
    "axs[4,1].plot(f, m)\n",
    "f, m = m_spec(high_out, fs)\n",
    "axs[4,2].plot(f, m)\n",
    "\n",
    "for axis_list in axs:\n",
    "    for axis in axis_list:\n",
    "        axis.set_ylim((-100, 0))\n",
    "    \n",
    "\n",
    "plt.show()"
   ]
  },
  {
   "cell_type": "markdown",
   "metadata": {},
   "source": [
    "### Was passiert hier?\n",
    "\n",
    "In der ersten Zeile werden die Subbänder aus dem Eingangssignal gefiltert.\n",
    "\n",
    "In der zweiten Zeile wird auf ein drittel der originalen sampling Frequenz dezimiert (fnyq_new=7350).\n",
    "Teiltöne außerhalb des erlaubten Bands verursachen Aliasing und das mittlere Band ist gespiegelt.\n",
    "\n",
    "Das frequency shifting verursacht weiteres Aliasing, weil die Teiltöne an der Nyquist Frequenz gespiegelt werden.\n",
    "\n",
    "Beim Upsampling wird unser \"Spektrum-Fenster\" auf 3 abwechselnd gespiegelte Spektrum-Perioden gesetzt.\n",
    "\n",
    "Die Synthese Filter filtern das vermeintlich richtig verschobene Spektrum und erzeugen die Synthese Signale, die addiert das Ausgangssignal ergeben.\n",
    "\n",
    "\n",
    "### Was ist schief gelaufen?\n",
    "\n",
    "1. Nach der Dezimierung gibt es Aliasing durch das nicht ideale filtern und durch die kritische neue Samplerate (critically sampled filter bank).\n",
    "\n",
    "2. Das mittlere Band is verkehrt herum und wird vom frequency shifter in die falsche Richtung geschoben.\n",
    "\n",
    "\n",
    "## Conclusio:\n",
    "\n",
    "Eine Filterbank mit frequency shifter in den Subbändern funktioniert nur nahe der originaen Sample rate.\n",
    "Genau durch die Frequenzverschiebung wird Aliasing verursacht."
   ]
  }
 ],
 "metadata": {
  "kernelspec": {
   "display_name": "Python 3",
   "language": "python",
   "name": "python3"
  },
  "language_info": {
   "codemirror_mode": {
    "name": "ipython",
    "version": 3
   },
   "file_extension": ".py",
   "mimetype": "text/x-python",
   "name": "python",
   "nbconvert_exporter": "python",
   "pygments_lexer": "ipython3",
   "version": "3.8.5"
  }
 },
 "nbformat": 4,
 "nbformat_minor": 4
}
