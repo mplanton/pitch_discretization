{
 "cells": [
  {
   "cell_type": "markdown",
   "metadata": {},
   "source": [
    "# Rollers Pitch-Shift Implmenetation\n",
    "\n",
    "The \"Rollers\" pitch-shifting algorithm is based on narrow subband frequency shifting.\n",
    "For yielding low latencies, an IIR filter bank is used.\n",
    "\n",
    "The original IIR filter bank implementation in Java uses Butterworth bandpass filters with crossovers at -12dB.\n",
    "\n",
    "Things to figure out:\n",
    "\n",
    "* scipy filter design\n",
    "\n",
    "* How to design a Butterworth filter bank\n",
    "\n",
    "* Frequency shifting\n",
    "\n",
    "* Putting it all together\n",
    "\n",
    "Note: Keras GPU Filter Bank\n",
    "\n",
    "\n",
    "## Scipy filter design\n",
    "\n",
    "analog filter design:"
   ]
  },
  {
   "cell_type": "code",
   "execution_count": null,
   "metadata": {},
   "outputs": [],
   "source": [
    "import numpy as np\n",
    "from scipy import signal\n",
    "import matplotlib.pyplot as plt\n",
    "\n",
    "plt.rcParams['figure.figsize'] = [15, 3]\n",
    "\n",
    "# filter coeffs\n",
    "b, a = signal.butter(4, 100, 'low', analog=True)\n",
    "print('b:', b, 'a:', a)\n",
    "# frequency response\n",
    "w, h = signal.freqs(b, a)\n",
    "\n",
    "plt.semilogx(w, 20 * np.log10(abs(h)))\n",
    "plt.title('Butterworth analog filter frequency response')\n",
    "plt.xlabel('Frequency [radians / second]')\n",
    "plt.ylabel('Amplitude [dB]')\n",
    "plt.margins(0, 0.1)\n",
    "plt.grid(which='both', axis='both')\n",
    "plt.axvline(100, color='green') # cutoff frequency\n",
    "plt.show()"
   ]
  },
  {
   "cell_type": "markdown",
   "metadata": {},
   "source": [
    "digital fiter design:\n",
    "\n",
    "Default output format is ‘ba’ for backwards compatibility, but ‘sos’ should be used for general-purpose filtering."
   ]
  },
  {
   "cell_type": "code",
   "execution_count": null,
   "metadata": {},
   "outputs": [],
   "source": [
    "fs = 44100\n",
    "fc = 100\n",
    "# normalized cutoff frequency\n",
    "wc = fc / (fs / 2)\n",
    "b, a = signal.butter(4, wc, 'low', analog=False)\n",
    "print('b:', b, 'a:', a)\n",
    "\n",
    "w, h = signal.freqz(b, a)\n",
    "plt.semilogx(w, 20 * np.log10(abs(h)))\n",
    "plt.title('Butterworth digigtal filter frequency response')\n",
    "plt.xlabel('normalized Frequency (pi is nyquist freq))')\n",
    "plt.ylabel('Amplitude [dB]')\n",
    "plt.axvline(wc*np.pi, color='green') # cutoff frequency\n",
    "plt.show()"
   ]
  },
  {
   "cell_type": "markdown",
   "metadata": {},
   "source": [
    "Now we use the recommended second-order sections format when filtering, to avoid numerical error with transfer function (ba) format."
   ]
  },
  {
   "cell_type": "code",
   "execution_count": null,
   "metadata": {},
   "outputs": [],
   "source": [
    "b, a = signal.butter(4, fc, 'low', fs=fs, output='ba')\n",
    "sos = signal.butter(4, fc, 'low', fs=fs, output='sos')\n",
    "\n",
    "w, h = signal.freqz(b, a)\n",
    "plt.semilogx(w, 20*np.log10(np.abs(h)))\n",
    "plt.show()"
   ]
  },
  {
   "cell_type": "markdown",
   "metadata": {},
   "source": [
    "## Filtering"
   ]
  },
  {
   "cell_type": "code",
   "execution_count": null,
   "metadata": {},
   "outputs": [],
   "source": [
    "x = signal.unit_impulse(1024)\n",
    "\n",
    "y_tf  = signal.lfilter(b, a, x) # ba format\n",
    "y_sos = signal.sosfilt(sos, x)  # sos format\n",
    "\n",
    "plt.plot(y_tf, 'r', label='TF')\n",
    "plt.plot(y_sos, '--k', label='SOS')\n",
    "plt.legend(loc='best')\n",
    "plt.show()"
   ]
  },
  {
   "cell_type": "code",
   "execution_count": null,
   "metadata": {},
   "outputs": [],
   "source": [
    "from scipy.fft import rfft, rfftfreq\n",
    "freq = rfftfreq(x.size, 1 / fs)\n",
    "plt.semilogx(freq, 20*np.log10(np.abs(rfft(y_sos))))\n",
    "plt.show()"
   ]
  },
  {
   "cell_type": "markdown",
   "metadata": {},
   "source": [
    "### How to design a band pass filter"
   ]
  },
  {
   "cell_type": "code",
   "execution_count": null,
   "metadata": {},
   "outputs": [],
   "source": [
    "def butter_bp(lowcut, highcut, fs, order=4, t='sos'):\n",
    "    f_nyq = 0.5 * fs\n",
    "    low = lowcut / f_nyq\n",
    "    high = highcut / f_nyq\n",
    "    return signal.butter(order, [low, high], btype='band', output=t)"
   ]
  },
  {
   "cell_type": "code",
   "execution_count": null,
   "metadata": {},
   "outputs": [],
   "source": [
    "lowcut = 500\n",
    "highcut = 1000\n",
    "\n",
    "b, a = butter_bp(lowcut, highcut, fs, order=5, t='ba')\n",
    "\n",
    "# plot\n",
    "w, h = signal.freqz(b, a)\n",
    "plt.semilogx((fs * 0.5 / np.pi) * w[1:], 20*np.log10(np.abs(h[1:])))\n",
    "plt.ylim((-40, 5))\n",
    "plt.show()"
   ]
  },
  {
   "cell_type": "markdown",
   "metadata": {},
   "source": [
    "## Filter Bank Design\n",
    "\n",
    "Let's design a constant Q Butterworth bandpass filter bank.\n",
    "There are different possible center frequency spacings:\n",
    "\n",
    "* [Third-Octave Filter Banks](https://ccrma.stanford.edu/realsimple/aud_fb/Third_Octave_Filter_Banks.html)\n",
    "\n",
    "* [ERB Filter Bank](https://ccrma.stanford.edu/realsimple/aud_fb/Equivalent_Rectangular_Bandwidth_ERB.html)\n",
    "\n",
    "* [Mel Scale](https://labrosa.ee.columbia.edu/doc/HTKBook21/node54.html)\n",
    "\n",
    "* Bark Scale\n",
    "\n",
    "Let's start with a **third-octave filter bank**:"
   ]
  },
  {
   "cell_type": "code",
   "execution_count": null,
   "metadata": {},
   "outputs": [],
   "source": [
    "fs = 44100\n",
    "n = 28\n",
    "\n",
    "# third-octave filter bank\n",
    "freq_offset = 2\n",
    "k = np.arange(n+2) - n // 2 - freq_offset\n",
    "\n",
    "# center frequencies are defined relative to a bandpass with center frequency at 1kHz\n",
    "f_cs = np.power(2, k / 3) * 1000\n",
    "print('f_cs:', f_cs)\n",
    "\n",
    "f_chs = [] # high cutoff frequencies\n",
    "f_cls = [] # low cutoff frequencies\n",
    "filters = []\n",
    "for k in range(1, f_cs.size-1):\n",
    "    f_chs.append(np.sqrt(f_cs[k] * f_cs[k+1]))\n",
    "    f_cls.append(np.sqrt(f_cs[k-1] * f_cs[k]))\n",
    "    \n",
    "for k in range(f_cs.size-2):\n",
    "    sos = butter_bp(f_cls[k], f_chs[k], fs, order=4, t='sos')\n",
    "    filters.append(sos)\n",
    "    \n",
    "# plot\n",
    "for sos in filters:\n",
    "    w, h = signal.sosfreqz(sos, worN=10000)\n",
    "    plt.semilogx((fs * 0.5 / np.pi) * w[1:], 20*np.log10(np.abs(h[1:])))\n",
    "    plt.ylim((-100, 5))\n",
    "    plt.xlim((10, 20000))\n",
    "    plt.ylabel('H [dB]')\n",
    "    plt.xlabel('f [Hz]')\n",
    "    plt.title('third-octave filter bank')\n",
    "plt.show()"
   ]
  }
 ],
 "metadata": {
  "kernelspec": {
   "display_name": "Python 3",
   "language": "python",
   "name": "python3"
  },
  "language_info": {
   "codemirror_mode": {
    "name": "ipython",
    "version": 3
   },
   "file_extension": ".py",
   "mimetype": "text/x-python",
   "name": "python",
   "nbconvert_exporter": "python",
   "pygments_lexer": "ipython3",
   "version": "3.8.5"
  }
 },
 "nbformat": 4,
 "nbformat_minor": 4
}
