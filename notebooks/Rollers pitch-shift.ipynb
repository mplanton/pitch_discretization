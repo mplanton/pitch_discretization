{
 "cells": [
  {
   "cell_type": "markdown",
   "metadata": {},
   "source": [
    "# Rollers Pitch-Shifting Algorithm\n",
    "\n",
    "The \"Rollers\" pitch-shifting algorithm is based on narrow subband frequency shifting.\n",
    "For yielding low latencies, an IIR filter bank is used.\n",
    "\n",
    "\n",
    "## Prototype Design\n",
    "\n",
    "* constant Q IIR filter bank\n",
    "    - third-octave butterworth filter bank\n",
    "    - with 28 bands\n",
    "\n",
    "* frequency shifting per band using single sideband modulation\n",
    "    - analytical signal via `scipy.signal.hilbert()`\n",
    "    - modulation with a complex sinusoid"
   ]
  },
  {
   "cell_type": "code",
   "execution_count": null,
   "metadata": {},
   "outputs": [],
   "source": [
    "# import the needed modules\n",
    "import numpy as np\n",
    "from scipy import signal\n",
    "from scipy.io import wavfile\n",
    "import matplotlib.pyplot as plt\n",
    "plt.rcParams['figure.figsize'] = [15, 3]\n",
    "from scipy.fft import rfft, fft, rfftfreq, fftfreq\n",
    "import IPython.display as ipd"
   ]
  },
  {
   "cell_type": "code",
   "execution_count": null,
   "metadata": {},
   "outputs": [],
   "source": [
    "# let's define a function for plotting the magnitude spectrum of a signal\n",
    "def plot_mag_spec(sig, fs, name=\"\", negative=False, f_range=(20, 20000), db_range=(-40, 0), f_log=True):\n",
    "    \"\"\"\n",
    "    Plot the magnitude spectrum of the signal 'sig'.\n",
    "    sig:    signal to be analyzed\n",
    "    fs:     sampling rate of sig\n",
    "    name:   name of the plotted spectrum\n",
    "    negative: show negative frequencies (default: False)\n",
    "    f_range: define a frequency range for the spectrum (default: 20Hz to 20kHz)\n",
    "    db_range: define a magnitude range in dB for the spectrum (default: 0dB to 100dB)\n",
    "    f_log:  logarithmic or linear frequency axis? (default: True is logarithmic)\n",
    "    \"\"\"\n",
    "    w = signal.hann(sig.size) # window\n",
    "    if negative == False:\n",
    "        # just positive frequencies\n",
    "        freq = rfftfreq(sig.size, 1 / fs)\n",
    "        mag = 20*np.log10(np.abs((1/sig.size)*rfft(sig*w)))\n",
    "        if f_log == True:\n",
    "            plt.semilogx(freq, mag)\n",
    "        else:\n",
    "            plt.plot(freq, mag)\n",
    "        plt.xlim(f_range)\n",
    "    else:\n",
    "        # positive and negative frequencies\n",
    "        freq = fftfreq(sig.size, 1 / fs)\n",
    "        mag = 20*np.log10(np.abs((1/sig.size)*fft(sig*w)))\n",
    "        if f_log == True:\n",
    "            freq = freq[1:] # omit 0Hz\n",
    "            mag = mag[1:]\n",
    "        plt.plot(freq, mag)\n",
    "        plt.xlim((-f_range[1], f_range[1]))\n",
    "        if f_log == True:\n",
    "            plt.xscale('symlog')\n",
    "    plt.ylim(db_range)\n",
    "    plt.xlabel(\"f [Hz]\")\n",
    "    plt.ylabel(\"amplitude [dB]\")\n",
    "    plt.title(name)\n",
    "    plt.show()"
   ]
  },
  {
   "cell_type": "markdown",
   "metadata": {},
   "source": [
    "Let's define classes for an object oriented design for the filter bank and the frequency shifter."
   ]
  },
  {
   "cell_type": "code",
   "execution_count": null,
   "metadata": {},
   "outputs": [],
   "source": [
    "class Filterbank:\n",
    "    \"\"\"A  constant Q IIR butterworth filter bank for audio signal processing\"\"\"\n",
    "    \n",
    "    def __init__(self, n, order, fs, filt_type=\"\"):\n",
    "        self.n = n\n",
    "        self.order = order\n",
    "        self.fs = fs\n",
    "        \n",
    "        if filt_type == \"third octave\":\n",
    "            # third-octave filter bank\n",
    "            freq_offset = 2\n",
    "            k = np.arange(n + 2) - n // 2 - freq_offset\n",
    "\n",
    "            # center frequencies are defined relative to a bandpass with center frequency at 1kHz\n",
    "            f_cs = np.power(2, k / 3) * 1000\n",
    "\n",
    "            f_chs = [] # high cutoff frequencies\n",
    "            f_cls = [] # low cutoff frequencies\n",
    "            for k in range(1, f_cs.size-1):\n",
    "                f_chs.append(np.sqrt(f_cs[k] * f_cs[k+1]))\n",
    "                f_cls.append(np.sqrt(f_cs[k-1] * f_cs[k]))\n",
    "        else:\n",
    "            # log spaced filter bank\n",
    "            # 2**4 = 16Hz\n",
    "            # 14.3 = 20171Hz\n",
    "            f = np.logspace(4, 14.3, n*3, base=2)\n",
    "\n",
    "            # low cutoff frequencies\n",
    "            f_cls = f[::3]\n",
    "\n",
    "            # center frequencies\n",
    "            f_cs = f[1::3]\n",
    "\n",
    "            # high cutoff frequencies\n",
    "            f_chs = f[2::3]\n",
    "\n",
    "        filters = []\n",
    "        for k in range(f_cs.size-2):\n",
    "            sos = self.butter_bp(f_cls[k], f_chs[k])\n",
    "            filters.append(sos)\n",
    "        \n",
    "        self.fcs = f_cs[1:-1]\n",
    "        self.filters = filters\n",
    "    \n",
    "    def butter_bp(self, lowcut, highcut):\n",
    "        \"\"\"\n",
    "        Design a butterworth bandpass filter and return the 'sos' filter.\n",
    "        lowcut: low cutoff frequency\n",
    "        highcut: high cutoff frequency\n",
    "        \"\"\"\n",
    "        f_nyq = 0.5 * self.fs\n",
    "        low = lowcut / f_nyq\n",
    "        high = highcut / f_nyq\n",
    "        return signal.butter(self.order, [low, high], btype='band', output='sos')\n",
    "    \n",
    "    def plot_filters(self):\n",
    "        \"\"\"Plot the magnitude spectrum of all filter of the filter bank.\"\"\"\n",
    "        for sos in self.filters:\n",
    "            w, h = signal.sosfreqz(sos, worN=10000)\n",
    "            plt.semilogx((self.fs * 0.5 / np.pi) * w[1:], 20*np.log10(np.abs(h[1:])))\n",
    "            plt.ylim((-100, 5))\n",
    "            plt.xlim((10, 20000))\n",
    "            plt.ylabel('H [dB]')\n",
    "            plt.xlabel('f [Hz]')\n",
    "            plt.title('third-octave filter bank')\n",
    "        plt.show()\n",
    "    \n",
    "    def filt(self, in_sig):\n",
    "        \"\"\"Filter the in_sig and return an array of the filtered signals.\"\"\"\n",
    "        filtered_signals = []\n",
    "        for sos in self.filters:\n",
    "            filtered_signals.append(signal.sosfilt(sos, in_sig))\n",
    "        return filtered_signals\n",
    "\n",
    "# test the Filterbank class\n",
    "#filtb = Filterbank(28, 4, 44100)\n",
    "#filtb.plot_filters()\n",
    "#noise = np.random.normal(0, 1, 10*1024)\n",
    "#filtered_noise = filtb.filt(noise)\n",
    "#plot_mag_spec(filtered_noise[10], 44100, db_range=[-100, -30])"
   ]
  },
  {
   "cell_type": "code",
   "execution_count": null,
   "metadata": {},
   "outputs": [],
   "source": [
    "class Frequency_shifter:\n",
    "    \"\"\"A frequency shifter for audio processing using single sideband moduation\"\"\"\n",
    "    \n",
    "    def shift(self, in_sig, fs, f_shift):\n",
    "        \"\"\"Do frequency shifting of the signal 'in_sig' by the freuency 'f_shift'.\"\"\"\n",
    "        # the carrier is a complex exponential\n",
    "        t = np.linspace(0, in_sig.size/fs, in_sig.size)\n",
    "        carrier = np.exp(1j*2*np.pi*f_shift*t)\n",
    "        return (signal.hilbert(in_sig) * carrier).real\n",
    "\n",
    "# test the Frequency_shifter class\n",
    "#filtb = Filterbank(28, 4, 44100)\n",
    "#noise = np.random.normal(0, 1, 10*1024)\n",
    "#filtered_noise = filtb.filt(noise)\n",
    "#plot_mag_spec(filtered_noise[20], 44100, \"original\", db_range=[-100, -30], f_log=False)\n",
    "#\n",
    "#f_shifter = Frequency_shifter()\n",
    "#shifted_filtered_noise = f_shifter.shift(filtered_noise[20], 44100, 5000)\n",
    "#plot_mag_spec(shifted_filtered_noise, 44100, \"shifted\", db_range=[-100, -30], f_log=False)"
   ]
  },
  {
   "cell_type": "markdown",
   "metadata": {},
   "source": [
    "Now to the actual signal processing using the defined classes from above."
   ]
  },
  {
   "cell_type": "code",
   "execution_count": null,
   "metadata": {},
   "outputs": [],
   "source": [
    "# load audio material\n",
    "fs, x = wavfile.read(\"../../samples/Toms_diner.wav\")\n",
    "x = x / np.abs(x.max())\n",
    "\n",
    "plt.plot(x)\n",
    "plt.title(\"original\")\n",
    "ipd.Audio(x, rate=fs)"
   ]
  },
  {
   "cell_type": "code",
   "execution_count": null,
   "metadata": {},
   "outputs": [],
   "source": [
    "# pitch shift ratio\n",
    "psr = 2\n",
    "\n",
    "filt_bank = Filterbank(28, 4, fs, filt_type=\"third octave\")\n",
    "freq_shifter = Frequency_shifter()\n",
    "\n",
    "# filtering by the filter bank\n",
    "x_filtered = filt_bank.filt(x)\n",
    "\n",
    "# frequency shifting in every band\n",
    "out_signals = []\n",
    "for i in range(len(x_filtered)):\n",
    "    fc = filt_bank.fcs[i]\n",
    "    f_shift = fc * psr - fc\n",
    "    out_signals.append(freq_shifter.shift(x_filtered[i], fs, f_shift))\n",
    "\n",
    "# add them together\n",
    "out_sig = np.zeros(out_signals[0].size)\n",
    "for sig in out_signals:\n",
    "    out_sig += sig"
   ]
  },
  {
   "cell_type": "code",
   "execution_count": null,
   "metadata": {},
   "outputs": [],
   "source": [
    "# plot\n",
    "plt.plot(out_sig)\n",
    "plt.title(\"'Rollers' pitch shifted\")\n",
    "ipd.Audio(out_sig, rate=fs)"
   ]
  },
  {
   "cell_type": "markdown",
   "metadata": {},
   "source": [
    "With the very coarse filter bank for this application, the result is shifted in pitch, but it also has inharmonic frequency content and sounds like a chorus effect, since the frequency bands are too wide.\n",
    "This is an interesting artifact, but to increase the sound quality, we have to design a filter bank with a lot more filters.\n",
    "The paper suggests $n=73$ filters for low quality and $n=1500$ for for perfect quality.\n",
    "*Good results* can be achieved with $n=200$ bands.\n",
    "\n",
    "\n",
    "## A design with a larger filter bank\n",
    "\n"
   ]
  },
  {
   "cell_type": "code",
   "execution_count": null,
   "metadata": {},
   "outputs": [],
   "source": [
    "# define the rollers algorithm\n",
    "def rollers(x, psr, fs, n, order):\n",
    "    \"\"\"\n",
    "    Rollers pitch-shifting algorithm.\n",
    "    x: input signal to be pitch-shifted\n",
    "    psr: pitch shifting ratio (1: prim, 2: octave up, 0.5: octave down, etc.)\n",
    "    fs:  sampling rate of x\n",
    "    n: number of frequency bands of the filter bank\n",
    "    order: order of the butterworth filters in the filter bank\n",
    "    \"\"\"\n",
    "    filt_bank = Filterbank(n, order, fs)\n",
    "    freq_shifter = Frequency_shifter()\n",
    "\n",
    "    # filtering by the filter bank\n",
    "    x_filtered = filt_bank.filt(x)\n",
    "\n",
    "    # frequency shifting in every band\n",
    "    out_signals = []\n",
    "    for i in range(len(x_filtered)):\n",
    "        fc = filt_bank.fcs[i]\n",
    "        f_shift = fc * psr - fc\n",
    "        out_signals.append(freq_shifter.shift(x_filtered[i], fs, f_shift))\n",
    "\n",
    "    # add them together\n",
    "    y = np.zeros(out_signals[0].size)\n",
    "    for sig in out_signals:\n",
    "        y += sig\n",
    "    return y"
   ]
  },
  {
   "cell_type": "code",
   "execution_count": null,
   "metadata": {},
   "outputs": [],
   "source": [
    "psr = 1.25\n",
    "order = 4\n",
    "n = 200\n",
    "\n",
    "out_sig = rollers(x, psr, fs, n, order)"
   ]
  },
  {
   "cell_type": "code",
   "execution_count": null,
   "metadata": {
    "scrolled": true
   },
   "outputs": [],
   "source": [
    "# plot\n",
    "plt.plot(out_sig)\n",
    "plt.title(\"'Rollers' pitch shifted\")\n",
    "ipd.Audio(out_sig, rate=fs)"
   ]
  },
  {
   "cell_type": "markdown",
   "metadata": {},
   "source": [
    "There are stronger downward chirp artifacts with $n=200$, but the inharmonicities and the chorus type effect is far less prominant."
   ]
  },
  {
   "cell_type": "code",
   "execution_count": null,
   "metadata": {},
   "outputs": [],
   "source": [
    "# Let's try a lower filter order\n",
    "psr = 1.25\n",
    "order = 2\n",
    "n = 200\n",
    "\n",
    "out_sig = rollers(x, psr, fs, n, order)"
   ]
  },
  {
   "cell_type": "code",
   "execution_count": null,
   "metadata": {},
   "outputs": [],
   "source": [
    "# plot\n",
    "plt.plot(out_sig)\n",
    "plt.title(\"'Rollers' pitch shifted\")\n",
    "ipd.Audio(out_sig, rate=fs)"
   ]
  }
 ],
 "metadata": {
  "kernelspec": {
   "display_name": "Python 3",
   "language": "python",
   "name": "python3"
  },
  "language_info": {
   "codemirror_mode": {
    "name": "ipython",
    "version": 3
   },
   "file_extension": ".py",
   "mimetype": "text/x-python",
   "name": "python",
   "nbconvert_exporter": "python",
   "pygments_lexer": "ipython3",
   "version": "3.8.5"
  }
 },
 "nbformat": 4,
 "nbformat_minor": 4
}
