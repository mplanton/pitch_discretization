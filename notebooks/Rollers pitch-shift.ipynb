{
 "cells": [
  {
   "cell_type": "markdown",
   "metadata": {},
   "source": [
    "# Rollers Pitch-Shifting Algorithm\n",
    "\n",
    "The \"Rollers\" pitch-shifting algorithm is based on narrow subband frequency shifting.\n",
    "For yielding low latencies, an IIR filter bank is used.\n",
    "\n",
    "\n",
    "## Prototype Design\n",
    "\n",
    "* constant Q IIR filter bank\n",
    "    - third-octave butterworth filter bank\n",
    "    - with 28 bands\n",
    "\n",
    "* frequency shifting per band using single sideband modulation\n",
    "    - analytical signal via `scipy.signal.hilbert()`\n",
    "    - modulation with a complex sinusoid"
   ]
  },
  {
   "cell_type": "code",
   "execution_count": null,
   "metadata": {},
   "outputs": [],
   "source": [
    "# import the needed modules\n",
    "import numpy as np\n",
    "from scipy import signal\n",
    "from scipy.io import wavfile\n",
    "import matplotlib.pyplot as plt\n",
    "plt.rcParams['figure.figsize'] = [15, 3]\n",
    "from scipy.fft import rfft, fft, rfftfreq, fftfreq\n",
    "import IPython.display as ipd"
   ]
  },
  {
   "cell_type": "code",
   "execution_count": null,
   "metadata": {},
   "outputs": [],
   "source": [
    "# let's define a function for plotting the magnitude spectrum of a signal\n",
    "def plot_mag_spec(sig, fs, name=\"\", negative=False, f_range=(20, 20000), db_range=(-40, 0), f_log=True):\n",
    "    \"\"\"\n",
    "    Plot the magnitude spectrum of the signal 'sig'.\n",
    "    sig:    signal to be analyzed\n",
    "    fs:     sampling rate of sig\n",
    "    name:   name of the plotted spectrum\n",
    "    negative: show negative frequencies (default: False)\n",
    "    f_range: define a frequency range for the spectrum (default: 20Hz to 20kHz)\n",
    "    db_range: define a magnitude range in dB for the spectrum (default: 0dB to 100dB)\n",
    "    f_log:  logarithmic or linear frequency axis? (default: True is logarithmic)\n",
    "    \"\"\"\n",
    "    w = signal.hann(sig.size) # window\n",
    "    if negative == False:\n",
    "        # just positive frequencies\n",
    "        freq = rfftfreq(sig.size, 1 / fs)\n",
    "        mag = 20*np.log10(np.abs((1/sig.size)*rfft(sig*w)))\n",
    "        if f_log == True:\n",
    "            plt.semilogx(freq, mag)\n",
    "        else:\n",
    "            plt.plot(freq, mag)\n",
    "        plt.xlim(f_range)\n",
    "    else:\n",
    "        # positive and negative frequencies\n",
    "        freq = fftfreq(sig.size, 1 / fs)\n",
    "        mag = 20*np.log10(np.abs((1/sig.size)*fft(sig*w)))\n",
    "        if f_log == True:\n",
    "            freq = freq[1:] # omit 0Hz\n",
    "            mag = mag[1:]\n",
    "        plt.plot(freq, mag)\n",
    "        plt.xlim((-f_range[1], f_range[1]))\n",
    "        if f_log == True:\n",
    "            plt.xscale('symlog')\n",
    "    plt.ylim(db_range)\n",
    "    plt.xlabel(\"f [Hz]\")\n",
    "    plt.ylabel(\"amplitude [dB]\")\n",
    "    plt.title(name)\n",
    "    plt.show()"
   ]
  },
  {
   "cell_type": "markdown",
   "metadata": {},
   "source": [
    "Let's define classes for an object oriented design for the filter bank and the frequency shifter."
   ]
  },
  {
   "cell_type": "code",
   "execution_count": null,
   "metadata": {},
   "outputs": [],
   "source": [
    "class Filterbank:\n",
    "    \"\"\"A  constant Q IIR butterworth filter bank for audio signal processing\"\"\"\n",
    "    \n",
    "    def __init__(self, n, order, fs, filt_type=\"\"):\n",
    "        self.n = n\n",
    "        self.order = order\n",
    "        self.fs = fs\n",
    "        \n",
    "        if filt_type == \"third octave\":\n",
    "            # third-octave filter bank\n",
    "            freq_offset = 2\n",
    "            k = np.arange(n + 2) - n // 2 - freq_offset\n",
    "\n",
    "            # center frequencies are defined relative to a bandpass with center frequency at 1kHz\n",
    "            f_cs = np.power(2, k / 3) * 1000\n",
    "\n",
    "            f_chs = [] # high cutoff frequencies\n",
    "            f_cls = [] # low cutoff frequencies\n",
    "            for k in range(1, f_cs.size-1):\n",
    "                f_chs.append(np.sqrt(f_cs[k] * f_cs[k+1]))\n",
    "                f_cls.append(np.sqrt(f_cs[k-1] * f_cs[k]))\n",
    "        else:\n",
    "            # log spaced filter bank\n",
    "            # 2**4 = 16Hz\n",
    "            # 14.3 = 20171Hz\n",
    "            f = np.logspace(4, 14.3, n*3, base=2)\n",
    "\n",
    "            # low cutoff frequencies\n",
    "            f_cls = f[::3]\n",
    "\n",
    "            # center frequencies\n",
    "            f_cs = f[1::3]\n",
    "\n",
    "            # high cutoff frequencies\n",
    "            f_chs = f[2::3]\n",
    "\n",
    "        filters = []\n",
    "        for k in range(f_cs.size-2):\n",
    "            sos = self.butter_bp(f_cls[k], f_chs[k])\n",
    "            filters.append(sos)\n",
    "        \n",
    "        self.fcs = f_cs[1:-1]\n",
    "        self.filters = filters\n",
    "    \n",
    "    def butter_bp(self, lowcut, highcut):\n",
    "        \"\"\"\n",
    "        Design a butterworth bandpass filter and return the 'sos' filter.\n",
    "        lowcut: low cutoff frequency\n",
    "        highcut: high cutoff frequency\n",
    "        \"\"\"\n",
    "        f_nyq = 0.5 * self.fs\n",
    "        low = lowcut / f_nyq\n",
    "        high = highcut / f_nyq\n",
    "        return signal.butter(self.order, [low, high], btype='band', output='sos')\n",
    "    \n",
    "    def plot_filters(self):\n",
    "        \"\"\"Plot the magnitude spectrum of all filter of the filter bank.\"\"\"\n",
    "        for sos in self.filters:\n",
    "            w, h = signal.sosfreqz(sos, worN=10000)\n",
    "            plt.semilogx((self.fs * 0.5 / np.pi) * w[1:], 20*np.log10(np.abs(h[1:])))\n",
    "            plt.ylim((-100, 5))\n",
    "            plt.xlim((10, 20000))\n",
    "            plt.ylabel('H [dB]')\n",
    "            plt.xlabel('f [Hz]')\n",
    "            plt.title('third-octave filter bank')\n",
    "        plt.show()\n",
    "    \n",
    "    def filt(self, in_sig):\n",
    "        \"\"\"Filter the in_sig and return an array of the filtered signals.\"\"\"\n",
    "        filtered_signals = []\n",
    "        for sos in self.filters:\n",
    "            filtered_signals.append(signal.sosfilt(sos, in_sig))\n",
    "        return filtered_signals\n",
    "\n",
    "# test the Filterbank class\n",
    "#filtb = Filterbank(28, 4, 44100)\n",
    "#filtb.plot_filters()\n",
    "#noise = np.random.normal(0, 1, 10*1024)\n",
    "#filtered_noise = filtb.filt(noise)\n",
    "#plot_mag_spec(filtered_noise[10], 44100, db_range=[-100, -30])"
   ]
  },
  {
   "cell_type": "code",
   "execution_count": null,
   "metadata": {},
   "outputs": [],
   "source": [
    "class Frequency_shifter:\n",
    "    \"\"\"A frequency shifter for audio processing using single sideband moduation\"\"\"\n",
    "    \n",
    "    def shift(self, in_sig, fs, f_shift):\n",
    "        \"\"\"Do frequency shifting of the signal 'in_sig' by the freuency 'f_shift'.\"\"\"\n",
    "        # the carrier is a complex exponential\n",
    "        t = np.linspace(0, in_sig.size/fs, in_sig.size)\n",
    "        carrier = np.exp(1j*2*np.pi*f_shift*t)\n",
    "        return (signal.hilbert(in_sig) * carrier).real\n",
    "\n",
    "# test the Frequency_shifter class\n",
    "#filtb = Filterbank(28, 4, 44100)\n",
    "#noise = np.random.normal(0, 1, 10*1024)\n",
    "#filtered_noise = filtb.filt(noise)\n",
    "#plot_mag_spec(filtered_noise[20], 44100, \"original\", db_range=[-100, -30], f_log=False)\n",
    "#\n",
    "#f_shifter = Frequency_shifter()\n",
    "#shifted_filtered_noise = f_shifter.shift(filtered_noise[20], 44100, 5000)\n",
    "#plot_mag_spec(shifted_filtered_noise, 44100, \"shifted\", db_range=[-100, -30], f_log=False)"
   ]
  },
  {
   "cell_type": "markdown",
   "metadata": {},
   "source": [
    "Now to the actual signal processing using the defined classes from above."
   ]
  },
  {
   "cell_type": "code",
   "execution_count": null,
   "metadata": {},
   "outputs": [],
   "source": [
    "# load audio material\n",
    "fs, x = wavfile.read(\"../../samples/Toms_diner.wav\")\n",
    "x = x / np.abs(x.max())\n",
    "\n",
    "plt.plot(x)\n",
    "plt.title(\"original\")\n",
    "ipd.Audio(x, rate=fs)"
   ]
  },
  {
   "cell_type": "code",
   "execution_count": null,
   "metadata": {},
   "outputs": [],
   "source": [
    "# pitch shift ratio\n",
    "psr = 1.25\n",
    "\n",
    "filt_bank = Filterbank(28, 4, fs, filt_type=\"third octave\")\n",
    "freq_shifter = Frequency_shifter()\n",
    "\n",
    "# filtering by the filter bank\n",
    "x_filtered = filt_bank.filt(x)\n",
    "\n",
    "# frequency shifting in every band\n",
    "out_signals = []\n",
    "for i in range(len(x_filtered)):\n",
    "    fc = filt_bank.fcs[i]\n",
    "    f_shift = fc * psr - fc\n",
    "    out_signals.append(freq_shifter.shift(x_filtered[i], fs, f_shift))\n",
    "\n",
    "# add them together\n",
    "out_sig = np.zeros(out_signals[0].size)\n",
    "for sig in out_signals:\n",
    "    out_sig += sig"
   ]
  },
  {
   "cell_type": "code",
   "execution_count": null,
   "metadata": {},
   "outputs": [],
   "source": [
    "# plot\n",
    "plt.plot(out_sig)\n",
    "plt.title(\"'Rollers' pitch shifted\")\n",
    "ipd.Audio(out_sig, rate=fs)"
   ]
  },
  {
   "cell_type": "markdown",
   "metadata": {},
   "source": [
    "With the very coarse filter bank for this application, the result is shifted in pitch, but it also has inharmonic frequency content and sounds like a chorus effect, since the frequency bands are too wide.\n",
    "This is an interesting artifact, but to increase the sound quality, we have to design a filter bank with a lot more filters.\n",
    "The paper suggests $n=73$ filters for low quality and $n=1500$ for for perfect quality.\n",
    "*Good results* can be achieved with $n=200$ bands.\n",
    "\n",
    "\n",
    "## A design with a larger filter bank\n",
    "\n"
   ]
  },
  {
   "cell_type": "code",
   "execution_count": null,
   "metadata": {},
   "outputs": [],
   "source": [
    "# define the rollers algorithm\n",
    "def rollers(x, psr, fs, n, order):\n",
    "    \"\"\"\n",
    "    Rollers pitch-shifting algorithm.\n",
    "    x: input signal to be pitch-shifted\n",
    "    psr: pitch shifting ratio (1: prim, 2: octave up, 0.5: octave down, etc.)\n",
    "    fs:  sampling rate of x\n",
    "    n: number of frequency bands of the filter bank\n",
    "    order: order of the butterworth filters in the filter bank\n",
    "    \"\"\"\n",
    "    filt_bank = Filterbank(n, order, fs)\n",
    "    freq_shifter = Frequency_shifter()\n",
    "\n",
    "    # filtering by the filter bank\n",
    "    x_filtered = filt_bank.filt(x)\n",
    "\n",
    "    # frequency shifting in every band\n",
    "    out_signals = []\n",
    "    for i in range(len(x_filtered)):\n",
    "        fc = filt_bank.fcs[i]\n",
    "        f_shift = fc * psr - fc\n",
    "        out_signals.append(freq_shifter.shift(x_filtered[i], fs, f_shift))\n",
    "\n",
    "    # add them together\n",
    "    y = np.zeros(out_signals[0].size)\n",
    "    for sig in out_signals:\n",
    "        y += sig\n",
    "    return y"
   ]
  },
  {
   "cell_type": "code",
   "execution_count": null,
   "metadata": {},
   "outputs": [],
   "source": [
    "psr = 1.25\n",
    "order = 4\n",
    "n = 200\n",
    "\n",
    "out_large = rollers(x, psr, fs, n, order)"
   ]
  },
  {
   "cell_type": "code",
   "execution_count": null,
   "metadata": {
    "scrolled": true
   },
   "outputs": [],
   "source": [
    "# plot\n",
    "plt.plot(out_large)\n",
    "plt.title(\"'Rollers' pitch shifted\")\n",
    "ipd.Audio(out_large, rate=fs)"
   ]
  },
  {
   "cell_type": "markdown",
   "metadata": {},
   "source": [
    "There are stronger downward chirp artifacts with $n=200$, but the *detuning* artifact and the chorus type effect is far less prominant. Also there is a kind of metallic reverb, which might also be a result of the filter resonances."
   ]
  },
  {
   "cell_type": "code",
   "execution_count": null,
   "metadata": {},
   "outputs": [],
   "source": [
    "# Let's try a lower filter order\n",
    "psr = 1.25\n",
    "order = 2\n",
    "n = 200\n",
    "\n",
    "out_large2 = rollers(x, psr, fs, n, order)"
   ]
  },
  {
   "cell_type": "code",
   "execution_count": null,
   "metadata": {},
   "outputs": [],
   "source": [
    "# plot\n",
    "plt.plot(out_large2)\n",
    "plt.title(\"'Rollers' pitch shifted\")\n",
    "ipd.Audio(out_large2, rate=fs)"
   ]
  },
  {
   "cell_type": "markdown",
   "metadata": {},
   "source": [
    "With order 2 filters, the chirp and reverb artifcts are less prominant, but the *detuning* artifact is audible.\n",
    "\n",
    "\n",
    "## Further improvement\n",
    "\n",
    "### sound quality\n",
    "\n",
    "* Formant preservation (adds latency)\n",
    "\n",
    "* Allow notches between the bands to reduce _detuning_ in expense of perfect reconstruction\n",
    "\n",
    "* To reduce resonance force frequency width of the lower bands to some fixed minimum width, and use a logarithmic scale only for the higher bands.\n",
    "\n",
    "\n",
    "### performance\n",
    "\n",
    "* IIR allpass filters instead of true Hilbert transform\n",
    "\n",
    "* polyphase filterbank (downsampling)?\n",
    "\n",
    "\n",
    "Let's check the spectrogram of the impulse response of the filter bank to identify the resonance frequencies."
   ]
  },
  {
   "cell_type": "code",
   "execution_count": null,
   "metadata": {},
   "outputs": [],
   "source": [
    "x = signal.unit_impulse(10*1024)\n",
    "psr = 1\n",
    "order = 2\n",
    "n = 200\n",
    "\n",
    "y = rollers(x, psr, fs, n, order)\n",
    "\n",
    "# plot spectrogram\n",
    "f, t, Sxx = signal.spectrogram(y, fs, nperseg=256)\n",
    "plt.pcolormesh(t, f, Sxx, shading='gouraud')\n",
    "plt.yscale('symlog')\n",
    "plt.ylim((100, 20000))\n",
    "plt.ylabel('f [Hz]')\n",
    "plt.xlabel('t [sec]')\n",
    "plt.show()"
   ]
  },
  {
   "cell_type": "code",
   "execution_count": null,
   "metadata": {},
   "outputs": [],
   "source": [
    "# let's try it with white noise to get some energy\n",
    "x = np.hstack((np.random.normal(0, 1, 10*1024), np.zeros(25*1024)))\n",
    "psr = 1\n",
    "order = 2\n",
    "n = 200\n",
    "\n",
    "y = rollers(x, psr, fs, n, order)\n",
    "\n",
    "# plot spectrogram\n",
    "f, t, Sxx = signal.spectrogram(y, fs, nperseg=512)\n",
    "plt.pcolormesh(t, f, Sxx, shading='gouraud')\n",
    "plt.yscale('symlog')\n",
    "plt.ylim((10, 20000))\n",
    "plt.ylabel('f [Hz]')\n",
    "plt.xlabel('t [sec]')\n",
    "plt.show()"
   ]
  },
  {
   "cell_type": "code",
   "execution_count": null,
   "metadata": {
    "scrolled": true
   },
   "outputs": [],
   "source": [
    "ipd.Audio(y, rate=fs)"
   ]
  },
  {
   "cell_type": "markdown",
   "metadata": {},
   "source": [
    "## Time variant pitch-shifting\n",
    "\n",
    "For using the Rollers algorithm in a pitch-discretization effect, time variant pitch-shifting is needed.\n",
    "A pitch-tracking algorithm like pYIN provides\n",
    "\n",
    "- an estimated fundamental frequency for every block\n",
    "\n",
    "- the pitch-tracking analysis block size"
   ]
  },
  {
   "cell_type": "code",
   "execution_count": null,
   "metadata": {},
   "outputs": [],
   "source": [
    "# analysis block size\n",
    "N = 10*1000\n",
    "\n",
    "# pitch estimates\n",
    "f0 = np.asarray([100, 200, 300, 400, 500, 600, 1000, 1500, 2000, 1000])\n",
    "\n",
    "# generate input signal\n",
    "fs = 44100\n",
    "dur = N / fs\n",
    "t = np.linspace(0, dur, N)\n",
    "x = np.asarray(())\n",
    "for f in f0:\n",
    "    x_new = np.sin(2*np.pi*f*t) * signal.hann(N)\n",
    "    x = np.hstack((x, x_new))\n",
    "\n",
    "plt.plot(x)\n",
    "ipd.Audio(x, rate=fs)"
   ]
  },
  {
   "cell_type": "markdown",
   "metadata": {},
   "source": [
    "Now we do time variant pitch shifting to a constant target pitch.\n",
    "This leads to a time variant _pitch-shifting ratio_."
   ]
  },
  {
   "cell_type": "code",
   "execution_count": null,
   "metadata": {},
   "outputs": [],
   "source": [
    "# target pitch\n",
    "ft = 500\n",
    "\n",
    "# filter bank parameters\n",
    "order = 2\n",
    "n = 200\n",
    "\n",
    "\n",
    "# Rollers\n",
    "filt_bank = Filterbank(n, order, fs)\n",
    "freq_shifter = Frequency_shifter()\n",
    "\n",
    "# divide input into frequency bands\n",
    "x_filtered = filt_bank.filt(x)\n",
    "\n",
    "# calculate the pitch shifting ratio for every pitch analysis block\n",
    "psr = ft / f0\n",
    "print(\"pitch shift ratios:\", psr)\n",
    "\n",
    "# frequency shifting in every band\n",
    "out_signals = []\n",
    "t = np.linspace(0, x_filtered[0].size/fs, x_filtered[0].size)\n",
    "for i in range(len(x_filtered)):\n",
    "    # calculate time variant carrier frequencies for every block\n",
    "    fc = filt_bank.fcs[i]\n",
    "    f_shift = fc * psr - fc\n",
    "    \n",
    "    # frequency shifting with time variable carrier frequency\n",
    "    carrier = np.zeros(x_filtered[i].size, dtype=complex)\n",
    "    for j in range(f_shift.size):\n",
    "        f = f_shift[j] # discontinuous carrier frequency causes cracks\n",
    "        carrier[j*N:(j+1)*N] = np.exp(1j*2*np.pi*f*t[j*N:(j+1)*N])\n",
    "    band = (signal.hilbert(x_filtered[i]) * carrier).real\n",
    "\n",
    "    out_signals.append(band)\n",
    "\n",
    "# add bands together\n",
    "y = np.zeros(out_signals[0].size)\n",
    "for sig in out_signals:\n",
    "    y += sig"
   ]
  },
  {
   "cell_type": "code",
   "execution_count": null,
   "metadata": {
    "scrolled": true
   },
   "outputs": [],
   "source": [
    "plt.plot(y)\n",
    "ipd.Audio(y, rate=fs)"
   ]
  },
  {
   "cell_type": "markdown",
   "metadata": {},
   "source": [
    "The time variant pitch shifting to a constant pitch works, since the pitch stays constant.\n",
    "The amplitude fluctuations are from the detuning artifact, which is most prominent on sine tones.\n",
    "The discontiuities are from the discontiuous change of carrier frequencies.\n",
    "To remove these cracks, the carrier frequencies might be interpolated or filtered."
   ]
  },
  {
   "cell_type": "code",
   "execution_count": null,
   "metadata": {},
   "outputs": [],
   "source": [
    "plt.rcParams['figure.figsize'] = [15, 9]\n",
    "fig, ax = plt.subplots(4)\n",
    "ax[0].plot(carrier.real)\n",
    "ax[0].set_ylabel(\"real\")\n",
    "ax[0].set_title(\"carrier\")\n",
    "ax[1].plot(carrier.imag)\n",
    "ax[1].set_ylabel(\"imag\")\n",
    "ax[2].plot(x)\n",
    "ax[2].set_title(\"original\")\n",
    "ax[3].plot(y)\n",
    "ax[3].set_title(\"shifted\")\n",
    "plt.show()\n",
    "plt.rcParams['figure.figsize'] = [15, 3]"
   ]
  },
  {
   "cell_type": "markdown",
   "metadata": {},
   "source": [
    "### Fixing the carrier signal with upsampling\n",
    "\n",
    "Now let's get rid of the crackling caused by the discontinuous frequency for the carrier signal by _upsampling_ and interpolating it.\n",
    "\n",
    "From the pitch estimates $f_0$, the pitch shifting ratio $psr$ is calculated by $psr = \\frac{f_{target}}{f_0}$.\n",
    "Then for every band with center frequency $f_c$, the frequency shift is calculated by $f_{shift} = f_c \\cdot psr - f_c$"
   ]
  },
  {
   "cell_type": "code",
   "execution_count": null,
   "metadata": {},
   "outputs": [],
   "source": [
    "f0 = np.asarray([100, 200, 300, 400, 500, 600, 1000, 1500, 2000, 1000])\n",
    "\n",
    "# take the band at 1kHz\n",
    "fc = 1000\n",
    "\n",
    "ft = 500\n",
    "psr = ft / f0\n",
    "\n",
    "f_shift = fc * psr - fc\n",
    "\n",
    "plt.stem(f_shift)\n",
    "plt.title(\"f_shift\")\n",
    "plt.show()"
   ]
  },
  {
   "cell_type": "markdown",
   "metadata": {},
   "source": [
    "Since the pitch analysis block size $N$ is much bigger than the audio sampling period, for every frequency step, a click appears, which is audible as a crackling sound.\n",
    "If we upsample this signal and interpolate it, we get a smooth transition between the frequencies and there should be no audible click or crackling in the output signal.\n",
    "We have to investigate, what the interpolation of the frequency does to the overall algorithm."
   ]
  },
  {
   "cell_type": "code",
   "execution_count": null,
   "metadata": {},
   "outputs": [],
   "source": [
    "f_shift_resampled = signal.resample(f_shift, f_shift.size * 20)\n",
    "\n",
    "plt.stem(f_shift_resampled)\n",
    "plt.title(\"f_shift_resampled\")\n",
    "plt.show()"
   ]
  },
  {
   "cell_type": "markdown",
   "metadata": {},
   "source": [
    "The `scipy.signal.resample()` function uses the fourier method, which leads to artifacts in the frequency signal.\n",
    "So let's do the resampling by ourselves with linear inperpolation or equivalently with a moving average filter.\n",
    "(see Oppenheim and Schafer)"
   ]
  },
  {
   "cell_type": "code",
   "execution_count": null,
   "metadata": {},
   "outputs": [],
   "source": [
    "# sampling rate expansion\n",
    "L = 10 # upsampling factor\n",
    "f_expanded = np.zeros(L*f_shift.size)\n",
    "f_expanded[::L] = f_shift\n",
    "plt.stem(f_expanded)\n",
    "plt.show()"
   ]
  },
  {
   "cell_type": "code",
   "execution_count": null,
   "metadata": {},
   "outputs": [],
   "source": [
    "# moving average FIR\n",
    "h = signal.windows.triang(2*L - 1)\n",
    "plt.stem(h)\n",
    "plt.title(\"moving average impulse response\")\n",
    "plt.show()"
   ]
  },
  {
   "cell_type": "code",
   "execution_count": null,
   "metadata": {
    "scrolled": true
   },
   "outputs": [],
   "source": [
    "# filtering (truncate convolution tale with mode=\"same\")\n",
    "f_upsampled = signal.convolve(f_expanded, h, mode=\"same\")\n",
    "\n",
    "plt.rcParams['figure.figsize'] = [15, 9]\n",
    "fig, ax = plt.subplots(3)\n",
    "ax[0].stem(f_shift)\n",
    "ax[0].set_ylabel(\"original\")\n",
    "ax[0].set_title(\"upsampling\")\n",
    "ax[1].stem(f_expanded)\n",
    "ax[1].set_ylabel(\"expanded\")\n",
    "ax[2].stem(f_upsampled)\n",
    "ax[2].set_ylabel(\"moving average filtered\")\n",
    "plt.show()"
   ]
  },
  {
   "cell_type": "markdown",
   "metadata": {},
   "source": [
    "So, this works fine, but we want a different value succession.\n",
    "We want the values to stay constant and vary smoothly at the changes."
   ]
  },
  {
   "cell_type": "code",
   "execution_count": null,
   "metadata": {},
   "outputs": [],
   "source": [
    "f_repeated = np.repeat(f_shift, L)\n",
    "f_upsampled = signal.convolve(f_repeated, h, mode=\"same\")\n",
    "\n",
    "fig, ax = plt.subplots(3)\n",
    "ax[0].stem(f_shift)\n",
    "ax[0].set_ylabel(\"original\")\n",
    "ax[0].set_title(\"upsampling\")\n",
    "ax[1].stem(f_repeated)\n",
    "ax[1].set_ylabel(\"repeated\")\n",
    "ax[2].stem(f_upsampled)\n",
    "ax[2].set_ylabel(\"moving average filtered\")\n",
    "plt.show()"
   ]
  },
  {
   "cell_type": "markdown",
   "metadata": {},
   "source": [
    "TODO: entweder Nullen einfügen und moving average filtern oder letzten Wert wiederholen!!!!\n",
    "Ein moving average filter für ein signal, das wiederholte letzte Werte hat, muss mit einem Faktor (IR Länge) angepasst werden, um es zu glätten!!!!!\n",
    "\n",
    "It looks, that there is too much smoothing going on.\n",
    "Since we want to just smooth the edges, a IR of length 3 should be right.\n",
    "This can be adjusted and varies according to the upsampling factor L, if there are still audible clicks."
   ]
  },
  {
   "cell_type": "code",
   "execution_count": null,
   "metadata": {},
   "outputs": [],
   "source": [
    "h = signal.windows.triang(3)\n",
    "f_upsampled = signal.convolve(f_repeated, h, mode=\"same\")\n",
    "\n",
    "fig, ax = plt.subplots(3)\n",
    "ax[0].stem(f_shift)\n",
    "ax[0].set_ylabel(\"original\")\n",
    "ax[0].set_title(\"upsampling\")\n",
    "ax[1].stem(f_repeated)\n",
    "ax[1].set_ylabel(\"repeated\")\n",
    "ax[2].stem(f_upsampled)\n",
    "ax[2].set_ylabel(\"moving average filtered\")\n",
    "plt.show()"
   ]
  },
  {
   "cell_type": "markdown",
   "metadata": {},
   "source": [
    "So let's add the upsampling to the Rollers algorithm and check the audio quality of the result."
   ]
  },
  {
   "cell_type": "code",
   "execution_count": null,
   "metadata": {},
   "outputs": [],
   "source": [
    "# target pitch\n",
    "ft = 500\n",
    "\n",
    "# filter bank parameters\n",
    "order = 2\n",
    "n = 200\n",
    "\n",
    "# control signal upsampling factor\n",
    "L = 500\n",
    "# length of control signal smoothing filter\n",
    "l = 160\n",
    "h_smooth = signal.windows.triang(l)\n",
    "M = N // L\n",
    "print(\"upsampling L:\", L, \"smoothing l:\", l, \"block length M:\", M)\n",
    "\n",
    "# Rollers\n",
    "filt_bank = Filterbank(n, order, fs)\n",
    "freq_shifter = Frequency_shifter()\n",
    "\n",
    "# divide input into frequency bands\n",
    "x_filtered = filt_bank.filt(x)\n",
    "\n",
    "# calculate the pitch shifting ratio for every pitch analysis block\n",
    "psr = ft / f0\n",
    "\n",
    "# frequency shifting in every band\n",
    "out_signals_smooth = []\n",
    "t = np.linspace(0, x_filtered[0].size/fs, x_filtered[0].size)\n",
    "for i in range(len(x_filtered)):\n",
    "    # calculate time variant carrier frequencies for every block\n",
    "    fc = filt_bank.fcs[i]\n",
    "    f_shift = fc * psr - fc\n",
    "    \n",
    "    # control signal upsampling and smoothing\n",
    "    f_shift_repeated = np.repeat(f_shift, L)\n",
    "    f_shift_upsampled = signal.convolve(f_shift_repeated, h_smooth, mode=\"same\")\n",
    "    \n",
    "    # frequency shifting with time variable carrier frequency\n",
    "    carrier = np.zeros(x_filtered[i].size, dtype=complex)\n",
    "    for j in range(f_shift_upsampled.size):\n",
    "        # discontinuous carrier frequency might cause cracks\n",
    "        # => increase control signal smoothing filter length\n",
    "        f = f_shift_upsampled[j]\n",
    "        carrier[j*M:(j+1)*M] = np.exp(1j*2*np.pi*f*t[j*M:(j+1)*M])\n",
    "    band = (signal.hilbert(x_filtered[i]) * carrier).real\n",
    "\n",
    "    out_signals_smooth.append(band)\n",
    "\n",
    "# add bands together\n",
    "y_smooth = np.zeros(out_signals_smooth[0].size)\n",
    "for sig in out_signals_smooth:\n",
    "    y_smooth += sig"
   ]
  },
  {
   "cell_type": "code",
   "execution_count": null,
   "metadata": {
    "scrolled": true
   },
   "outputs": [],
   "source": [
    "plt.plot(y_smooth)\n",
    "ipd.Audio(y_smooth, rate=fs)"
   ]
  },
  {
   "cell_type": "markdown",
   "metadata": {},
   "source": [
    "This does not because the frequency modulation is done wrong!!!!"
   ]
  }
 ],
 "metadata": {
  "kernelspec": {
   "display_name": "Python 3",
   "language": "python",
   "name": "python3"
  },
  "language_info": {
   "codemirror_mode": {
    "name": "ipython",
    "version": 3
   },
   "file_extension": ".py",
   "mimetype": "text/x-python",
   "name": "python",
   "nbconvert_exporter": "python",
   "pygments_lexer": "ipython3",
   "version": "3.8.5"
  }
 },
 "nbformat": 4,
 "nbformat_minor": 4
}
