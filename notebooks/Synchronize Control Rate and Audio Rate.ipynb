{
 "cells": [
  {
   "cell_type": "markdown",
   "metadata": {},
   "source": [
    "# Synchronize Control Rate and Audio Rate\n",
    "\n",
    "How to synchronize a control rate signal $c[n]$ with a low sampling rate $f_c$ with the audio signal $a[n]$, which has a high sampling rate $f_a$.\n",
    "The goal is to synchronize the frequency estimates $f_0$ of a pitch tracker to a frequency shifter, which uses this time variable frequency for generating the complex carrier signal.\n",
    "\n",
    "Upsampling signals for integer upsampling factors L (Oppenheim and Schafer):\n",
    "\n",
    "* sample rate expansion\n",
    "\n",
    "* interpolation with a moving average filter (triangle impulse response) or linear interpolation\n",
    "\n",
    "\n",
    "Miller Puckette in \"Theory and Technique of Electronic Music\" S.64 about how to convert asynchronous control signals to audio signals:\n",
    "Three ways to \"convert a numeric controlstream to an audio signal\":\n",
    "\n",
    "* As fast as possible: same value like the last control value\n",
    "\n",
    "* delayed to the nearest sample\n",
    "\n",
    "* with two-point interpolation for higher delay accuracy"
   ]
  },
  {
   "cell_type": "code",
   "execution_count": null,
   "metadata": {},
   "outputs": [],
   "source": [
    "import numpy as np\n",
    "import scipy.signal as signal\n",
    "import scipy.integrate as integrate\n",
    "import matplotlib.pyplot as plt\n",
    "from IPython import display as ipd\n",
    "\n",
    "# CD quality audio sampling rate\n",
    "fa = 44000\n",
    "# lower control rate\n",
    "fc = 4400\n",
    "# upsampling factor\n",
    "L = fa / fc\n",
    "print(\"The upsampling factor from fc to fa is L:\", L)"
   ]
  },
  {
   "cell_type": "markdown",
   "metadata": {},
   "source": [
    "## Examples:\n",
    "\n",
    "* _envelope_, which is amplitude modulation\n",
    "\n",
    "* _vibrato_, which is frequency modulation"
   ]
  },
  {
   "cell_type": "code",
   "execution_count": null,
   "metadata": {},
   "outputs": [],
   "source": [
    "# Envelope in control rate\n",
    "\n",
    "# length of the signal\n",
    "dur = 1 # second\n",
    "\n",
    "# audio signal\n",
    "t = np.linspace(0, dur, dur*fa)\n",
    "a = np.sin(2*np.pi*500*t)\n",
    "\n",
    "# control signal\n",
    "c = signal.windows.triang(dur*fc)\n",
    "\n",
    "plt.rcParams['figure.figsize'] = [15, 5]\n",
    "fig, ax = plt.subplots(2)\n",
    "ax[0].plot(a)\n",
    "ax[0].set_ylabel(\"audio\")\n",
    "ax[1].plot(c)\n",
    "ax[1].set_ylabel(\"control\")\n",
    "plt.show()\n",
    "ipd.Audio(a, rate=fa)"
   ]
  },
  {
   "cell_type": "markdown",
   "metadata": {},
   "source": [
    "These are our two signals.\n",
    "We want to multiply the control rate envelope $c[n]$ with the audio rate audio signal $c[n]$.\n",
    "For this purpose, we have to bring $c[n]$ to audio rate.\n",
    "So we have to fill the spaces between the control signals samples with values that make sense.\n",
    "There are two ideas to do this for integer upsampling factors $L$:\n",
    "\n",
    "* _Hold_: Use the original control samples values for the inserted $L-1$ new samples\n",
    "\n",
    "* _Interpolate_: Insert the new $L-1$ samples in between every control sample with value zero and do linear inperpolation.\n",
    "\n",
    "First try to hold the control samples value."
   ]
  },
  {
   "cell_type": "code",
   "execution_count": null,
   "metadata": {},
   "outputs": [],
   "source": [
    "c_hold = np.repeat(c, L)\n",
    "\n",
    "fig, ax = plt.subplots(2)\n",
    "ax[0].plot(c)\n",
    "ax[0].set_ylabel(\"original\")\n",
    "ax[1].plot(c_hold)\n",
    "ax[1].set_ylabel(\"hold\")\n",
    "plt.show()"
   ]
  },
  {
   "cell_type": "markdown",
   "metadata": {},
   "source": [
    "Now `c_hold` has the right amount of samples.\n",
    "But as you can see below, the upsampled signal has steps instead of a smooth line.\n",
    "These are discontinuities which can be audible as clicks or crackling in the audio signal, if the two values are too far apart."
   ]
  },
  {
   "cell_type": "code",
   "execution_count": null,
   "metadata": {
    "scrolled": true
   },
   "outputs": [],
   "source": [
    "fig, ax = plt.subplots(2)\n",
    "ax[0].stem(c[:10])\n",
    "ax[0].set_ylabel(\"original\")\n",
    "ax[1].stem(c_hold[:100])\n",
    "ax[1].set_ylabel(\"hold\")\n",
    "plt.show()"
   ]
  },
  {
   "cell_type": "markdown",
   "metadata": {},
   "source": [
    "So let's check the result with this method."
   ]
  },
  {
   "cell_type": "code",
   "execution_count": null,
   "metadata": {},
   "outputs": [],
   "source": [
    "y_hold = a * c_hold\n",
    "\n",
    "plt.rcParams['figure.figsize'] = [15, 3]\n",
    "plt.plot(y_hold)\n",
    "plt.show()\n",
    "ipd.Audio(y_hold, rate=fa)"
   ]
  },
  {
   "cell_type": "markdown",
   "metadata": {},
   "source": [
    "In this case it worked very well because the original control rate was high enough.\n",
    "\n",
    "\n",
    "## Coarse Amplitude Envelope\n",
    "\n",
    "Let's assume, we have an amplitude tracker, that outputs one amplitude value for every block of $N$ analyzed audio samples and we want to modulate our signal $a[n]$ with it.\n",
    "Then $f_c = \\frac{f_a}{N}$"
   ]
  },
  {
   "cell_type": "code",
   "execution_count": null,
   "metadata": {},
   "outputs": [],
   "source": [
    "N = 1000\n",
    "fc = fa / N\n",
    "print(\"fc:\", fc)"
   ]
  },
  {
   "cell_type": "code",
   "execution_count": null,
   "metadata": {},
   "outputs": [],
   "source": [
    "c = signal.windows.triang(dur*fc)\n",
    "c_hold = np.repeat(c, N)\n",
    "y_hold = a * c_hold\n",
    "\n",
    "plt.plot(y_hold)\n",
    "plt.show()\n",
    "ipd.Audio(y_hold, rate=fa)"
   ]
  },
  {
   "cell_type": "markdown",
   "metadata": {},
   "source": [
    "Now there are audible clicks in the signal\n",
    "\n",
    "\n",
    "## Frequency Modulation: Vibrato"
   ]
  },
  {
   "cell_type": "code",
   "execution_count": null,
   "metadata": {},
   "outputs": [],
   "source": [
    "# frequency control signal\n",
    "c = 200 + signal.windows.triang(dur*fc) * 1000\n",
    "plt.stem(c)\n",
    "plt.ylabel(\"f[Hz]\")\n",
    "plt.xlabel(\"t[samples]\")\n",
    "plt.show()"
   ]
  },
  {
   "cell_type": "markdown",
   "metadata": {},
   "source": [
    "Now we generate an audio signal $a[n]$ based on the time variable frequency control signal $c[n]$."
   ]
  },
  {
   "cell_type": "code",
   "execution_count": null,
   "metadata": {},
   "outputs": [],
   "source": [
    "# sampling rate expansion\n",
    "c_hold = np.repeat(c, N)\n",
    "\n",
    "a_hold = np.sin(2*np.pi*c_hold*t)\n",
    "\n",
    "plt.rcParams['figure.figsize'] = [15, 5]\n",
    "fig, ax = plt.subplots(2)\n",
    "ax[0].plot(c_hold)\n",
    "ax[1].plot(a_hold)\n",
    "plt.show()\n",
    "ipd.Audio(a_hold, rate=fa)"
   ]
  },
  {
   "cell_type": "markdown",
   "metadata": {},
   "source": [
    "Here the clicks are more present than on the amplitude envelope because the frequency jumps are pretty high.\n",
    "To smooth this out, we need an expanded control signal with zeros and we might filter it\n",
    "\n",
    "* with a moving average filter\n",
    "\n",
    "* or do linear interpolation"
   ]
  },
  {
   "cell_type": "code",
   "execution_count": null,
   "metadata": {},
   "outputs": [],
   "source": [
    "c_zero = np.zeros(dur*fa)\n",
    "c_zero[::N] = c * 0.5\n",
    "\n",
    "plt.rcParams['figure.figsize'] = [15, 3]\n",
    "plt.plot(c_zero)\n",
    "plt.show()"
   ]
  },
  {
   "cell_type": "code",
   "execution_count": null,
   "metadata": {},
   "outputs": [],
   "source": [
    "# moving average impluse response\n",
    "h_ma = signal.windows.triang(2*N-1)\n",
    "\n",
    "# convolve and truncate filter tail\n",
    "c_zero_ma = signal.convolve(c_zero, h_ma, mode=\"same\")\n",
    "\n",
    "plt.rcParams['figure.figsize'] = [15, 5]\n",
    "plt.plot(c_hold)\n",
    "plt.plot(c_zero_ma)\n",
    "plt.title(\"hold vs. zeroing and moving average\")\n",
    "plt.show()"
   ]
  },
  {
   "cell_type": "markdown",
   "metadata": {},
   "source": [
    "Now generate an audio signal with it.\n",
    "To do this, we first have to understand how to exactly manipulate the frequency progress of a signal.\n",
    "This manipulation is frequency modulation (FM)."
   ]
  },
  {
   "cell_type": "markdown",
   "metadata": {},
   "source": [
    "## Frequency Modulation and Phase Modulation\n",
    "\n",
    "(see [here](https://de.wikipedia.org/wiki/Frequenzmodulation))\n",
    "\n",
    "unmodulated carrier: $s(t) = sin(\\omega_0 t + p_0)$ with\n",
    "\n",
    "$\\omega_0$ ... Trägerfrequenz\n",
    "\n",
    "$t$ ... Zeit\n",
    "\n",
    "$p_0$ ... Phase zum Zeitpunkt $t=0$\n",
    "\n",
    "momentane Phase: $p(t) = (\\omega_0 t + p_0)$\n",
    "\n",
    "### Phasenmodulation\n",
    "\n",
    "$s_p(t) = sin(\\omega_0 t + p_0 + M_p \\cdot m(t))$ mit\n",
    "\n",
    "$M_p$ ... Modulationsstärke\n",
    "\n",
    "$m(t)$ ... modulierende Funktion, Modulator\n",
    "\n",
    "So kann die Phasenmodulation mathematisch recht einfach ausgedrückt werden.\n",
    "\n",
    "### Frequenzmodulation\n",
    "\n",
    "Die Frequenzmodulation setzt voraus, dass sich die Frequenz ständig ändert.\n",
    "Dies lässt sich durch $\\omega_0 t$ nicht mehr ausdrücken.\n",
    "Daher wird die _momentane Kreisfrequenz_\n",
    "\n",
    "$$\\omega(t) = \\frac{d}{dt}p(t)$$\n",
    "\n",
    "eingeführt.\n",
    "Es ist also die _zeitliche Ableitung der Phasenfunktion_.\n",
    "Das ist der Kern des Zusammenhangs zwischen Frequenz- und Phasenmodulation.\n",
    "\n",
    "Eine Frequenzmodulation fordert nun, dass sich die momentane Frequenz nach der folgenden Vorschrift verhält:\n",
    "\n",
    "$$\\omega(t) = \\omega_0 + M_f \\cdot m(t)$$\n",
    "\n",
    "Für die Berechnung der Kurvenform zu jedem Zeitpunkt benötigen wir jedoch nicht die momentane Frequenz, sondern die Phasenfunktion:\n",
    "\n",
    "$$p(t) = \\int \\omega(t) \\, dt$$\n",
    "\n",
    "Somit ist die Phase für die Frequenzmodulation\n",
    "\n",
    "$$p_f(t) = \\int \\omega_0 + M_f m(t) \\, dt = \\omega_0 \\cdot t + p_0 + M_f \\int m(t) \\, dt$$\n",
    "\n",
    "und man erhält die Frequenzmodualtion mit dem Ausdruck\n",
    "\n",
    "$$s_f(t) = sin(\\omega_0 t + p_0 + M_f \\int m(t) \\, dt)$$\n",
    "\n",
    "Setzen wir nun als Vergleich für PM und FM den Mudulator $m(t) = sin(\\omega_m t + p_m)$ ein:\n",
    "\n",
    "$$s_p(t) = sin(\\omega_0 t + p_0 + M_p sin(\\omega_m t + p_m))$$\n",
    "\n",
    "$$s_f(t) = sin(\\omega_0 t + p_0 - \\frac{M_f}{\\omega_m} cos(\\omega_m t + p_m))$$\n",
    "\n",
    "Die momentane Frequenz ist für\n",
    "\n",
    "* PM: $\\omega_p(t) = \\omega_0 + M_p \\omega_m cos(\\omega_m t + p_m)$\n",
    "\n",
    "* FM: $\\omega_f(t) = \\omega_0 + M_f sin(\\omega_m t + p_m)$ wie gefordert.\n",
    "\n",
    "\n",
    "Die Modulationsstärke ergibt sich aus\n",
    "\n",
    "$$M_f = 2 \\pi f_\\Delta$$\n",
    "\n",
    "mit $f_\\Delta$ ... maximale Frequenzabweichung von $f_0$ (vorausgesetzt $max|m(t)| = 1$)\n",
    "\n",
    "\n",
    "### Beispiel FM:\n",
    "\n",
    "Jetzt wollen wir eine Frequenzmodulation machen, um ein Vibrato eines Sinustons zu erzeugen.\n",
    "Der Sinuston ist der Träger $s_f(t)$ mit einer Grundfrequenz von $f_0$ und der Mudulator $m(t)$ ist ein Sinus mit einer Frequenz von $f_m$.\n",
    "Die Stärke des Vibratos wird durch die Modulationsstärke $M_f$ bestimmt.\n",
    "\n",
    "Die Phasen der Schwingungen sind null.\n",
    "Damit vereinfachen sich die Ausdrücke zu:\n",
    "\n",
    "$$m(t) = sin(\\omega_m t)$$\n",
    "\n",
    "$$s_f(t) = sin(\\omega_0 t + M_f \\int m(t) \\, dt) = sin(\\omega_0 t - \\frac{M_f}{\\omega_m} cos(\\omega_m t))$$\n",
    "\n",
    "Die Momentankreisfrequenz sollte somit\n",
    "\n",
    "$$\\omega_f = \\omega_0 + M_f sin(\\omega_m t)$$\n",
    "\n",
    "sein.\n",
    "\n",
    "* First we take this formula and calculate the result.\n",
    "\n",
    "* As a next step, we integrate the modulator numerically, to get a more general code which takes also non sine signals as modulator.\n",
    "\n",
    "\n",
    "### FM: derived solution for a sine modulator"
   ]
  },
  {
   "cell_type": "code",
   "execution_count": null,
   "metadata": {},
   "outputs": [],
   "source": [
    "dur = 5 # seconds\n",
    "fs = 44100\n",
    "t = np.linspace(0, dur, fs*dur)\n",
    "\n",
    "f0 = 10000\n",
    "w0 = 2 * np.pi * f0\n",
    "\n",
    "# modulator\n",
    "f_delta = 2500\n",
    "fm = 1\n",
    "Mf = 2 * np.pi * f_delta\n",
    "wm = 2 * np.pi * fm\n",
    "\n",
    "s_f = np.sin(w0 * t - (Mf / wm) * np.cos(wm * t))"
   ]
  },
  {
   "cell_type": "code",
   "execution_count": null,
   "metadata": {},
   "outputs": [],
   "source": [
    "plt.rcParams['figure.figsize'] = [15, 5]\n",
    "f_spec, t_spec, Sxx = signal.spectrogram(s_f, fs)\n",
    "plt.pcolormesh(t_spec, f_spec, Sxx, shading='gouraud')\n",
    "plt.ylabel('Frequency [Hz]')\n",
    "plt.xlabel('Time [sec]')\n",
    "plt.show()"
   ]
  },
  {
   "cell_type": "markdown",
   "metadata": {},
   "source": [
    "### FM: processing of an arbitrary modulator function via numeric integration"
   ]
  },
  {
   "cell_type": "code",
   "execution_count": null,
   "metadata": {
    "scrolled": true
   },
   "outputs": [],
   "source": [
    "# general FM\n",
    "m = np.sin(wm * t)\n",
    "\n",
    "# integrate\n",
    "# this is now: m_int = -(1/wm)*cos(wm*t)\n",
    "m_int = integrate.cumulative_trapezoid(m, t, initial=0)\n",
    "\n",
    "s_f_general = np.sin(w0 * t + Mf * m_int)\n",
    "\n",
    "plt.plot(t, m)\n",
    "plt.plot(t, m_int)\n",
    "plt.title(\"numeric integration\")\n",
    "plt.show()"
   ]
  },
  {
   "cell_type": "code",
   "execution_count": null,
   "metadata": {
    "scrolled": true
   },
   "outputs": [],
   "source": [
    "plt.rcParams['figure.figsize'] = [15, 5]\n",
    "f_spec, t_spec, Sxx = signal.spectrogram(s_f_general, fs)\n",
    "plt.pcolormesh(t_spec, f_spec, Sxx, shading='gouraud')\n",
    "plt.ylabel('Frequency [Hz]')\n",
    "plt.xlabel('Time [sec]')\n",
    "plt.show()"
   ]
  },
  {
   "cell_type": "markdown",
   "metadata": {},
   "source": [
    "So, this is the same result as above.\n",
    "Now let's try an arbitrary modulator function."
   ]
  },
  {
   "cell_type": "code",
   "execution_count": null,
   "metadata": {},
   "outputs": [],
   "source": [
    "m = signal.windows.triang(dur*fs)\n",
    "m_int = integrate.cumulative_trapezoid(m, t, initial=0)\n",
    "\n",
    "plt.rcParams['figure.figsize'] = [15, 3]\n",
    "plt.plot(t, m)\n",
    "plt.plot(t, m_int)\n",
    "plt.title(\"numeric integration\")\n",
    "plt.show()"
   ]
  },
  {
   "cell_type": "code",
   "execution_count": null,
   "metadata": {
    "scrolled": true
   },
   "outputs": [],
   "source": [
    "f_delta = 10000\n",
    "Mf = 2 * np.pi * f_delta\n",
    "s_f = np.sin(w0 * t + Mf * m_int)\n",
    "\n",
    "plt.rcParams['figure.figsize'] = [15, 5]\n",
    "f_spec, t_spec, Sxx = signal.spectrogram(s_f, fs)\n",
    "plt.pcolormesh(t_spec, f_spec, Sxx, shading='gouraud')\n",
    "plt.ylabel('Frequency [Hz]')\n",
    "plt.xlabel('Time [sec]')\n",
    "plt.show()"
   ]
  },
  {
   "cell_type": "markdown",
   "metadata": {},
   "source": [
    "The important point here is, that we need the integral of the provided frequency function $\\omega(t)$ for frequency modulation.\n",
    "In this manner we can control the frequency of the signal as we want.\n",
    "\n",
    "\n",
    "## Upsampling for Frequency Modulation\n",
    "\n",
    "Now let's put this all together to accomplish the task, we want to manage.\n",
    "The goal is to synchronize the frequency estimates $f_0$ (not to be confused with the carrier frequency $f_0$) of a pitch tracker to a frequency shifter, which uses this time variable frequency for generating the complex carrier signal.\n",
    "For clarity, we call the frequency estimate signal $c[n]$ because it is the control signal.\n",
    "\n",
    "So what we want to do is\n",
    "\n",
    "* generate a control signal $c[n]$ with the low control sampling frequency $f_c$\n",
    "\n",
    "* upsampling of $c[n]$ with the right method to the audio sampling rate $f_a$ to get $c_{up}[n]$\n",
    "\n",
    "* FM of a carrier sine signal with the modulator $c_{up}[n]$"
   ]
  },
  {
   "cell_type": "code",
   "execution_count": null,
   "metadata": {},
   "outputs": [],
   "source": [
    "fc = 1\n",
    "dur = 5\n",
    "c = np.array((5000, 15000, 7500, 5000, 10000))\n",
    "\n",
    "fa = 44100\n",
    "# upsampling factor L\n",
    "L = fa // fc # just for integer factors\n",
    "print(\"L:\", L)\n",
    "\n",
    "# upsampled control signal is the derivative of the modulator for FM\n",
    "c_up = np.repeat(c, L)\n",
    "\n",
    "t = np.linspace(0, dur, dur*fa)\n",
    "\n",
    "plt.plot(c_up)\n",
    "plt.show()"
   ]
  },
  {
   "cell_type": "markdown",
   "metadata": {},
   "source": [
    "Since we have the right frequency values in $c[n]$, our carrier base frequency $\\omega_0 = 0$.\n",
    "So the frequency modulation becomes\n",
    "\n",
    "$$s_f(t) = sin(p_0 + M_f \\int m(t) \\, dt)$$"
   ]
  },
  {
   "cell_type": "code",
   "execution_count": null,
   "metadata": {
    "scrolled": true
   },
   "outputs": [],
   "source": [
    "f_delta = 1\n",
    "Mf = 2 * np.pi * f_delta\n",
    "m_int = integrate.cumulative_trapezoid(c_up, t, initial=0)\n",
    "\n",
    "s_f = np.sin(Mf * m_int)\n",
    "\n",
    "# plot\n",
    "plt.rcParams['figure.figsize'] = [15, 5]\n",
    "plt.plot(m_int)\n",
    "plt.figure()\n",
    "f_spec, t_spec, Sxx = signal.spectrogram(s_f, fa)\n",
    "plt.pcolormesh(t_spec, f_spec, Sxx, shading='gouraud')\n",
    "plt.ylabel('Frequency [Hz]')\n",
    "plt.xlabel('Time [sec]')\n",
    "plt.show()"
   ]
  },
  {
   "cell_type": "markdown",
   "metadata": {},
   "source": [
    "Do we really need the numerical integration in this case?\n",
    "If we have a piecewise constant function with values $c[n]$, the integral is always $c[n] \\cdot t$."
   ]
  },
  {
   "cell_type": "code",
   "execution_count": null,
   "metadata": {
    "scrolled": true
   },
   "outputs": [],
   "source": [
    "f_delta = 1\n",
    "Mf = 2 * np.pi * f_delta\n",
    "m_int = c_up * t\n",
    "\n",
    "s_f = np.sin(Mf * m_int)\n",
    "\n",
    "# plot\n",
    "plt.rcParams['figure.figsize'] = [15, 5]\n",
    "plt.plot(m_int)\n",
    "plt.figure()\n",
    "f_spec, t_spec, Sxx = signal.spectrogram(s_f, fa)\n",
    "plt.pcolormesh(t_spec, f_spec, Sxx, shading='gouraud')\n",
    "plt.ylabel('Frequency [Hz]')\n",
    "plt.xlabel('Time [sec]')\n",
    "plt.show()"
   ]
  },
  {
   "cell_type": "markdown",
   "metadata": {},
   "source": [
    "So both methods work, the first is more general for all modulator functions, the second one just works for piecewise constant modulator functions but is computationally cheaper than numerically integrating the whole modulator signal.\n",
    "The discontinuities in the second method could be a problem.\n",
    "This might come from the absence of an integration constant\n",
    "\n",
    "$$\\int m_{const}(t) \\, dt = c[n] \\cdot t + c_0[n]$$"
   ]
  }
 ],
 "metadata": {
  "kernelspec": {
   "display_name": "Python 3",
   "language": "python",
   "name": "python3"
  },
  "language_info": {
   "codemirror_mode": {
    "name": "ipython",
    "version": 3
   },
   "file_extension": ".py",
   "mimetype": "text/x-python",
   "name": "python",
   "nbconvert_exporter": "python",
   "pygments_lexer": "ipython3",
   "version": "3.8.5"
  }
 },
 "nbformat": 4,
 "nbformat_minor": 4
}
