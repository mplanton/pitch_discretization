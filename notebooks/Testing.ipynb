{
 "cells": [
  {
   "cell_type": "markdown",
   "metadata": {},
   "source": [
    "# Testing the Reshift pitch discretization effect\n",
    "\n",
    "* explore the effects of different parameter adjustments and check the soundquality and artifacts of the effect\n",
    "\n",
    "* increase performance of the overall algorithm"
   ]
  },
  {
   "cell_type": "code",
   "execution_count": null,
   "metadata": {},
   "outputs": [],
   "source": [
    "import numpy as np\n",
    "from scipy.io import wavfile\n",
    "import scipy.signal as signal\n",
    "import matplotlib.pyplot as plt\n",
    "plt.rcParams['figure.figsize'] = [15, 3]\n",
    "from IPython import display as ipd # for IPython.display.Audio(x, rate=fs)\n",
    "\n",
    "# import the Reshifter\n",
    "import sys\n",
    "sys.path.insert(1, '../py') # insert at 1, 0 is the script path (or '' in REPL)\n",
    "from reshift import Reshifter\n",
    "\n",
    "fs, x = wavfile.read(\"../../samples/Toms_diner.wav\")\n",
    "x = x / np.abs(x.max())"
   ]
  },
  {
   "cell_type": "markdown",
   "metadata": {},
   "source": [
    "## parameter candidates to explore\n",
    "\n",
    "### pYIN pitch-tracking\n",
    "\n",
    "Parameter and default value in librosas implementation.\n",
    "\n",
    "* frame_length=2048\n",
    "\n",
    "* hop_length=frame_length // 4\n",
    "\n",
    "These two parameters adjust the minimum latency of pYIN."
   ]
  },
  {
   "cell_type": "code",
   "execution_count": null,
   "metadata": {},
   "outputs": [],
   "source": [
    "reshifter = Reshifter(sr=fs)\n",
    "help(reshifter)"
   ]
  },
  {
   "cell_type": "markdown",
   "metadata": {},
   "source": [
    "Let's try the default settings of the reshift algorithm."
   ]
  },
  {
   "cell_type": "code",
   "execution_count": null,
   "metadata": {},
   "outputs": [],
   "source": [
    "# original\n",
    "plt.plot(x)\n",
    "plt.title('original')\n",
    "plt.show()\n",
    "ipd.Audio(x, rate=fs)"
   ]
  },
  {
   "cell_type": "code",
   "execution_count": null,
   "metadata": {},
   "outputs": [],
   "source": [
    "y = reshifter.discretize(x, 'wholetone')"
   ]
  },
  {
   "cell_type": "code",
   "execution_count": null,
   "metadata": {
    "scrolled": true
   },
   "outputs": [],
   "source": [
    "plt.plot(y)\n",
    "plt.title('discretized wholetone scale, default parameters')\n",
    "plt.show()\n",
    "ipd.Audio(y, rate=fs)"
   ]
  },
  {
   "cell_type": "markdown",
   "metadata": {},
   "source": [
    "This works very well with a pitch tracking minimum latency of $t_{track} = \\frac{N}{f_s}$ with\n",
    "\n",
    "$N$...pYIN frame length\n",
    "\n",
    "$f_s$...audio sampling rate\n",
    "\n",
    "For CD quality audio with a sampling rate of $f_s = 44100Hz$, the standard librosa value for $N = 2048$.\n",
    "\n",
    "$N = 2048 \\rightarrow 46.4ms$\n",
    "\n",
    "$N = 1024 \\rightarrow 23.2ms$\n",
    "\n",
    "$N = 512 \\rightarrow 11.6ms$\n",
    "\n",
    "$N = 256 \\rightarrow 5.8ms$\n",
    "\n",
    "$N = 128 \\rightarrow 2.9ms$"
   ]
  },
  {
   "cell_type": "code",
   "execution_count": null,
   "metadata": {},
   "outputs": [],
   "source": [
    "# librosa default setting: N=2048\n",
    "reshifter = Reshifter(sr=fs, a_N=2048, a_hop=512)\n",
    "y = reshifter.discretize(x, 'wholetone')"
   ]
  },
  {
   "cell_type": "code",
   "execution_count": null,
   "metadata": {},
   "outputs": [],
   "source": [
    "plt.plot(y)\n",
    "plt.title('discretized wholetone scale, librosa default parameters')\n",
    "plt.show()\n",
    "ipd.Audio(y, rate=fs)"
   ]
  },
  {
   "cell_type": "markdown",
   "metadata": {},
   "source": [
    "There is no difference in pitch tracking quality for this example."
   ]
  },
  {
   "cell_type": "code",
   "execution_count": null,
   "metadata": {},
   "outputs": [],
   "source": [
    "reshifter = Reshifter(sr=fs, a_N=512, a_hop=256)\n",
    "y = reshifter.discretize(x, 'wholetone')"
   ]
  },
  {
   "cell_type": "code",
   "execution_count": null,
   "metadata": {
    "scrolled": false
   },
   "outputs": [],
   "source": [
    "plt.plot(y)\n",
    "plt.title('discretized wholetone scale, N=512')\n",
    "plt.show()\n",
    "ipd.Audio(y, rate=fs)"
   ]
  },
  {
   "cell_type": "code",
   "execution_count": null,
   "metadata": {},
   "outputs": [],
   "source": [
    "reshifter = Reshifter(sr=fs, a_N=256, a_hop=256)\n",
    "y = reshifter.discretize(x, 'wholetone')"
   ]
  },
  {
   "cell_type": "code",
   "execution_count": null,
   "metadata": {
    "scrolled": true
   },
   "outputs": [],
   "source": [
    "plt.plot(y)\n",
    "plt.title('discretized wholetone scale, N=256')\n",
    "plt.show()\n",
    "ipd.Audio(y, rate=fs)"
   ]
  },
  {
   "cell_type": "markdown",
   "metadata": {},
   "source": [
    "The pitch-tracking with a smaller block size N than 512 samples does not work.\n",
    "This makes sense, since at least one fundamental period of a sound has to be conained in one block.\n",
    "If we want to analyze the pitch of a signal with a $f_0 = 100Hz$, the minimum frame length is $N_{min} = \\frac{f_s}{f_0} = 441ms$.\n",
    "\n",
    "__So for minimum latency, a frame length of $N = 512$ is a good value.__\n",
    "\n",
    "Now we set no overlap of pitch-tracking frame length and hop size.\n",
    "So these values are the same."
   ]
  },
  {
   "cell_type": "code",
   "execution_count": null,
   "metadata": {},
   "outputs": [],
   "source": [
    "reshifter = Reshifter(sr=fs, a_N=512, a_hop=512)\n",
    "y = reshifter.discretize(x, 'wholetone')"
   ]
  },
  {
   "cell_type": "code",
   "execution_count": null,
   "metadata": {},
   "outputs": [],
   "source": [
    "plt.plot(y)\n",
    "plt.title('discretized wholetone scale, N=512, hop=512')\n",
    "plt.show()\n",
    "ipd.Audio(y, rate=fs)"
   ]
  },
  {
   "cell_type": "markdown",
   "metadata": {},
   "source": [
    "This sounds pretty OK.\n",
    "So for this example, __no overlap is needed__.\n",
    "The rate of fundamental frequencies $f_{f0} = \\frac{f_s}{hop} = 44100 / 512 = 86.13Hz$ is sufficient here.\n",
    "\n",
    "\n",
    "### Rollers pitch-shifting\n",
    "\n",
    "* filter order of filter bank\n",
    "\n",
    "* number of used filters in filter bank\n",
    "\n",
    "(* maybe later: notches between bands, if too many detuning artifacts)\n",
    "\n",
    "\n",
    "The produced artifacts of the Rollers algorithm are infuenced by a tradeoff between low order filters and a smaller amount of bands and higher order filters and a bigger amount of bands.\n",
    "The _detuning_ artifact is present, if there are wider bands and bigger overlaps between the bands, since the frequencies beside the center frequency are shifted to wrong frequencies and the overlap of the bands produce beats (Schwebung).\n",
    "The _downward chirp_ artifact is produced by the filter resonances.\n",
    "Smaller bands and higher filter orders produce higher resonances.\n",
    "\n",
    "The examples up to here used 100 bands with a filter order of 2.\n",
    "There is hardly any audible detuning, but the downward chirp artifact is audible.\n",
    "\n",
    "Let's try a higher filter order, to make the chirp more audible."
   ]
  },
  {
   "cell_type": "code",
   "execution_count": null,
   "metadata": {},
   "outputs": [],
   "source": [
    "reshifter = Reshifter(sr=fs, a_N=512, a_hop=512, filt_order=8, filt_num=100)\n",
    "y = reshifter.discretize(x, 'wholetone')"
   ]
  },
  {
   "cell_type": "code",
   "execution_count": null,
   "metadata": {},
   "outputs": [],
   "source": [
    "plt.plot(y)\n",
    "plt.title('discretized wholetone scale, filter order=8, number=100, downward chirp')\n",
    "plt.show()\n",
    "ipd.Audio(y, rate=fs)"
   ]
  },
  {
   "cell_type": "markdown",
   "metadata": {},
   "source": [
    "The downward chirp is clearly audible and there is a kind of reverb, since the filters are ringing at there resonance frequency.\n",
    "\n",
    "Let's decrease the number of bands to hear the detuning artifact."
   ]
  },
  {
   "cell_type": "code",
   "execution_count": null,
   "metadata": {},
   "outputs": [],
   "source": [
    "reshifter = Reshifter(sr=fs, a_N=512, a_hop=512, filt_order=2, filt_num=50)\n",
    "y = reshifter.discretize(x, 'wholetone')"
   ]
  },
  {
   "cell_type": "code",
   "execution_count": null,
   "metadata": {
    "scrolled": true
   },
   "outputs": [],
   "source": [
    "plt.plot(y)\n",
    "plt.title('discretized wholetone scale, filter order=2, number=50, detuning')\n",
    "plt.show()\n",
    "ipd.Audio(y, rate=fs)"
   ]
  },
  {
   "cell_type": "markdown",
   "metadata": {},
   "source": [
    "This still sounds OK for this example.\n",
    "Let's reduce the number of bands even further"
   ]
  },
  {
   "cell_type": "code",
   "execution_count": null,
   "metadata": {},
   "outputs": [],
   "source": [
    "reshifter = Reshifter(sr=fs, a_N=512, a_hop=512, filt_order=2, filt_num=25)\n",
    "y = reshifter.discretize(x, 'wholetone')"
   ]
  },
  {
   "cell_type": "code",
   "execution_count": null,
   "metadata": {
    "scrolled": true
   },
   "outputs": [],
   "source": [
    "plt.plot(y)\n",
    "plt.title('discretized wholetone scale, filter order=2, number=25, detuning')\n",
    "plt.show()\n",
    "ipd.Audio(y, rate=fs)"
   ]
  },
  {
   "cell_type": "markdown",
   "metadata": {},
   "source": [
    "Now this sounds different, but not really like detuning, but rather like a formant mismatch."
   ]
  },
  {
   "cell_type": "code",
   "execution_count": null,
   "metadata": {},
   "outputs": [],
   "source": [
    "reshifter = Reshifter(sr=fs, a_N=512, a_hop=512, filt_order=2, filt_num=12)\n",
    "y = reshifter.discretize(x, 'wholetone')"
   ]
  },
  {
   "cell_type": "code",
   "execution_count": null,
   "metadata": {
    "scrolled": true
   },
   "outputs": [],
   "source": [
    "plt.plot(y)\n",
    "plt.title('discretized wholetone scale, filter order=2, number=12, detuning')\n",
    "plt.show()\n",
    "ipd.Audio(y, rate=fs)"
   ]
  },
  {
   "cell_type": "markdown",
   "metadata": {},
   "source": [
    "Now this effect is even more audible with only 12 bands.\n",
    "This is in fact the detuning artifact and it is not that bad with 50 filters of order 2 for this example."
   ]
  },
  {
   "cell_type": "code",
   "execution_count": null,
   "metadata": {},
   "outputs": [],
   "source": [
    "reshifter = Reshifter(sr=fs, a_N=512, a_hop=512, filt_order=2, filt_num=35)\n",
    "y = reshifter.discretize(x, 'wholetone')"
   ]
  },
  {
   "cell_type": "code",
   "execution_count": null,
   "metadata": {},
   "outputs": [],
   "source": [
    "plt.plot(y)\n",
    "plt.title('discretized wholetone scale, filter order=2, number=35, detuning')\n",
    "plt.show()\n",
    "ipd.Audio(y, rate=fs)"
   ]
  },
  {
   "cell_type": "markdown",
   "metadata": {},
   "source": [
    "Even with just 35 bands, the result sounds OK.\n",
    "This might be due to the small pitch-shifting intervals that are needed by the most scales.\n",
    "Since the biggest interval of most scales is a whole tone, the frequency shift is moderately small and we can use few bands with OK results.\n",
    "\n",
    "Let's increase the filter order with few bands and check the results."
   ]
  },
  {
   "cell_type": "code",
   "execution_count": null,
   "metadata": {},
   "outputs": [],
   "source": [
    "reshifter = Reshifter(sr=fs, a_N=512, a_hop=512, filt_order=4, filt_num=35)\n",
    "y = reshifter.discretize(x, 'wholetone')"
   ]
  },
  {
   "cell_type": "code",
   "execution_count": null,
   "metadata": {},
   "outputs": [],
   "source": [
    "plt.plot(y)\n",
    "plt.title('discretized wholetone scale, filter order=4, number=35')\n",
    "plt.show()\n",
    "ipd.Audio(y, rate=fs)"
   ]
  },
  {
   "cell_type": "code",
   "execution_count": null,
   "metadata": {},
   "outputs": [],
   "source": [
    "reshifter = Reshifter(sr=fs, a_N=512, a_hop=512, filt_order=6, filt_num=35)\n",
    "y = reshifter.discretize(x, 'wholetone')"
   ]
  },
  {
   "cell_type": "code",
   "execution_count": null,
   "metadata": {},
   "outputs": [],
   "source": [
    "plt.plot(y)\n",
    "plt.title('discretized wholetone scale, filter order=6, number=35')\n",
    "plt.show()\n",
    "ipd.Audio(y, rate=fs)"
   ]
  },
  {
   "cell_type": "code",
   "execution_count": null,
   "metadata": {},
   "outputs": [],
   "source": [
    "reshifter = Reshifter(sr=fs, a_N=512, a_hop=512, filt_order=8, filt_num=35)\n",
    "y = reshifter.discretize(x, 'wholetone')"
   ]
  },
  {
   "cell_type": "code",
   "execution_count": null,
   "metadata": {
    "scrolled": true
   },
   "outputs": [],
   "source": [
    "plt.plot(y)\n",
    "plt.title('discretized wholetone scale, filter order=8, number=35')\n",
    "plt.show()\n",
    "ipd.Audio(y, rate=fs)"
   ]
  },
  {
   "cell_type": "markdown",
   "metadata": {},
   "source": [
    "Since the increase of the filter order does not really increase the sound quality of the result with few bands in this example, I would leave it at order 2 filters.\n",
    "Let's hear order 1 filters."
   ]
  },
  {
   "cell_type": "code",
   "execution_count": null,
   "metadata": {},
   "outputs": [],
   "source": [
    "reshifter = Reshifter(sr=fs, a_N=512, a_hop=512, filt_order=1, filt_num=35)\n",
    "y = reshifter.discretize(x, 'wholetone')"
   ]
  },
  {
   "cell_type": "code",
   "execution_count": null,
   "metadata": {},
   "outputs": [],
   "source": [
    "plt.plot(y)\n",
    "plt.title('discretized wholetone scale, filter order=1, number=35')\n",
    "plt.show()\n",
    "ipd.Audio(y, rate=fs)"
   ]
  },
  {
   "cell_type": "markdown",
   "metadata": {},
   "source": [
    "There are strong artifacts compared to the other filter orders.\n",
    "\n",
    "So for pitch-discretization I would recommend\n",
    "\n",
    "* __filter order: 2__\n",
    "\n",
    "* __number of bands: 35 for minimum quality__\n",
    "\n",
    "__Increase the number of bands for better quality results.__\n",
    "\n",
    "\n",
    "## Summary: Parameters and sound quality\n",
    "\n",
    "* pYIN frame length = 512\n",
    "\n",
    "A frame length of 512 samples at $f_s = 44100Hz$ is a good value for accurate pitch-tracking with the lowest possible latency to track speech signals.\n",
    "For low speech, a bigger frame length might be necessary.\n",
    "\n",
    "* pYIN hop-size = frame length\n",
    "\n",
    "For pitch discretization, the pitch-tracking hop-size can be as low as the frame length.\n",
    "In some cases, the hop size might be even bigger.\n",
    "\n",
    "* Rollers filter order = 2\n",
    "\n",
    "For the most cases for pitch discretization, a filter order of 2 yielded the best results even with few bands.\n",
    "\n",
    "* Rollers number of bands >= 35\n",
    "\n",
    "For pitch-discretization, the number of bands might be as low as 35 for minimum quality results and can be incresed for better sound quality.\n",
    "\n",
    "\n",
    "## Performance\n",
    "\n",
    "Now that we have the parameter values for minimum sound quality and lowest latency, how can we make this algorithm more efficient?\n",
    "\n",
    "* Profiling: Was braucht am meisten ressourcen?\n",
    "\n",
    "\n",
    "### Rollers: Ideas\n",
    "\n",
    "* 2nd order IIR filters might be as efficient as we can get\n",
    "\n",
    "Since we just need that low filter order, we could use FIR filters with less resonance, which might decrease the downward chirp artifact.\n",
    "\n",
    "* __Polyphase oder Multirate filter bank:__\n",
    "\n",
    "This might be the biggest performance boost, since we can reduce the sample rate after filtering, do the SSB and increse the rate at the summation of the bands.\n",
    "\n",
    "* SSB: Hilbert transform with allpass instead of true Hilbert transform\n",
    "\n",
    "* more efficient integration algorithm than trapezoid rule?\n",
    "\n",
    "\n",
    "### pYIN: Ideas\n",
    "\n",
    "Zur Zeit verwenden wir librosas pYIN Implementierung und da können wir nur die minimalen parameter angeben.\n",
    "Das können wir später noch effizienter gestalten.\n",
    "Aber das ist wahrscheinlich schon effizient implementiert und genaues pitch-tracking ist sehr wichtig für diesen Effekt.\n",
    "\n",
    "\n",
    "### Profiling"
   ]
  },
  {
   "cell_type": "code",
   "execution_count": null,
   "metadata": {},
   "outputs": [],
   "source": [
    "import cProfile\n",
    "import pstats"
   ]
  },
  {
   "cell_type": "code",
   "execution_count": null,
   "metadata": {
    "scrolled": true
   },
   "outputs": [],
   "source": [
    "reshifter = Reshifter(sr=fs)\n",
    "\n",
    "profiler = cProfile.Profile()\n",
    "profiler.enable()\n",
    "\n",
    "y = reshifter.discretize(x, 'wholetone')\n",
    "\n",
    "profiler.disable()\n",
    "stats = pstats.Stats(profiler).sort_stats('tottime')\n",
    "stats.print_stats()"
   ]
  },
  {
   "cell_type": "markdown",
   "metadata": {},
   "source": [
    "In the current reshift implementation, we get the following result for the top time consuming tasks:\n",
    "\n",
    "* 3s in `librosa/sequence.py(_viterbi)`\n",
    "\n",
    "* 2.2s in `scipy.fft._pocketfft.pypocketfft.c2c`\n",
    "\n",
    "* 1s in `reshift.py(pitch_shift)`\n",
    "\n",
    "* 0.16s in `scipy/signal/signaltools.py:4103(sosfilt)`\n",
    "\n",
    "* 0.083 in `scipy/signal/signaltools.py:2169(hilbert)`\n",
    "\n",
    "* 0.079 in `method 'cumsum' of 'numpy.ndarray' objects`\n",
    "\n",
    "* 0.074 in `scipy/integrate/_quadrature.py:282(cumulative_trapezoid)`"
   ]
  },
  {
   "cell_type": "code",
   "execution_count": null,
   "metadata": {
    "scrolled": true
   },
   "outputs": [],
   "source": [
    "%load_ext snakeviz\n",
    "%snakeviz y = reshifter.discretize(x, 'wholetone')"
   ]
  },
  {
   "cell_type": "markdown",
   "metadata": {},
   "source": [
    "So this means, that more than half the time is spent in the Rollers `pitch_shift` function and 3/4 of this time is due to the Hilbert transform, which uses an FFT and the last quarter ist spent in the pitch_shift function itself.\n",
    "\n",
    "A bit less than half the time is spent in pYIN, an nearly all of that time is spent in the Viterbi algorithm.\n",
    "\n",
    "\n",
    "### A more efficient solution\n",
    "\n",
    "* implement the true Hilbert transform with an allpass\n",
    "\n",
    "This should reduce the processing time by a lot.\n",
    "\n",
    "* Test following pYIN parameters:\n",
    "\n",
    "    - fmin, fmax: a smaller bandwidth of possible pitch might be more efficient\n",
    "    \n",
    "    - n_thresholds=100 -> less might be more efficient\n",
    "  \n",
    "    - resolution=0.01 -> a coarse resolution might be more efficient\n",
    "\n",
    "* Test a further reduction of pitch tracking $f_0$ rate to minimize the calls to pYIN\n",
    "\n",
    "* Look for inefficient code directly in the Rollers pitch_shift function\n",
    "\n",
    "* Later at pYIN implementation: Can the Viterbi algorithm be more efficiently implemented?\n",
    "\n",
    "The pYIN paper says, that there is little overhead to the original YIN algorithm.\n",
    "Since the Viterbi algorithm is from the HMM in pYIN, this should be possible, if they are right."
   ]
  }
 ],
 "metadata": {
  "kernelspec": {
   "display_name": "Python 3",
   "language": "python",
   "name": "python3"
  },
  "language_info": {
   "codemirror_mode": {
    "name": "ipython",
    "version": 3
   },
   "file_extension": ".py",
   "mimetype": "text/x-python",
   "name": "python",
   "nbconvert_exporter": "python",
   "pygments_lexer": "ipython3",
   "version": "3.8.5"
  }
 },
 "nbformat": 4,
 "nbformat_minor": 4
}
