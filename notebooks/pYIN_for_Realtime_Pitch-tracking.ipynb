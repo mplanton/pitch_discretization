{
 "cells": [
  {
   "cell_type": "markdown",
   "metadata": {},
   "source": [
    "# pYIN for Realtime Pitch-tracking\n",
    "\n",
    "In this notebook we want to investigate the pYIN algorithm which is based on the YIN pitch tracking algorithm and develop a way to minimize the latency for realtime use.\n",
    "The YIN algorithm is a pitch-tracking algorithm often used for speech and singing voice $f_0$ analysis.\n",
    "The probabilistic YIN ist the modified YIN algorithm extended with a hidden Markov model (HMM).\n",
    "\n",
    "First we investigate the YIN algorithm and its realtime capability and then we develop the pYIN version from it.\n",
    "\n",
    "\n",
    "## YIN\n",
    "\n",
    "The YIN pitch-tracking algorithm consists of 6 steps based on the autocorrelation method of $f_0$ analysis.\n",
    "Each step reduces the error rate of the algorithm and provides the basis for the next step.\n",
    "The steps are:\n",
    "\n",
    "1. $r_t(\\tau)$ autocorrelation function\n",
    "\n",
    "2. $d_t(\\tau)$ difference function\n",
    "\n",
    "3. $d_t'(\\tau)$ cummulative mean normalized difference function\n",
    "\n",
    "4. get the minima under the absolute threshold\n",
    "\n",
    "5. parabolic interpolation around the minima\n",
    "\n",
    "6. best estimate\n",
    "\n",
    "\n",
    "### 1. Autocorrelation function (ACF)\n",
    "\n",
    "There are two versions of the autocorrelation function used in signal processing.\n",
    "We use the following:\n",
    "\n",
    "$$r_t(\\tau) = \\sum_{j = t+1}^{t+W} x_j \\, x_{j+\\tau}$$\n",
    "\n",
    "$x_t$ ... discrete signal\n",
    "\n",
    "$\\tau$ ... time lag\n",
    "\n",
    "$t$ ... time index\n",
    "\n",
    "$W$ ... integration window size"
   ]
  },
  {
   "cell_type": "code",
   "execution_count": null,
   "metadata": {},
   "outputs": [],
   "source": [
    "import numpy as np\n",
    "import matplotlib.pyplot as plt\n",
    "import librosa"
   ]
  },
  {
   "cell_type": "code",
   "execution_count": null,
   "metadata": {},
   "outputs": [],
   "source": [
    "# let's start with a block of a sine signal\n",
    "fs = 44100 # sample rate\n",
    "W = 1024   # number of samples in the block\n",
    "\n",
    "f = 500\n",
    "t = np.linspace(0, W/fs, W)\n",
    "x = np.sin(2*np.pi*f*t)\n",
    "\n",
    "print(\"The period is\", fs//f, \"samples.\")\n",
    "\n",
    "plt.rcParams['figure.figsize'] = [15, 3]\n",
    "plt.plot(x)\n",
    "plt.show()"
   ]
  },
  {
   "cell_type": "code",
   "execution_count": null,
   "metadata": {},
   "outputs": [],
   "source": [
    "# compute the autocorrelation\n",
    "r = np.correlate(x, x, \"full\")\n",
    "\n",
    "plt.plot(r)\n",
    "plt.show()"
   ]
  },
  {
   "cell_type": "markdown",
   "metadata": {},
   "source": [
    "We see, that this is the second more commonly used correlation implementation, which is not used in YIN."
   ]
  },
  {
   "cell_type": "markdown",
   "metadata": {},
   "source": [
    "### 2. Difference function\n",
    "\n",
    "$$d_t(\\tau) = \\sum_{j = 1}^{W} (x_j - x_{j+\\tau})^2 = r_t(0) + r_{t+\\tau}(0) - 2r_t(\\tau)$$\n",
    "\n",
    "The difference function can be obtained from the correlation but since this is the wrong implementation, we can compute it directly from the formula above.\n",
    "We have a *YIN analysis block size* $a_{len}$ and the maximum period $\\tau_{max}$ for a minimum frequency $f_{0,min}$.\n",
    "The actual processed block is of length $a_{len} + \\tau_{max}$.\n",
    "For a longer signal, we would do block processing with a *hop-size*.\n",
    "This implementation is inspired by DAFX by Udo Zölzer."
   ]
  },
  {
   "cell_type": "code",
   "execution_count": null,
   "metadata": {},
   "outputs": [],
   "source": [
    "def differenceFunction(x, a_len, tau_max):\n",
    "    d = np.zeros(tau_max)\n",
    "    for tau in range(tau_max):\n",
    "        for j in range(a_len):\n",
    "            d[tau] += (x[j] - x[j+tau])**2\n",
    "    return d"
   ]
  },
  {
   "cell_type": "code",
   "execution_count": null,
   "metadata": {},
   "outputs": [],
   "source": [
    "a_len = 512 # YIN analysis length\n",
    "\n",
    "f0_min = 100 # minimum frequency\n",
    "tau_max = fs//f0_min\n",
    "print(\"tau_max:\", tau_max)\n",
    "\n",
    "# get one block from the signal\n",
    "x_block = x[:a_len+tau_max]\n",
    "\n",
    "d = differenceFunction(x_block, a_len, tau_max)\n",
    "\n",
    "plt.plot(d)\n",
    "plt.show()"
   ]
  },
  {
   "cell_type": "markdown",
   "metadata": {},
   "source": [
    "The minima are at zero and at $n \\cdot T$ of $x_j$ but the function is amplitude dependent, so we need normalization.\n",
    "\n",
    "### 3. Cumulative mean normalized difference function\n",
    "\n",
    "$$\n",
    "d_t'(\\tau) = \\left\\{ \\begin{array}{ll} 1 \\quad if \\quad \\tau = 0 \\\\ \\frac{d_t(\\tau)}{\\frac{1}{\\tau} \\sum_{j = 1}^{\\tau} d_t(j) } \\end{array} \\right.\n",
    "$$"
   ]
  },
  {
   "cell_type": "code",
   "execution_count": null,
   "metadata": {},
   "outputs": [],
   "source": [
    "def CMNDF(d, tau_max):\n",
    "    d_norm = np.zeros(tau_max)\n",
    "    d_norm[0] = 1\n",
    "    d_sum = 0\n",
    "    \n",
    "    for tau in range(1, tau_max):\n",
    "        d_sum += d[tau]\n",
    "        d_norm[tau] = d[tau] * (tau/d_sum) # rearranged formula\n",
    "    return d_norm"
   ]
  },
  {
   "cell_type": "code",
   "execution_count": null,
   "metadata": {},
   "outputs": [],
   "source": [
    "d_norm = CMNDF(d, tau_max)\n",
    "\n",
    "plt.plot(d_norm)\n",
    "plt.show()"
   ]
  },
  {
   "cell_type": "markdown",
   "metadata": {},
   "source": [
    "This function is independent of amplitude and the first minimum is at the period $T$.\n",
    "\n",
    "\n",
    "### 4. Get the minima under the absolute threshold\n",
    "\n",
    "Now we calculate the  first minimum below a threshold to get the period estimate and from it the fundamental frequency estimate of the signal."
   ]
  },
  {
   "cell_type": "code",
   "execution_count": null,
   "metadata": {},
   "outputs": [],
   "source": [
    "def get_first_min(d_norm, threshold, tau_max):\n",
    "    tau = 0\n",
    "\n",
    "    while tau < tau_max:\n",
    "        if d_norm[tau] < threshold:\n",
    "            # search turning point\n",
    "            while d_norm[tau + 1] < d_norm[tau]:\n",
    "                tau += 1\n",
    "            return tau\n",
    "        else:\n",
    "            tau += 1\n",
    "    # if no pitch detected\n",
    "    tau = np.nan\n",
    "    return tau"
   ]
  },
  {
   "cell_type": "code",
   "execution_count": null,
   "metadata": {},
   "outputs": [],
   "source": [
    "threshold = 0.1\n",
    "tau = get_first_min(d_norm, threshold, tau_max)\n",
    "\n",
    "f_0 = fs / tau\n",
    "print(\"tau:\", tau, \"f_0:\", f_0)"
   ]
  },
  {
   "cell_type": "markdown",
   "metadata": {},
   "source": [
    "### 5. Parabolic interpolation\n",
    "\n",
    "To refine the esimate, the \"local minimum and its immediate neighbours are fit by a parabola.\"\n",
    "\n",
    "The following code is taken from the pYIN implementation by Matthias Mauch."
   ]
  },
  {
   "cell_type": "code",
   "execution_count": null,
   "metadata": {},
   "outputs": [],
   "source": [
    "def parabolicInterpolation(buffer, tau):\n",
    "    if tau == d_norm.size:\n",
    "        return tau\n",
    "    \n",
    "    better_tau = 0\n",
    "    if tau > 0 and tau < buffer.size - 1:\n",
    "        s0 = buffer[tau - 1]\n",
    "        s1 = buffer[tau]\n",
    "        s2 = buffer[tau + 1]\n",
    "        \n",
    "        adjustment = (s2 - s0) / (2 * (2*s1 - s2 - s0))\n",
    "        if abs(adjustment) > 1:\n",
    "            adjustment = 0\n",
    "        \n",
    "        better_tau = tau + adjustment\n",
    "    else:\n",
    "        better_tau = tau\n",
    "    return better_tau"
   ]
  },
  {
   "cell_type": "code",
   "execution_count": null,
   "metadata": {},
   "outputs": [],
   "source": [
    "if tau != 0:\n",
    "    better_tau = parabolicInterpolation(d_norm, tau)\n",
    "    better_f_0 = fs / better_tau\n",
    "else:\n",
    "    better_tau = 0\n",
    "    better_f_0 = 0\n",
    "\n",
    "print(\"better_tau:\", tau, \", better_f_0:\", f_0)"
   ]
  },
  {
   "cell_type": "markdown",
   "metadata": {},
   "source": [
    "### 6. Best local estimate\n",
    "\n",
    "The paper describes a method similar to \"median smoothing or dynamic programming techniques\" to pick the best local estimate.\n",
    "In practice, this is not used in the implementations (librosa, pYIN by Mauch)\n",
    "\n",
    "\n",
    "## The YIN algorithm\n",
    "\n",
    "So that is the final YIN algorithm:"
   ]
  },
  {
   "cell_type": "code",
   "execution_count": null,
   "metadata": {},
   "outputs": [],
   "source": [
    "def yin(x, fs, fmin=100, hop_size=1024, threshold=0.1):\n",
    "    \"\"\"The YIN pitch-tracking algorithm\"\"\"\n",
    "    \n",
    "    tau_max = round(fs/f0_min)\n",
    "    yin_size = 2*tau_max\n",
    "    \n",
    "    f0 = []\n",
    "    for i in range(x.size // hop_size - 1):\n",
    "        x_block = x[i*hop_size : (i+1) * hop_size]\n",
    "        d = differenceFunction(x_block, yin_size, tau_max)\n",
    "        d_norm = CMNDF(d, tau_max)\n",
    "        tau = get_first_min(d_norm, threshold, tau_max)\n",
    "        \n",
    "        if tau != 0:\n",
    "            better_tau = parabolicInterpolation(d_norm, tau)\n",
    "            better_f0 = fs / better_tau\n",
    "        else:\n",
    "            better_tau = 0\n",
    "            better_f0 = 0\n",
    "        \n",
    "        f0.append(better_f0)\n",
    "    \n",
    "    return np.asarray(f0)"
   ]
  },
  {
   "cell_type": "code",
   "execution_count": null,
   "metadata": {
    "scrolled": true
   },
   "outputs": [],
   "source": [
    "x, fs = librosa.load(\"../../samples/Toms_diner.wav\")\n",
    "\n",
    "f0 = yin(x, fs)\n",
    "\n",
    "plt.plot(f0)\n",
    "plt.show()"
   ]
  },
  {
   "cell_type": "markdown",
   "metadata": {},
   "source": [
    "### Real-time use\n",
    "\n",
    "The minimum check of the CMNDF can be done as soon as a block of $T_{max}$ samples is available.\n",
    "This would lead to a variable and sometimes smaller latency than $t_{lat} = 2T_{max}$ in the range of $t_{lat} = T_{max} + T$.\n"
   ]
  }
 ],
 "metadata": {
  "kernelspec": {
   "display_name": "Python 3",
   "language": "python",
   "name": "python3"
  },
  "language_info": {
   "codemirror_mode": {
    "name": "ipython",
    "version": 3
   },
   "file_extension": ".py",
   "mimetype": "text/x-python",
   "name": "python",
   "nbconvert_exporter": "python",
   "pygments_lexer": "ipython3",
   "version": "3.8.5"
  }
 },
 "nbformat": 4,
 "nbformat_minor": 4
}
